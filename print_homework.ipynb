{
  "nbformat": 4,
  "nbformat_minor": 0,
  "metadata": {
    "colab": {
      "name": "print_homework.ipynb",
      "provenance": [],
      "authorship_tag": "ABX9TyNj5mkpCQBhMXgRYDU16cPh",
      "include_colab_link": true
    },
    "kernelspec": {
      "name": "python3",
      "display_name": "Python 3"
    },
    "language_info": {
      "name": "python"
    }
  },
  "cells": [
    {
      "cell_type": "markdown",
      "metadata": {
        "id": "view-in-github",
        "colab_type": "text"
      },
      "source": [
        "<a href=\"https://colab.research.google.com/github/MuhammadAmin7860/Python_basic/blob/main/print_homework.ipynb\" target=\"_parent\"><img src=\"https://colab.research.google.com/assets/colab-badge.svg\" alt=\"Open In Colab\"/></a>"
      ]
    },
    {
      "cell_type": "code",
      "execution_count": null,
      "metadata": {
        "colab": {
          "base_uri": "https://localhost:8080/"
        },
        "id": "L3mgOf7U87QX",
        "outputId": "2c616aab-d196-4de6-a2cf-1436ec431ed6"
      },
      "outputs": [
        {
          "output_type": "stream",
          "name": "stdout",
          "text": [
            "  ) \n",
            " (  \n",
            "[_])\n"
          ]
        }
      ],
      "source": [
        "print(\"  ) \")\n",
        "print(\" (  \")\n",
        "print(\"[_])\")"
      ]
    },
    {
      "cell_type": "code",
      "source": [
        "print(\" = \", \"/ \\ \", \") (\", \"[_]\", sep=\"\\n\")"
      ],
      "metadata": {
        "colab": {
          "base_uri": "https://localhost:8080/"
        },
        "id": "g9BfSOFF-cD-",
        "outputId": "a13fdeb6-e4b6-47aa-cd41-3b31ea0a9c79"
      },
      "execution_count": null,
      "outputs": [
        {
          "output_type": "stream",
          "name": "stdout",
          "text": [
            " = \n",
            "/ \\ \n",
            ") (\n",
            "[_]\n"
          ]
        }
      ]
    },
    {
      "cell_type": "code",
      "source": [
        "print(\" = \")\n",
        "print(\"/ \\ \")\n",
        "print(\") (\")\n",
        "print(\"[_]\")"
      ],
      "metadata": {
        "colab": {
          "base_uri": "https://localhost:8080/"
        },
        "id": "Pgo0t5Kd9Yly",
        "outputId": "4dd8ee1c-d0cf-4443-d6d4-1567dbba2a67"
      },
      "execution_count": null,
      "outputs": [
        {
          "output_type": "stream",
          "name": "stdout",
          "text": [
            " = \n",
            "/ \\ \n",
            ") (\n",
            "[_]\n"
          ]
        }
      ]
    },
    {
      "cell_type": "code",
      "source": [
        "print(\" = \", \"/ \\ \", \") (\", \"[_]\", sep=\"\\n\")"
      ],
      "metadata": {
        "colab": {
          "base_uri": "https://localhost:8080/"
        },
        "id": "uFNNY046-cwP",
        "outputId": "84466e30-04e3-464a-cb61-8ca0ec362da5"
      },
      "execution_count": null,
      "outputs": [
        {
          "output_type": "stream",
          "name": "stdout",
          "text": [
            " = \n",
            "/ \\ \n",
            ") (\n",
            "[_]\n"
          ]
        }
      ]
    },
    {
      "cell_type": "code",
      "source": [
        "print(\"( - )\")\n",
        "print(\" ) (\")"
      ],
      "metadata": {
        "colab": {
          "base_uri": "https://localhost:8080/"
        },
        "id": "tJNzBgU59ab4",
        "outputId": "a1201a83-f4ca-4ca1-f9e0-a42df7c7e113"
      },
      "execution_count": null,
      "outputs": [
        {
          "output_type": "stream",
          "name": "stdout",
          "text": [
            "( - )\n",
            " ) (\n"
          ]
        }
      ]
    },
    {
      "cell_type": "code",
      "source": [
        "print(\"( - )\", \" ) (\", sep=\"\\n\")"
      ],
      "metadata": {
        "colab": {
          "base_uri": "https://localhost:8080/"
        },
        "id": "XFuZzq8t-dRS",
        "outputId": "2a8e1f46-5c44-47cd-e734-50e305763bb9"
      },
      "execution_count": null,
      "outputs": [
        {
          "output_type": "stream",
          "name": "stdout",
          "text": [
            "( - )\n",
            " ) (\n"
          ]
        }
      ]
    },
    {
      "cell_type": "code",
      "source": [
        "print(\"  *  \")\n",
        "print(\" * * \")\n",
        "print(\"* * *\")"
      ],
      "metadata": {
        "colab": {
          "base_uri": "https://localhost:8080/"
        },
        "id": "rdP4AHny912j",
        "outputId": "21c80fde-e9b9-47b6-d379-d1f04c400920"
      },
      "execution_count": null,
      "outputs": [
        {
          "output_type": "stream",
          "name": "stdout",
          "text": [
            "* * *\n"
          ]
        }
      ]
    },
    {
      "cell_type": "code",
      "source": [
        "print(\"  *  \", \" * * \", \"* * *\", sep=\"\\n\")"
      ],
      "metadata": {
        "colab": {
          "base_uri": "https://localhost:8080/"
        },
        "id": "TlKv8sNh-dlr",
        "outputId": "29aa3fd8-3b5c-43a9-fa49-e1b28c9ff6ad"
      },
      "execution_count": null,
      "outputs": [
        {
          "output_type": "stream",
          "name": "stdout",
          "text": [
            "  *  \n",
            " * * \n",
            "* * *\n"
          ]
        }
      ]
    },
    {
      "cell_type": "code",
      "source": [
        "print(\"  A  \")\n",
        "print(\" B B \")\n",
        "print(\"C C C\")"
      ],
      "metadata": {
        "colab": {
          "base_uri": "https://localhost:8080/"
        },
        "id": "ZoZ-kaVx9bD-",
        "outputId": "bf4a8f14-eb90-4d2c-9155-b2689bce431c"
      },
      "execution_count": null,
      "outputs": [
        {
          "output_type": "stream",
          "name": "stdout",
          "text": [
            "  A  \n",
            " B B \n",
            "C C C\n"
          ]
        }
      ]
    },
    {
      "cell_type": "code",
      "source": [
        "print(\"  A  \", \" B B \", \"C C C\", sep=\"\\n\")"
      ],
      "metadata": {
        "colab": {
          "base_uri": "https://localhost:8080/"
        },
        "id": "Z2llu_Ei9bMD",
        "outputId": "dbe00778-e00b-42ee-e3af-4ad67e0b5e48"
      },
      "execution_count": null,
      "outputs": [
        {
          "output_type": "stream",
          "name": "stdout",
          "text": [
            "  A  \n",
            " B B \n",
            "C C C\n"
          ]
        }
      ]
    },
    {
      "cell_type": "code",
      "source": [
        ""
      ],
      "metadata": {
        "id": "F69_xu3b9bfC"
      },
      "execution_count": null,
      "outputs": []
    }
  ]
}