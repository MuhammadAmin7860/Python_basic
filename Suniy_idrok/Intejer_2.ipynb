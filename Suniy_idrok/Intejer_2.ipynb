{
  "nbformat": 4,
  "nbformat_minor": 0,
  "metadata": {
    "colab": {
      "name": "Intejer_2.ipynb",
      "provenance": [],
      "collapsed_sections": []
    },
    "kernelspec": {
      "name": "python3",
      "display_name": "Python 3"
    },
    "language_info": {
      "name": "python"
    }
  },
  "cells": [
    {
      "cell_type": "code",
      "execution_count": null,
      "metadata": {
        "colab": {
          "base_uri": "https://localhost:8080/"
        },
        "id": "MfcSW2o6pD9g",
        "outputId": "1a42066a-ec35-42f7-9263-c049a983d0c8"
      },
      "outputs": [
        {
          "output_type": "stream",
          "name": "stdout",
          "text": [
            "Enter the centimeters: L = 786\n",
            "Included meter: C = 7\n"
          ]
        }
      ],
      "source": [
        "# Intejer 1\n",
        "L = int(input(\"Enter the centimeters: L = \"))\n",
        "print(f\"Included meter: {L // 100}\")"
      ]
    },
    {
      "cell_type": "code",
      "source": [
        "# Intejer 2\n",
        "M = int(input(\"Enter the kilogram: M = \"))\n",
        "print(f\"Included ton: {M // 1000}\")"
      ],
      "metadata": {
        "colab": {
          "base_uri": "https://localhost:8080/"
        },
        "id": "6rwmtGI3y8vs",
        "outputId": "f29cc79b-67d8-40f9-ad63-75b43fb0f759"
      },
      "execution_count": null,
      "outputs": [
        {
          "output_type": "stream",
          "name": "stdout",
          "text": [
            "Enter the kilogram: M = 7860\n",
            "Included ton: T = 7\n"
          ]
        }
      ]
    },
    {
      "cell_type": "code",
      "source": [
        "# Intejer 3\n",
        "M = int(input(\"Enter the bayt: M = \"))\n",
        "print(f\"Included kilobayt: {M // 1024}\")"
      ],
      "metadata": {
        "colab": {
          "base_uri": "https://localhost:8080/"
        },
        "id": "jouRoUIc0bVZ",
        "outputId": "6ae7ad88-cf44-4b32-c143-d8a72add731c"
      },
      "execution_count": null,
      "outputs": [
        {
          "output_type": "stream",
          "name": "stdout",
          "text": [
            "Enter the bayt: M = 7860\n",
            "Included kilobayt: K = 7\n"
          ]
        }
      ]
    },
    {
      "cell_type": "code",
      "source": [
        "# Intejer 4\n",
        "A = int(input(\"Please enter a positive number: A = \"))\n",
        "B = int(input(\"Please enter a positive number: (A > B) B = \"))\n",
        "print(f\"Piece: {A // B}\")"
      ],
      "metadata": {
        "colab": {
          "base_uri": "https://localhost:8080/"
        },
        "id": "ytpwUoAu0z1v",
        "outputId": "e5632e5a-d224-47b4-b861-03acc9bbab60"
      },
      "execution_count": null,
      "outputs": [
        {
          "output_type": "stream",
          "name": "stdout",
          "text": [
            "Please enter a positive number: A = 8\n",
            "Please enter a positive number: (A > B) B = 3\n",
            "Piece: K = 2\n"
          ]
        }
      ]
    },
    {
      "cell_type": "code",
      "source": [
        "# Intejer 5\n",
        "A = int(input(\"Please enter a positive number: A = \"))\n",
        "B = int(input(\"Please enter a positive number: (A > B) B = \"))\n",
        "print(f\"Piece: P {A // B}, Residual: {A % B}\")"
      ],
      "metadata": {
        "colab": {
          "base_uri": "https://localhost:8080/"
        },
        "id": "FLn_OwED3Kqs",
        "outputId": "f128a5db-3997-436c-edef-6b45338dbce0"
      },
      "execution_count": null,
      "outputs": [
        {
          "output_type": "stream",
          "name": "stdout",
          "text": [
            "Please enter a positive number: A = 10\n",
            "Please enter a positive number: (A > B) B = 3\n",
            "Piece: P = 3, Residual: R = 1\n"
          ]
        }
      ]
    },
    {
      "cell_type": "code",
      "source": [
        "# Intejer 6\n",
        "A = int(input(\"Please enter a two-digit number: A = \"))\n",
        "print(f\"Tens: {A // 10}, Uniyts: {A % 10}\")"
      ],
      "metadata": {
        "colab": {
          "base_uri": "https://localhost:8080/"
        },
        "id": "9v0bKVRK4Ah2",
        "outputId": "5dce1437-866a-4e43-baea-dcf2db7b8c76"
      },
      "execution_count": null,
      "outputs": [
        {
          "output_type": "stream",
          "name": "stdout",
          "text": [
            "Please enter a two-digit number: A = 78\n",
            "Tens: 7, Uniyts: 8\n"
          ]
        }
      ]
    },
    {
      "cell_type": "code",
      "source": [
        "# Intejer 7\n",
        "A = int(input(\"Please enter a two-digit number: A = \"))\n",
        "\n",
        "N = A \n",
        "\n",
        "N10 = A // 10\n",
        "A -= N10 * 10\n",
        "\n",
        "N1 = A // 1\n",
        "A -= N1 * 1\n",
        "print(f\"The number {N} is the sum of the numbers: {N10 + N1}\")"
      ],
      "metadata": {
        "colab": {
          "base_uri": "https://localhost:8080/"
        },
        "id": "7zZAXz3t4Ae3",
        "outputId": "3511de30-24e3-4e51-caad-1edaaf35b453"
      },
      "execution_count": null,
      "outputs": [
        {
          "output_type": "stream",
          "name": "stdout",
          "text": [
            "Please enter a two-digit number: A = 78\n",
            "The number 78 is the sum of the numbers: 15\n"
          ]
        }
      ]
    },
    {
      "cell_type": "code",
      "source": [
        "# Intejer 8\n",
        "A = int(input(\"Please enter a two-digit number: A = \"))\n",
        "\n",
        "N = A \n",
        "\n",
        "N10 = A // 10\n",
        "A -= N10 * 10\n",
        "\n",
        "N1 = A // 1\n",
        "A -= N1 * 1\n",
        "print(f\"The numbers of {N} are interchanged: {N10 * 1 + N1 * 10}\")"
      ],
      "metadata": {
        "colab": {
          "base_uri": "https://localhost:8080/"
        },
        "id": "0MaJbiKs4AcE",
        "outputId": "b728f74e-b3c3-4e04-d95e-1dddb98be21d"
      },
      "execution_count": null,
      "outputs": [
        {
          "output_type": "stream",
          "name": "stdout",
          "text": [
            "Please enter a two-digit number: A = 78\n",
            "The numbers of 78 are interchanged: 87\n"
          ]
        }
      ]
    },
    {
      "cell_type": "code",
      "source": [
        "# Intejer 9\n",
        "A = int(input(\"Please enter a two-digit number: A = \"))\n",
        "\n",
        "N = A \n",
        "\n",
        "N100 = A // 100\n",
        "A -= N100 * 100\n",
        "\n",
        "N10 = A // 10\n",
        "A -= N10 * 10\n",
        "\n",
        "N1 = A // 1\n",
        "A -= N1 * 1\n",
        "\n",
        "print(f\"The number {N} is the number in the hundredths room: {N100}\")"
      ],
      "metadata": {
        "colab": {
          "base_uri": "https://localhost:8080/"
        },
        "id": "wITkyHiD4AZD",
        "outputId": "f3f8ac2e-7bb9-4601-f757-f43be0ec422d"
      },
      "execution_count": null,
      "outputs": [
        {
          "output_type": "stream",
          "name": "stdout",
          "text": [
            "Please enter a two-digit number: A = 786\n",
            "The number 786 is the number in the hundredths room: 7\n"
          ]
        }
      ]
    },
    {
      "cell_type": "code",
      "source": [
        "# Intejer 10\n",
        "A = int(input(\"Please enter a three-digit number: A = \"))\n",
        "\n",
        "N = A \n",
        "\n",
        "N100 = A // 100\n",
        "A -= N100 * 100\n",
        "\n",
        "N10 = A // 10\n",
        "A -= N10 * 10\n",
        "\n",
        "N1 = A // 1\n",
        "A -= N1 * 1\n",
        "\n",
        "print(f\"Numbers: N1 = {N1}, N10 = {N10}\")"
      ],
      "metadata": {
        "id": "dHwPvdiy4AMO",
        "colab": {
          "base_uri": "https://localhost:8080/"
        },
        "outputId": "46fdc2eb-2280-4e89-a284-a73228fd367b"
      },
      "execution_count": null,
      "outputs": [
        {
          "output_type": "stream",
          "name": "stdout",
          "text": [
            "Please enter a three-digit number: A = 786\n",
            "Numbers: N1 = 6, N10 = 8\n"
          ]
        }
      ]
    },
    {
      "cell_type": "code",
      "source": [
        "# Intejer 11\n",
        "A = int(input(\"Please enter a three-digit number: A = \"))\n",
        "\n",
        "N = A \n",
        "\n",
        "N100 = A // 100\n",
        "A -= N100 * 100\n",
        "\n",
        "N10 = A // 10\n",
        "A -= N10 * 10\n",
        "\n",
        "N1 = A // 1\n",
        "A -= N1 * 1\n",
        "\n",
        "print(f\"Numbers: summ = {N1 + N10 + N100}\")"
      ],
      "metadata": {
        "colab": {
          "base_uri": "https://localhost:8080/"
        },
        "id": "mDCuPGs9gAlA",
        "outputId": "a5473b9d-783d-4f22-fb5e-298b090e7e23"
      },
      "execution_count": null,
      "outputs": [
        {
          "output_type": "stream",
          "name": "stdout",
          "text": [
            "Please enter a three-digit number: A = 786\n",
            "Numbers: summ = 21\n"
          ]
        }
      ]
    },
    {
      "cell_type": "code",
      "source": [
        "# Intejer 12\n",
        "A = int(input(\"Please enter a three-digit number: A = \"))\n",
        "\n",
        "N = A \n",
        "\n",
        "N100 = A // 100\n",
        "A -= N100 * 100\n",
        "\n",
        "N10 = A // 10\n",
        "A -= N10 * 10\n",
        "\n",
        "N1 = A // 1\n",
        "A -= N1 * 1\n",
        "\n",
        "print(f\"Numbers: summ = {N1 * 100 + N10 * 10 + N100}\")"
      ],
      "metadata": {
        "colab": {
          "base_uri": "https://localhost:8080/"
        },
        "id": "_c-bIUS0gQXY",
        "outputId": "999e7033-2b7e-4214-9426-c639b7e0b0f5"
      },
      "execution_count": null,
      "outputs": [
        {
          "output_type": "stream",
          "name": "stdout",
          "text": [
            "Please enter a three-digit number: A = 786\n",
            "Numbers: summ = 687\n"
          ]
        }
      ]
    },
    {
      "cell_type": "code",
      "source": [
        "# Intejer 13\n",
        "A = int(input(\"Please enter a three-digit number: A = \"))\n",
        "\n",
        "N = A \n",
        "\n",
        "N100 = A // 100\n",
        "A -= N100 * 100\n",
        "\n",
        "N10 = A // 10\n",
        "A -= N10 * 10\n",
        "\n",
        "N1 = A // 1\n",
        "A -= N1 * 1\n",
        "\n",
        "print(f\"Numbers: summ = {N1 * 10 + N10 * 100 + N100}\")"
      ],
      "metadata": {
        "colab": {
          "base_uri": "https://localhost:8080/"
        },
        "id": "WPv3iyeJgQU-",
        "outputId": "7ba855fe-ba94-4872-bb6a-4d74880e1b60"
      },
      "execution_count": null,
      "outputs": [
        {
          "output_type": "stream",
          "name": "stdout",
          "text": [
            "Please enter a three-digit number: A = 786\n",
            "Numbers: summ = 867\n"
          ]
        }
      ]
    },
    {
      "cell_type": "code",
      "source": [
        "# Intejer 14\n",
        "A = int(input(\"Please enter a three-digit number: A = \"))\n",
        "\n",
        "N = A \n",
        "\n",
        "N100 = A // 100\n",
        "A -= N100 * 100\n",
        "\n",
        "N10 = A // 10\n",
        "A -= N10 * 10\n",
        "\n",
        "N1 = A // 1\n",
        "A -= N1 * 1\n",
        "\n",
        "print(f\"Numbers: summ = {N1 * 100 + N10 + N100 * 10}\")"
      ],
      "metadata": {
        "colab": {
          "base_uri": "https://localhost:8080/"
        },
        "id": "6n1utpfpgQSH",
        "outputId": "a30173f4-650b-49e1-a1ec-0a30ef098a32"
      },
      "execution_count": null,
      "outputs": [
        {
          "output_type": "stream",
          "name": "stdout",
          "text": [
            "Please enter a three-digit number: A = 786\n",
            "Numbers: summ = 678\n"
          ]
        }
      ]
    },
    {
      "cell_type": "code",
      "source": [
        "# Intejer 15\n",
        "A = int(input(\"Please enter a three-digit number: A = \"))\n",
        "\n",
        "N = A \n",
        "\n",
        "N100 = A // 100\n",
        "A -= N100 * 100\n",
        "\n",
        "N10 = A // 10\n",
        "A -= N10 * 10\n",
        "\n",
        "N1 = A // 1\n",
        "A -= N1 * 1\n",
        "\n",
        "print(f\"Numbers: summ = {N1 + N10 * 100 + N100 * 10}\")"
      ],
      "metadata": {
        "colab": {
          "base_uri": "https://localhost:8080/"
        },
        "id": "TFv-4HO2gQPg",
        "outputId": "151a94d1-f7c9-4cbf-81df-4e5b5ebb0e14"
      },
      "execution_count": null,
      "outputs": [
        {
          "output_type": "stream",
          "name": "stdout",
          "text": [
            "Please enter a three-digit number: A = 786\n",
            "Numbers: summ = 876\n"
          ]
        }
      ]
    },
    {
      "cell_type": "code",
      "source": [
        "# Intejer 16\n",
        "A = int(input(\"Please enter a three-digit number: A = \"))\n",
        "\n",
        "N = A \n",
        "\n",
        "N100 = A // 100\n",
        "A -= N100 * 100\n",
        "\n",
        "N10 = A // 10\n",
        "A -= N10 * 10\n",
        "\n",
        "N1 = A // 1\n",
        "A -= N1 * 1\n",
        "\n",
        "print(f\"Numbers: summ = {N1 * 10 + N10 + N100 * 100}\")"
      ],
      "metadata": {
        "colab": {
          "base_uri": "https://localhost:8080/"
        },
        "id": "Or6jfybKgQM0",
        "outputId": "b62958ca-6d8f-43e6-c240-55517330d3e7"
      },
      "execution_count": null,
      "outputs": [
        {
          "output_type": "stream",
          "name": "stdout",
          "text": [
            "Please enter a three-digit number: A = 786\n",
            "Numbers: summ = 768\n"
          ]
        }
      ]
    },
    {
      "cell_type": "code",
      "source": [
        "# Intejer 17\n",
        "A = int(input(\"Please enter a four-digit number: A = \"))\n",
        "\n",
        "A = A // 100 % 10\n",
        "\n",
        "print(f\"A four-digit number is a hundredths number: A = {A}\")"
      ],
      "metadata": {
        "colab": {
          "base_uri": "https://localhost:8080/"
        },
        "id": "Wwrq53GDgQKB",
        "outputId": "c0d48259-d63d-4b6f-82b0-7f23b360396d"
      },
      "execution_count": null,
      "outputs": [
        {
          "output_type": "stream",
          "name": "stdout",
          "text": [
            "Please enter a four-digit number: A = 7860\n",
            "A four-digit number is a hundredths number: A = 8\n"
          ]
        }
      ]
    },
    {
      "cell_type": "code",
      "source": [
        "# Intejer 18\n",
        "A = int(input(\"Please enter a four-digit number: A = \"))\n",
        "\n",
        "A = A // 1000 % 100\n",
        "\n",
        "print(f\"A four-digit number is a hundredths number: A = {A}\")"
      ],
      "metadata": {
        "colab": {
          "base_uri": "https://localhost:8080/"
        },
        "id": "1lZ8XCAUgQCo",
        "outputId": "a348b3d0-4bcd-4fda-f71a-fba9d3ee6343"
      },
      "execution_count": null,
      "outputs": [
        {
          "output_type": "stream",
          "name": "stdout",
          "text": [
            "Please enter a four-digit number: A = 7860\n",
            "A four-digit number is a hundredths number: A = 7\n"
          ]
        }
      ]
    },
    {
      "cell_type": "code",
      "source": [
        "# Intejer 19\n",
        "N = int(input(\"Please enter the second: N = \"))\n",
        "\n",
        "N = N // 60\n",
        "\n",
        "print(f\"The time since the beginning of the day: N = {N}\")"
      ],
      "metadata": {
        "colab": {
          "base_uri": "https://localhost:8080/"
        },
        "id": "0ymYF4Rui-eX",
        "outputId": "e7ad3309-48a7-4526-f830-bdbefe47cddd"
      },
      "execution_count": null,
      "outputs": [
        {
          "output_type": "stream",
          "name": "stdout",
          "text": [
            "Please enter the second: A = 7860\n",
            "The time since the beginning of the day: A = 131\n"
          ]
        }
      ]
    },
    {
      "cell_type": "code",
      "source": [
        "# Intejer 20\n",
        "N = int(input(\"Please enter the second: N = \"))\n",
        "\n",
        "S = N % 60\n",
        "N //= 60\n",
        "\n",
        "M = N % 60\n",
        "N //= 60\n",
        "\n",
        "H = N % 60\n",
        "N //= 60\n",
        "\n",
        "print(f\"The time since the beginning of the day: S = {S}\")"
      ],
      "metadata": {
        "colab": {
          "base_uri": "https://localhost:8080/"
        },
        "id": "GZ3xb1vFi-bi",
        "outputId": "48193813-686b-4a7f-d4fc-e8c11952afb9"
      },
      "execution_count": null,
      "outputs": [
        {
          "output_type": "stream",
          "name": "stdout",
          "text": [
            "Please enter the second: N = 7860\n",
            "The time since the beginning of the day: S = 2\n"
          ]
        }
      ]
    },
    {
      "cell_type": "code",
      "source": [
        "# Intejer 21\n",
        "N = int(input(\"Please enter the second: N = \"))\n",
        "\n",
        "S = N % 60\n",
        "N //= 60\n",
        "\n",
        "print(f\"The time since the beginning of the day: M = {N}, S = {S}\")"
      ],
      "metadata": {
        "colab": {
          "base_uri": "https://localhost:8080/"
        },
        "id": "auKzm5Tii-Ys",
        "outputId": "6c71ce70-d0b7-4934-93fa-afa2fe46c52f"
      },
      "execution_count": null,
      "outputs": [
        {
          "output_type": "stream",
          "name": "stdout",
          "text": [
            "Please enter the second: N = 786\n",
            "The time since the beginning of the day: M = 13, S = 6\n"
          ]
        }
      ]
    },
    {
      "cell_type": "code",
      "source": [
        "# Intejer 22\n",
        "N = int(input(\"Please enter the second: N = \"))\n",
        "\n",
        "S = N % 60\n",
        "N //= 60\n",
        "\n",
        "M = N % 60\n",
        "N //= 60\n",
        "\n",
        "H = N % 60\n",
        "N //= 60\n",
        "\n",
        "print(f\"The time since the beginning of the day: H = {H}, S = {S + M * 60}\")"
      ],
      "metadata": {
        "colab": {
          "base_uri": "https://localhost:8080/"
        },
        "id": "oCz6mcMBi-WP",
        "outputId": "7fa81788-eda6-459c-ca4e-b76f8ccc2d01"
      },
      "execution_count": null,
      "outputs": [
        {
          "output_type": "stream",
          "name": "stdout",
          "text": [
            "Please enter the second: N = 7860\n",
            "The time since the beginning of the day: H = 2, S = 660\n"
          ]
        }
      ]
    },
    {
      "cell_type": "code",
      "source": [
        "# Intejer 23\n",
        "N = int(input(\"Please enter the second: N = \"))\n",
        "\n",
        "S = N % 60\n",
        "N //= 60\n",
        "\n",
        "M = N % 60\n",
        "N //= 60\n",
        "\n",
        "H = N % 60\n",
        "N //= 60\n",
        "\n",
        "print(f\"The time since the beginning of the day: H = {H}, M = {M}, S = {S}\")"
      ],
      "metadata": {
        "colab": {
          "base_uri": "https://localhost:8080/"
        },
        "id": "0p3kxrdui-TP",
        "outputId": "8f2363f1-263b-47fc-8c02-0da8fa15c68d"
      },
      "execution_count": null,
      "outputs": [
        {
          "output_type": "stream",
          "name": "stdout",
          "text": [
            "Please enter the second: N = 7861\n",
            "The time since the beginning of the day: H = 2, M = 11, S = 1\n"
          ]
        }
      ]
    },
    {
      "cell_type": "code",
      "source": [
        "# Intejer 24\n",
        "K = int(input(\"Please enter the dates: (K > 365) K = \"))\n",
        "print(f\"If January 1 is a Monday, {K}-day of the year is {K % 7} - day of the week\")"
      ],
      "metadata": {
        "id": "5HVeldARi-Qm",
        "colab": {
          "base_uri": "https://localhost:8080/"
        },
        "outputId": "e1c8a5d9-b97c-426e-8528-c3d1df86ab17"
      },
      "execution_count": 7,
      "outputs": [
        {
          "output_type": "stream",
          "name": "stdout",
          "text": [
            "Please enter the dates: (K > 365) K = 7\n",
            "If January 1 is a Monday, 7-day of the year is 0 - day of the week\n"
          ]
        }
      ]
    },
    {
      "cell_type": "code",
      "source": [
        "# Intejer 25\n",
        "K = int(input(\"Please enter the dates: (K > 365) K = \"))\n",
        "print(f\"If January 1 is a Monday, {K}-day of the year is {K % 7 + 3 } - day of the week\")"
      ],
      "metadata": {
        "colab": {
          "base_uri": "https://localhost:8080/"
        },
        "id": "RjixCkVsi-OA",
        "outputId": "7c4a7b9d-1b2b-4cee-eb7c-a9877657a90c"
      },
      "execution_count": 8,
      "outputs": [
        {
          "output_type": "stream",
          "name": "stdout",
          "text": [
            "Please enter the dates: (K > 365) K = 7\n",
            "If January 1 is a Monday, 7-day of the year is 3 - day of the week\n"
          ]
        }
      ]
    },
    {
      "cell_type": "code",
      "source": [
        "# Intejer 26\n",
        "K = int(input(\"Please enter the dates: (K > 365) K = \"))\n",
        "print(f\"If January 1 is a Monday, {K}-day of the year is {(K + 1) % 7} - day of the week\")"
      ],
      "metadata": {
        "colab": {
          "base_uri": "https://localhost:8080/"
        },
        "id": "MNqWsC7ci-LV",
        "outputId": "f2e48e23-17ed-414f-ec15-7014a8d7c231"
      },
      "execution_count": 20,
      "outputs": [
        {
          "output_type": "stream",
          "name": "stdout",
          "text": [
            "Please enter the dates: (K > 365) K = 7\n",
            "If January 1 is a Monday, 7-day of the year is 1 - day of the week\n"
          ]
        }
      ]
    },
    {
      "cell_type": "code",
      "source": [
        "# Intejer 27\n",
        "K = int(input(\"Please enter the dates: (K > 365) K = \"))\n",
        "print(f\"If January 1 is a Monday, {K}-day of the year is {(K + 7) % 7} - day of the week\")"
      ],
      "metadata": {
        "colab": {
          "base_uri": "https://localhost:8080/"
        },
        "id": "LCdZHK51i-Iu",
        "outputId": "e7486033-f317-4ede-de8e-9bebca1ee7c7"
      },
      "execution_count": 13,
      "outputs": [
        {
          "output_type": "stream",
          "name": "stdout",
          "text": [
            "Please enter the dates: (K > 365) K = 13\n",
            "If January 1 is a Monday, 13-day of the year is 6 - day of the week\n"
          ]
        }
      ]
    },
    {
      "cell_type": "code",
      "source": [
        "# Intejer 28\n",
        "N = int(input(\"Please enter the day of the week: (N > 8) N = \"))\n",
        "K = int(input(\"Please enter the dates: (K > 365) K = \"))\n",
        "print(f\"If January 1 falls on {N} day of the week, then {K}-day is {(K + N - 1) % 7} - day of the week\")"
      ],
      "metadata": {
        "colab": {
          "base_uri": "https://localhost:8080/"
        },
        "id": "LD4I4bwzi-Fj",
        "outputId": "401b5745-bba5-4e7c-aa6d-407ceb5d3bcb"
      },
      "execution_count": 17,
      "outputs": [
        {
          "output_type": "stream",
          "name": "stdout",
          "text": [
            "Please enter the dates: (K > 365) K = 10\n",
            "Please enter the day of the week: (N > 8) N = 4\n",
            "If January 1 falls on 4 day of the week, then 10-day is 6 - day of the week\n"
          ]
        }
      ]
    },
    {
      "cell_type": "code",
      "source": [
        "# Intejer 29\n",
        "A = int(input(\"Please enter the number: A = \"))\n",
        "B = int(input(\"Please enter the number: B = \"))\n",
        "C = int(input(\"Please enter the number: (C > A > B) C = \"))\n",
        "x = A // C\n",
        "y = B // C\n",
        "s = x * y\n",
        "S_rectangle = (A + B) * 2\n",
        "S_square = C ** 2\n",
        "Residual = S_rectangle - S_square * s\n",
        "print(f\"A rectangle holds {s} squares\"\n",
        "      f\"\\nS = {S_rectangle} of a rectangle, S = {S_square} of a square\"\n",
        "      f\"\\nThe remaining face of a regular quadrilateral is {Residual}\")\n"
      ],
      "metadata": {
        "id": "8efWLJzdx-ju",
        "colab": {
          "base_uri": "https://localhost:8080/"
        },
        "outputId": "135a0f1c-8a03-4187-ea2f-4840f7042a54"
      },
      "execution_count": 25,
      "outputs": [
        {
          "output_type": "stream",
          "name": "stdout",
          "text": [
            "Please enter the number: A = 4\n",
            "Please enter the number: B = 5\n",
            "Please enter the number: (C > A > B) C = 2\n",
            "A rectangle holds 4 squares\n",
            "S = 18 of a rectangle, S = 4 of a square\n",
            "The remaining face of a regular quadrilateral is 2\n"
          ]
        }
      ]
    },
    {
      "cell_type": "code",
      "source": [
        "# Intejer 30\n",
        "A = int(input(\"Please enter the year: A = \"))\n",
        "centenary = (A - 1) // 100 + 1\n",
        "print(f\"The given year {centenary} - for a hundred years\")"
      ],
      "metadata": {
        "id": "sWU9WCezx-dj",
        "colab": {
          "base_uri": "https://localhost:8080/"
        },
        "outputId": "e4305322-3bb7-46f0-bbe6-d207737d574a"
      },
      "execution_count": 32,
      "outputs": [
        {
          "output_type": "stream",
          "name": "stdout",
          "text": [
            "Please enter the year: A = 2001\n",
            "The given year 21 - for a hundred years\n"
          ]
        }
      ]
    }
  ]
}