{
  "nbformat": 4,
  "nbformat_minor": 0,
  "metadata": {
    "colab": {
      "provenance": [],
      "collapsed_sections": []
    },
    "kernelspec": {
      "name": "python3",
      "display_name": "Python 3"
    },
    "language_info": {
      "name": "python"
    }
  },
  "cells": [
    {
      "cell_type": "code",
      "execution_count": null,
      "metadata": {
        "colab": {
          "base_uri": "https://localhost:8080/"
        },
        "id": "4e06jRxVTbE_",
        "outputId": "d9a688c5-a87a-434b-eca6-4d2b2eece337"
      },
      "outputs": [
        {
          "output_type": "stream",
          "name": "stdout",
          "text": [
            "Please enter a value: 4\n",
            "Payshanba\n"
          ]
        }
      ],
      "source": [
        "### Case 1\n",
        "\n",
        "day = int(input(\"Please enter a value: \"))\n",
        "\n",
        "if 0 < day and day < 8:\n",
        "  if day == 1: \n",
        "    print(\"Dushanba\")\n",
        "  elif day == 2: \n",
        "    print(\"Seshanba\")\n",
        "  elif day == 3: \n",
        "    print(\"Chorshanba\")\n",
        "  elif day == 4: \n",
        "    print(\"Payshanba\")\n",
        "  elif day == 5: \n",
        "    print(\"Juma\")\n",
        "  elif day == 6: \n",
        "    print(\"Shanba\")\n",
        "  else: \n",
        "    print(\"Yakshanba\")"
      ]
    },
    {
      "cell_type": "code",
      "source": [
        "### Case 2\n",
        "\n",
        "price = int(input(\"Please enter a price: \"))\n",
        "\n",
        "if 0 < price and price < 6:\n",
        "  if price == 1: \n",
        "    print(\"Yomon\")\n",
        "  elif price == 2: \n",
        "    print(\"Qoniqarsiz\")\n",
        "  elif price == 3: \n",
        "    print(\"Qoniqarli\")\n",
        "  elif price == 4: \n",
        "    print(\"Yaxshi\")\n",
        "  elif price == 5: \n",
        "    print(\"A'lo\")\n",
        "else: \n",
        "  print(\"Xato\")"
      ],
      "metadata": {
        "colab": {
          "base_uri": "https://localhost:8080/"
        },
        "id": "L_v24C0fe1p9",
        "outputId": "d38e011c-b46c-4d8c-8a6e-f727b036e1e1"
      },
      "execution_count": null,
      "outputs": [
        {
          "output_type": "stream",
          "name": "stdout",
          "text": [
            "Please enter a value: 4\n",
            "Yaxshi\n"
          ]
        }
      ]
    },
    {
      "cell_type": "code",
      "source": [
        "### Case 3\n",
        "\n",
        "month = int(input(\"Please enter a month: \"))\n",
        "\n",
        "if 0 < month and month < 13:\n",
        "  if 12 == month or month > 3: \n",
        "    print(\"Qish\")\n",
        "  elif 2 < month and month > 6: \n",
        "    print(\"Bahor\")\n",
        "  elif 5 < month and month > 9: \n",
        "    print(\"Yoz\")\n",
        "  elif 8 < month and month > 12: \n",
        "    print(\"Kuz\")\n",
        "else: \n",
        "  print(\"Xato\")"
      ],
      "metadata": {
        "colab": {
          "base_uri": "https://localhost:8080/"
        },
        "id": "3LXmpAX4fswK",
        "outputId": "a9452a9e-308a-4d42-899e-15f1a68ea4ab"
      },
      "execution_count": null,
      "outputs": [
        {
          "output_type": "stream",
          "name": "stdout",
          "text": [
            "Please enter a value: 7\n",
            "Qish\n"
          ]
        }
      ]
    },
    {
      "cell_type": "code",
      "source": [
        "### Case 4\n",
        "\n",
        "month = int(input(\"Please enter a month: \"))\n",
        "\n",
        "if 0 < month and month < 13:\n",
        "  if month == 1 or month == 3 or month == 5 or month == 7 or month == 8 or month == 10 or month == 12: \n",
        "    print(\"This is month 31 days\")\n",
        "  elif month == 4 or month == 6 or month == 9 or month == 11: \n",
        "    print(\"This is month 30 days\")\n",
        "  elif month == 2: \n",
        "    print(\"This is month 28 days\")\n",
        "else: \n",
        "  print(\"Xato\")"
      ],
      "metadata": {
        "colab": {
          "base_uri": "https://localhost:8080/"
        },
        "id": "9qjCk3S7g9XZ",
        "outputId": "a9c987a2-82e7-48b6-e839-346b2e7eee19"
      },
      "execution_count": null,
      "outputs": [
        {
          "output_type": "stream",
          "name": "stdout",
          "text": [
            "Please enter a month: 2\n",
            "This is month 31 days\n"
          ]
        }
      ]
    },
    {
      "cell_type": "code",
      "source": [
        "### Case 5\n",
        "\n",
        "A = int(input(\"Please enter a A: \"))\n",
        "B = int(input(\"Please enter a B: \"))\n",
        "operation = str(input(\"Please enter a operation: \"))\n",
        "\n",
        "if operation == \"+\": \n",
        "  print(f\"{A} + {B} = {A + B}\")\n",
        "elif operation == \"-\": \n",
        "  print(f\"{A} - {B} = {A - B}\")\n",
        "elif operation == \"*\": \n",
        "  print(f\"{A} * {B} = {A * B}\")\n",
        "elif operation == \":\": \n",
        "  print(f\"{A} : {B} = {A : B}\")\n",
        "else: \n",
        "  print(\"Xato\")"
      ],
      "metadata": {
        "colab": {
          "base_uri": "https://localhost:8080/"
        },
        "id": "xXtVZ4LdjSsY",
        "outputId": "379321dd-671f-4328-e7f9-cfff6c3d547e"
      },
      "execution_count": null,
      "outputs": [
        {
          "output_type": "stream",
          "name": "stdout",
          "text": [
            "Please enter a A: 6\n",
            "Please enter a B: 9\n",
            "Please enter a operation: *\n",
            "6 * 9 = 54\n"
          ]
        }
      ]
    },
    {
      "cell_type": "code",
      "source": [
        "### Case 6\n",
        "\n",
        "length = int(input(\"Please enter a length: \"))\n",
        "X = int(input(\"Please enter a X: \"))\n",
        "if length > 0 and length < 6:\n",
        "  if length == 1: \n",
        "    print(f\"The length {X / 10} metr\")\n",
        "  elif length == 2: \n",
        "    print(f\"The length {X * 1000} metr\")\n",
        "  elif length == 3: \n",
        "    print(f\"The length {X} metr\")\n",
        "  elif length == 4: \n",
        "    print(f\"The length {X / 1000} metr\")\n",
        "  elif length == 5: \n",
        "    print(f\"The length {X / 100} metr\")\n",
        "else: \n",
        "  print(\"Error\")"
      ],
      "metadata": {
        "colab": {
          "base_uri": "https://localhost:8080/"
        },
        "id": "RBrJPeaJlDp7",
        "outputId": "0eb75fb2-a5f7-4d16-d443-d6666f978f5f"
      },
      "execution_count": null,
      "outputs": [
        {
          "output_type": "stream",
          "name": "stdout",
          "text": [
            "Please enter a length: 4\n",
            "Please enter a X: 400\n",
            "The length 0.4 metr\n"
          ]
        }
      ]
    },
    {
      "cell_type": "code",
      "source": [
        "### Case 7\n",
        "\n",
        "weight = int(input(\"Please enter a weight: \"))\n",
        "X = int(input(\"Please enter a X: \"))\n",
        "if weight > 0 and weight < 6:\n",
        "  if weight == 1: \n",
        "    print(f\"The weight {X} kg\")\n",
        "  elif weight == 2: \n",
        "    print(f\"The weight {X / 1000 / 1000} kg\")\n",
        "  elif weight == 3: \n",
        "    print(f\"The weight {X / 1000} kg\")\n",
        "  elif weight == 4: \n",
        "    print(f\"The weight {X * 1000} kg\")\n",
        "  elif weight == 5: \n",
        "    print(f\"The weight {X * 100} kg\")\n",
        "else: \n",
        "  print(\"Error\")"
      ],
      "metadata": {
        "colab": {
          "base_uri": "https://localhost:8080/"
        },
        "id": "n5x8W0iSnUbz",
        "outputId": "2cb50473-8937-495d-ec77-5fa1906720fc"
      },
      "execution_count": null,
      "outputs": [
        {
          "output_type": "stream",
          "name": "stdout",
          "text": [
            "Please enter a weight: 2\n",
            "Please enter a X: 100000\n",
            "The weight 0.1 kg\n"
          ]
        }
      ]
    },
    {
      "cell_type": "code",
      "source": [
        "### Case 8\n",
        "\n",
        "D = int(input(\"Please enter a D: \"))\n",
        "M = int(input(\"Please enter a M: \"))\n",
        "\n",
        "if M > 0 and M < 13: \n",
        "  if M == 1: \n",
        "    M = \"Yanvar\"\n",
        "  elif M == 2: \n",
        "     M = \"Fevral\"\n",
        "  elif M == 3: \n",
        "     M = \"Mart\"\n",
        "  elif M == 4: \n",
        "     M = \"Aprel\"\n",
        "  elif M == 5: \n",
        "     M = \"May\"\n",
        "  elif M == 6: \n",
        "     M = \"Iyun\"\n",
        "  elif M == 7: \n",
        "     M = \"Iyul\"\n",
        "  elif M == 8: \n",
        "     M = \"Avgust\"\n",
        "  elif M == 9: \n",
        "     M = \"Sentyabr\"\n",
        "  elif M == 10: \n",
        "     M = \"Oktiyabr\"\n",
        "  elif M == 11: \n",
        "     M = \"Noyabr\"\n",
        "  elif M == 12: \n",
        "     M = \"Dekabr\"\n",
        "  print(f\"{D}-{M}\")\n",
        "else: \n",
        "  print(\"Error\")\n"
      ],
      "metadata": {
        "colab": {
          "base_uri": "https://localhost:8080/"
        },
        "id": "9kMfvVCEoWha",
        "outputId": "78a1e77e-979b-43c9-ce4d-2a5a9fb4c0f0"
      },
      "execution_count": null,
      "outputs": [
        {
          "output_type": "stream",
          "name": "stdout",
          "text": [
            "Please enter a D: 23\n",
            "Please enter a M: 5\n",
            "23-May\n"
          ]
        }
      ]
    },
    {
      "cell_type": "code",
      "source": [
        "### Case 9\n",
        "\n",
        "D = int(input(\"Please enter a D: \"))\n",
        "M = int(input(\"Please enter a M: \"))\n",
        "\n",
        "D += 1\n",
        "\n",
        "if M > 0 and M < 13: \n",
        "  if M == 4 or M == 6 or M == 9 or M == 11: \n",
        "    if D > 30:\n",
        "      M += 1\n",
        "      D = 1\n",
        "  elif M == 2: \n",
        "    if D > 28:\n",
        "      M += 1\n",
        "      D = 1\n",
        "  else:\n",
        "    if D > 31: \n",
        "      M = 1\n",
        "      D = 1\n",
        "    if M > 12:\n",
        "      M = 1\n",
        "  print(f\"{D}-{M}\")\n",
        "else: \n",
        "  print(\"Error\")"
      ],
      "metadata": {
        "colab": {
          "base_uri": "https://localhost:8080/"
        },
        "id": "1wGVQHG_r3Ph",
        "outputId": "447c1a5e-0dc6-4201-fdd3-8284c6f437e7"
      },
      "execution_count": null,
      "outputs": [
        {
          "output_type": "stream",
          "name": "stdout",
          "text": [
            "Please enter a D: 28\n",
            "Please enter a M: 2\n",
            "salom\n",
            "1-3\n"
          ]
        }
      ]
    },
    {
      "cell_type": "code",
      "source": [
        "### Case 10\n",
        "\n",
        "Y = str(input(\"Please enter a Y: \"))\n",
        "K = int(input(\"Please enter a K: \"))\n",
        "\n",
        "North = \"Shimol\"\n",
        "East = \"Sharq\"\n",
        "South = \"Janub\"\n",
        "West = \"G'arb\"\n",
        "\n",
        "if K > 0 and K < 4:\n",
        "  if K == 1:\n",
        "    Y = \"g\"\n",
        "  elif K == 2:\n",
        "    Y = \"q\"\n",
        "\n",
        "  if Y == \"s\":\n",
        "    Y = \"North\"\n",
        "  elif Y == \"q\":\n",
        "    Y = \"East\"\n",
        "  elif Y == \"j\":\n",
        "    Y = \"South\"\n",
        "  elif Y == \"g\":\n",
        "    Y = \"West\"\n",
        "  \n",
        "  print(Y)\n",
        "else: \n",
        "  print(\"Error\")"
      ],
      "metadata": {
        "id": "ied4mIz5gt6r",
        "colab": {
          "base_uri": "https://localhost:8080/"
        },
        "outputId": "c2bb6c01-083b-48db-b763-2805aff59f55"
      },
      "execution_count": null,
      "outputs": [
        {
          "output_type": "stream",
          "name": "stdout",
          "text": [
            "Please enter a Y: s\n",
            "Please enter a K: 1\n",
            "West\n"
          ]
        }
      ]
    },
    {
      "cell_type": "code",
      "source": [
        "### Case 11\n",
        "\n",
        "C = str(input(\"Please enter a C: \"))\n",
        "K1 = int(input(\"Please enter a K1: \"))\n",
        "K2 = int(input(\"Please enter a K2: \"))\n",
        "\n",
        "North = \"Shimol\"\n",
        "East = \"Sharq\"\n",
        "South = \"Janub\"\n",
        "West = \"G'arb\"\n",
        "\n",
        "if C == 's':\n",
        "    if K1 == 1:\n",
        "        C = \"g\"\n",
        "    elif K1 == 2:\n",
        "        C = \"j\"\n",
        "    elif K1 == 0:\n",
        "        C = \"s\"\n",
        "elif C == 'j':\n",
        "    if K1 == 1:\n",
        "        C = \"q\"\n",
        "    elif K1 == 2:\n",
        "        C = \"s\"\n",
        "    elif K1 == 0:\n",
        "        C = \"j\"\n",
        "elif C == 'q':\n",
        "    if K1 == 1:\n",
        "        C = \"s\"\n",
        "    elif K1 == 2:\n",
        "        C = \"g\"\n",
        "    elif K1 == 0:\n",
        "        C = \"q\"\n",
        "elif C == 'g':\n",
        "    if K1 == 1:\n",
        "        C = \"j\"\n",
        "    elif K1 == 2:\n",
        "        C = \"q\"\n",
        "    elif K1 == 0:\n",
        "        C = \"g\"\n",
        "\n",
        "if C == 's':\n",
        "    if K2 == 1:\n",
        "        K2 = \"G'arb\"\n",
        "    elif K2 == 2:\n",
        "        K2 = \"Janub\"\n",
        "    elif K2 == 0:\n",
        "        K2 = \"Shimol\"\n",
        "elif C == 'j':\n",
        "    if K2 == 1:\n",
        "        K2 = \"Sharq\"\n",
        "    elif K2 == 2:\n",
        "        K2 = \"Shimol\"\n",
        "    elif K2 == 0:\n",
        "        K2 = \"Janub\"\n",
        "elif C == 'q':\n",
        "    if K2 == 1:\n",
        "        K2 = \"Shimol\"\n",
        "    elif K2 == 2:\n",
        "        K2 = \"G'arb\"\n",
        "    elif K2 == 0:\n",
        "        K2 = \"Sharq\"\n",
        "elif C == 'g':\n",
        "    if K2 == 1:\n",
        "        K2 = \"Janub\"\n",
        "    elif K2 == 2:\n",
        "        K2 = \"Sharq\"\n",
        "    elif K2 == 0:\n",
        "        K2 = \"G'arb\"\n",
        "print(K2)"
      ],
      "metadata": {
        "colab": {
          "base_uri": "https://localhost:8080/"
        },
        "id": "aTdKYIAj4rDB",
        "outputId": "59145f7b-a6eb-40c7-bca8-2237b968e03c"
      },
      "execution_count": null,
      "outputs": [
        {
          "output_type": "stream",
          "name": "stdout",
          "text": [
            "Please enter a C: g\n",
            "Please enter a K1: 2\n",
            "Please enter a K2: 1\n",
            "Shimol\n"
          ]
        }
      ]
    },
    {
      "cell_type": "code",
      "source": [
        "### Case 12\n",
        "\n",
        "K = int(input(\"Please enter a value: \"))\n",
        "\n",
        "Pi = 3.14\n",
        "\n",
        "if K == 1:\n",
        "  R = int(input(\"Please enter a R: \"))\n",
        "  D = 2 * R\n",
        "  L = 2 * Pi * R\n",
        "  S = Pi * R ** 2\n",
        "elif K == 2:\n",
        "  D = int(input(\"Please enter a D: \"))\n",
        "  R = D / 2\n",
        "  L = 2 * Pi * R\n",
        "  S = Pi * R ** 2\n",
        "elif K == 3:\n",
        "  L = int(input(\"Please enter a L: \"))\n",
        "  R = L / Pi / 2\n",
        "  D = 2 * R\n",
        "  S = Pi * R ** 2\n",
        "elif K == 4:\n",
        "  S = int(input(\"Please enter a S: \"))\n",
        "  R = S / Pi ** 0.5\n",
        "  D = 2 * R\n",
        "  L = 2 * Pi * R\n",
        "\n",
        "print(f\"R = {R}, D = {D}, L = {L}, S = {S}\")"
      ],
      "metadata": {
        "colab": {
          "base_uri": "https://localhost:8080/"
        },
        "id": "JNuS7K0s-fIB",
        "outputId": "810344ef-4889-43ae-8a8a-0b2992fa1b41"
      },
      "execution_count": null,
      "outputs": [
        {
          "output_type": "stream",
          "name": "stdout",
          "text": [
            "Please enter a value: 2\n",
            "Please enter a D: 4\n",
            "R = 2.0, D = 4, L = 12.56, S = 12.56\n"
          ]
        }
      ]
    },
    {
      "cell_type": "code",
      "source": [
        "### Case 13\n",
        "\n",
        "K = int(input(\"Please enter a value: \"))\n",
        "\n",
        "if K == 1:\n",
        "  A = int(input(\"Please enter a Katet: \"))\n",
        "  C = A * 2 ** 0.5\n",
        "  H = C / 2\n",
        "  S = (C * H) / 2\n",
        "elif K == 2:\n",
        "  C = int(input(\"Please enter a Gipotenuza: \"))\n",
        "  A = C / 2 ** 0.5\n",
        "  H = C / 2\n",
        "  S = (C * H) / 2\n",
        "elif K == 3:\n",
        "  H = int(input(\"Please enter a Gipotenuzaga tushirilgan balandlik: \"))\n",
        "  C = H * 2\n",
        "  A = C / 2 ** 0.5\n",
        "  S = (C * H) / 2\n",
        "elif K == 4:\n",
        "  S = int(input(\"Please enter a S: \"))\n",
        "  H = S / 2 / 3\n",
        "  C = H * 2\n",
        "  A = C / 2 ** 0.5\n",
        "\n",
        "print(f\"A = {A}, C = {C}, H = {H}, S = {S}\")"
      ],
      "metadata": {
        "colab": {
          "base_uri": "https://localhost:8080/"
        },
        "id": "Ein_ajdXGMWe",
        "outputId": "7529eecc-6fb8-479b-d089-3910edd0302c"
      },
      "execution_count": null,
      "outputs": [
        {
          "output_type": "stream",
          "name": "stdout",
          "text": [
            "Please enter a value: 3\n",
            "Please enter a Gipotenuzaga tushirilgan balandlik: 5\n",
            "R = 2.0, D = 4, L = 12.56, S = 25.0\n"
          ]
        }
      ]
    },
    {
      "cell_type": "code",
      "source": [
        "### Case 14\n",
        "\n",
        "K = int(input(\"Please enter a value: \"))\n",
        "\n",
        "if K == 1:\n",
        "  A = int(input(\"Please enter a Tomon: \"))\n",
        "  R1 = A * 3 ** 0.5 / 6\n",
        "  R2 = 2 * R1\n",
        "  S = A ** 2 * 3 ** 0.5 / 4\n",
        "elif K == 2:\n",
        "  R1 = int(input(\"Please enter a R1: \"))\n",
        "  A = R1 / 3 ** 0.5 / 6\n",
        "  R2 = 2 * R1\n",
        "  S = A ** 2 * 3 ** 0.5 / 4\n",
        "elif K == 3:\n",
        "  R2 = int(input(\"Please enter a R2: \"))\n",
        "  R1 = R2 / 2\n",
        "  A = R1 / 3 ** 0.5 / 6\n",
        "  S = A ** 2 * 3 ** 0.5 / 4\n",
        "elif K == 4:\n",
        "  S = int(input(\"Please enter a S: \"))\n",
        "  A = S / 3 ** 0.5 / 4 ** 0.5\n",
        "  R1 = A * 3 ** 0.5 / 6\n",
        "  R2 = 2 * R1\n",
        "\n",
        "print(f\"A = {A}, R1 = {R1}, R2 = {R2}, S = {S}\")"
      ],
      "metadata": {
        "colab": {
          "base_uri": "https://localhost:8080/"
        },
        "id": "8-pJp38gIJT2",
        "outputId": "5cf894ba-b754-45bb-ccba-2e75981a4c54"
      },
      "execution_count": null,
      "outputs": [
        {
          "output_type": "stream",
          "name": "stdout",
          "text": [
            "Please enter a value: 4\n",
            "Please enter a S: 9\n",
            "A = 2.598076211353316, R1 = 0.75, R2 = 1.5, S = 9\n"
          ]
        }
      ]
    },
    {
      "cell_type": "code",
      "source": [
        "### Case 15\n",
        "\n",
        "M = int(input(\"Please enter a (1 <= M <= 4): \"))\n",
        "N = int(input(\"Please enter a (6 <= N <= 14): \"))\n",
        "\n",
        "if 1 <= M and M <= 4:\n",
        "  if M == 1:\n",
        "    M = \"g'isht\"\n",
        "  elif M == 2:\n",
        "    M = \"olma\"\n",
        "  elif M == 3:\n",
        "    M = \"chillak\"\n",
        "  elif M == 4:\n",
        "    M = \"qarg'a\"\n",
        "else:\n",
        "  print(\"Error\")\n",
        "\n",
        "if 6 <= N and N <= 14:\n",
        "  if N == 6:\n",
        "    N = \"olti\"\n",
        "  elif N == 7:\n",
        "    N = \"yetti\"\n",
        "  elif N == 8:\n",
        "    N = \"sakkiz\"\n",
        "  elif N == 9:\n",
        "    N = \"to'qqiz\"\n",
        "  elif N == 10:\n",
        "    N = \"o'n\"\n",
        "  elif N == 11:\n",
        "    N = \"valer\"\n",
        "  elif N == 12:\n",
        "    N = \"dama\"\n",
        "  elif N == 13:\n",
        "    N = \"qirol\"\n",
        "  elif N == 14:\n",
        "    N = \"tuz\"\n",
        "else:\n",
        "  print(\"Error\")\n",
        "\n",
        "print(N, M)"
      ],
      "metadata": {
        "colab": {
          "base_uri": "https://localhost:8080/"
        },
        "id": "Wprq_GDdKlAf",
        "outputId": "bceb4174-e47c-4c5f-d221-cf6460ed64ae"
      },
      "execution_count": null,
      "outputs": [
        {
          "output_type": "stream",
          "name": "stdout",
          "text": [
            "Please enter a (1 <= M <= 4): 3\n",
            "Please enter a (6 <= N <= 14): 8\n",
            "sakkiz chillak\n"
          ]
        }
      ]
    },
    {
      "cell_type": "code",
      "source": [
        "### Case 16\n",
        "\n",
        "Y = int(input(\"Please enter a value (20 - 69): \"))\n",
        "\n",
        "if 20 <= Y and Y <= 69:\n",
        "  N1 = Y % 10\n",
        "  Y //= 10\n",
        "\n",
        "  N10 = Y % 10\n",
        "  Y //= 10\n",
        "\n",
        "  if N1 == 1:\n",
        "    N1 = \"bir\"\n",
        "  elif N1 == 2:\n",
        "    N1 = \"ikki\"\n",
        "  elif N1 == 3:\n",
        "    N1 = \"uch\"\n",
        "  elif N1 == 4:\n",
        "    N1 = \"to'rt\"\n",
        "  elif N1 == 5:\n",
        "    N1 = \"besh\"\n",
        "  elif N1 == 6:\n",
        "    N1 = \"olti\"\n",
        "  elif N1 == 7:\n",
        "    N1 = \"yetti\"\n",
        "  elif N1 == 8:\n",
        "    N1 = \"sakkiz\"\n",
        "  elif N1 == 9:\n",
        "    N1 = \"to'qqiz\"\n",
        "\n",
        "  if N10 == 2:\n",
        "    N10 = \"Yigirma\"\n",
        "  elif N10 == 3:\n",
        "    N10 = \"O'ttiz\"\n",
        "  elif N10 == 4:\n",
        "    N10 = \"Qirq\"\n",
        "  elif N10 == 5:\n",
        "    N10 = \"Ellik\"\n",
        "  elif N10 == 6:\n",
        "    N10 = \"Oltmish\"\n",
        "\n",
        "  if N1 == 0:\n",
        "    print(N10, \"yosh\")\n",
        "  else:\n",
        "    print(N10, N1, \"yosh\")"
      ],
      "metadata": {
        "colab": {
          "base_uri": "https://localhost:8080/"
        },
        "id": "1DZ1DlGlFSVU",
        "outputId": "fed26629-9496-4f41-ef09-e55b1f9c375b"
      },
      "execution_count": null,
      "outputs": [
        {
          "output_type": "stream",
          "name": "stdout",
          "text": [
            "Please enter a value (20 - 69): 57\n",
            "Ellik yetti yosh\n"
          ]
        }
      ]
    },
    {
      "cell_type": "code",
      "source": [
        "### Case 17\n",
        "\n",
        "M = int(input(\"Please enter a value (10 - 40): \"))\n",
        "\n",
        "if 10 <= M and M <= 40:\n",
        "  N1 = M % 10\n",
        "  M //= 10\n",
        "\n",
        "  N10 = M % 10\n",
        "  M //= 10\n",
        "\n",
        "  if N1 == 1:\n",
        "    N1 = \"bir\"\n",
        "  elif N1 == 2:\n",
        "    N1 = \"ikki\"\n",
        "  elif N1 == 3:\n",
        "    N1 = \"uch\"\n",
        "  elif N1 == 4:\n",
        "    N1 = \"to'rt\"\n",
        "  elif N1 == 5:\n",
        "    N1 = \"besh\"\n",
        "  elif N1 == 6:\n",
        "    N1 = \"olti\"\n",
        "  elif N1 == 7:\n",
        "    N1 = \"yetti\"\n",
        "  elif N1 == 8:\n",
        "    N1 = \"sakkiz\"\n",
        "  elif N1 == 9:\n",
        "    N1 = \"to'qqiz\"\n",
        "\n",
        "  if N10 == 1:\n",
        "    N10 = \"O'n\"\n",
        "  elif N10 == 2:\n",
        "    N10 = \"Yigirma\"\n",
        "  elif N10 == 3:\n",
        "    N10 = \"O'ttiz\"\n",
        "  elif N10 == 4:\n",
        "    N10 = \"Qirq\"\n",
        "\n",
        "  if N1 == 0:\n",
        "    print(N10, \"masala\")\n",
        "  else:\n",
        "    print(N10, N1, \"masala\")"
      ],
      "metadata": {
        "colab": {
          "base_uri": "https://localhost:8080/"
        },
        "id": "IR55yiz-MyYl",
        "outputId": "e0a31aaa-a668-4203-ffcb-605ea58b7e7c"
      },
      "execution_count": null,
      "outputs": [
        {
          "output_type": "stream",
          "name": "stdout",
          "text": [
            "Please enter a value (10 - 40): 34\n",
            "O'ttiz to'rt masala\n"
          ]
        }
      ]
    },
    {
      "cell_type": "code",
      "source": [
        "### Case 18\n",
        "\n",
        "M = int(input(\"Please enter a value (100 - 999): \"))\n",
        "\n",
        "if 100 <= M and M <= 999:\n",
        "  N1 = M % 10\n",
        "  M //= 10\n",
        "\n",
        "  N10 = M % 10\n",
        "  M //= 10\n",
        "\n",
        "  N100 = M % 10\n",
        "  M //= 10\n",
        "\n",
        "  if N100 == 1:\n",
        "    N100 = \"Yuz\"\n",
        "  elif N100 == 2:\n",
        "    N100 = \"Ikki yuz\"\n",
        "  elif N100 == 3:\n",
        "    N100 = \"Uch yuz\"\n",
        "  elif N100 == 4:\n",
        "    N100 = \"To'rt yuz\"\n",
        "  elif N100 == 5:\n",
        "    N100 = \"Besh yuz\"\n",
        "  elif N100 == 6:\n",
        "    N100 = \"Olti yuz\"\n",
        "  elif N100 == 7:\n",
        "    N100 = \"Yetti yuz\"\n",
        "  elif N100 == 8:\n",
        "    N100 = \"Sakkiz yuz\"\n",
        "  elif N100 == 9:\n",
        "    N100 = \"To'qqiz yuz\"\n",
        "\n",
        "  if N100 != 0:\n",
        "    print(N100, end = \" \")\n",
        "\n",
        "  if N10 == 1:\n",
        "    N10 = \"o'n\"\n",
        "  elif N10 == 2:\n",
        "    N10 = \"yigirma\"\n",
        "  elif N10 == 3:\n",
        "    N10 = \"o'ttiz\"\n",
        "  elif N10 == 4:\n",
        "    N10 = \"qirq\"\n",
        "  elif N10 == 5:\n",
        "    N10 = \"ellik\"\n",
        "  elif N10 == 6:\n",
        "    N10 = \"oltmish\"\n",
        "  elif N10 == 7:\n",
        "    N10 = \"yetmish\"\n",
        "  elif N10 == 8:\n",
        "    N10 = \"sakson\"\n",
        "  elif N10 == 9:\n",
        "    N10 = \"to'qson\"\n",
        "\n",
        "  if N10 != 0:\n",
        "    print(N10, end = \" \")\n",
        "\n",
        "  if N1 == 1:\n",
        "    N1 = \"bir\"\n",
        "  elif N1 == 2:\n",
        "    N1 = \"ikki\"\n",
        "  elif N1 == 3:\n",
        "    N1 = \"uch\"\n",
        "  elif N1 == 4:\n",
        "    N1 = \"to'rt\"\n",
        "  elif N1 == 5:\n",
        "    N1 = \"besh\"\n",
        "  elif N1 == 6:\n",
        "    N1 = \"olti\"\n",
        "  elif N1 == 7:\n",
        "    N1 = \"yetti\"\n",
        "  elif N1 == 8:\n",
        "    N1 = \"sakkiz\"\n",
        "  elif N1 == 9:\n",
        "    N1 = \"to'qqiz\"\n",
        "\n",
        "  if N1 != 0:\n",
        "    print(N1)"
      ],
      "metadata": {
        "colab": {
          "base_uri": "https://localhost:8080/"
        },
        "id": "QcxiipD6O6p6",
        "outputId": "c5fa9841-e217-4b13-ca2f-65d4f6383641"
      },
      "execution_count": null,
      "outputs": [
        {
          "output_type": "stream",
          "name": "stdout",
          "text": [
            "Please enter a value (100 - 999): 306\n",
            "Uch yuz olti\n"
          ]
        }
      ]
    },
    {
      "cell_type": "code",
      "source": [
        "### Case 19\n",
        "Y = int(input(\"Please enter a value: \"))\n",
        "\n",
        "if Y % 5 == 4:\n",
        "    Muchal = \"Yashil\"\n",
        "elif Y % 5 == 0:\n",
        "    Muchal = \"qizil\"\n",
        "elif Y % 5 == 1:\n",
        "    Muchal = \"sariq\"\n",
        "elif Y % 5 == 2:\n",
        "    Muchal = 'oq'\n",
        "else:\n",
        "    Muchal = \"qora\"\n",
        "\n",
        "print(Muchal, end=' ')\n",
        "\n",
        "if Y % 12 == 0:\n",
        "    Hayvon = \"maymun\"\n",
        "elif Y % 12 == 1:\n",
        "    Hayvon = \"tovuq\"\n",
        "elif Y % 12 == 2:\n",
        "    Hayvon = \"it\"\n",
        "elif Y % 12 == 3:\n",
        "    Hayvon = \"to'ng'iz\"\n",
        "elif Y % 12 == 4:\n",
        "    Hayvon = \"sichqon\"\n",
        "elif Y % 12 == 5:\n",
        "    Hayvon = \"sigir\"\n",
        "elif Y % 12 == 6:\n",
        "    Hayvon = \"yo'lbars\"\n",
        "elif Y % 12 == 7:\n",
        "    Hayvon = \"quyon\"\n",
        "elif Y % 12 == 8:\n",
        "    Hayvon = \"ajdar\"\n",
        "elif Y % 12 == 9:\n",
        "    Hayvon = \"ilon\"\n",
        "elif Y % 12 == 10:\n",
        "    Hayvon = \"ot\",\n",
        "elif Y % 12 == 11:\n",
        "    Hayvon = \"qo'y\"\n",
        "\n",
        "print(Hayvon, \"yili\")"
      ],
      "metadata": {
        "colab": {
          "base_uri": "https://localhost:8080/"
        },
        "id": "QMquOsZJSBO_",
        "outputId": "788bceb7-3f39-42c2-8b35-f2bd490d5426"
      },
      "execution_count": null,
      "outputs": [
        {
          "output_type": "stream",
          "name": "stdout",
          "text": [
            "Please enter a value: 1984\n",
            "Yashil sichqon yili\n"
          ]
        }
      ]
    },
    {
      "cell_type": "code",
      "source": [
        "### Case 20\n",
        "D = int(input(\"Please enter a D: \"))\n",
        "M = int(input(\"Please enter a M: \"))\n",
        "\n",
        "if M == 1:\n",
        "  if D < 20:\n",
        "    print(\"Echki\")\n",
        "  else:\n",
        "    print(\"Qovg'a\")\n",
        "elif M == 2:\n",
        "  if D < 19:\n",
        "    print(\"Qovg'a\")\n",
        "  else:\n",
        "    print(\"Baliq\")\n",
        "elif M == 3:\n",
        "  if D < 21:\n",
        "    print(\"Baliq\")\n",
        "  else:\n",
        "    print(\"Qo'y\")\n",
        "elif M == 4:\n",
        "  if D < 20:\n",
        "    print(\"Qo'y\")\n",
        "  else:\n",
        "    print(\"Buzoq\")\n",
        "elif M == 5:\n",
        "  if D < 21:\n",
        "    print(\"Buzoq\")\n",
        "  else:\n",
        "    print(\"Egizaklar\")\n",
        "elif M == 6:\n",
        "  if D < 22:\n",
        "    print(\"Egizaklar\")\n",
        "  else:\n",
        "    print(\"Qisqichbaqa\")\n",
        "elif M == 7:\n",
        "  if D < 23:\n",
        "    print(\"Qisqichbaqa\")\n",
        "  else:\n",
        "    print(\"Arslon\")\n",
        "elif M == 8:\n",
        "  if D < 23:\n",
        "    print(\"Arslon\")\n",
        "  else:\n",
        "    print(\"Parizod\")\n",
        "elif M == 9:\n",
        "  if D < 23:\n",
        "    print(\"Parizod\")\n",
        "  else:\n",
        "    print(\"Tarozi\")\n",
        "elif M == 10:\n",
        "  if D < 23:\n",
        "    print(\"Tarozi\")\n",
        "  else:\n",
        "    print(\"Chayon\")\n",
        "elif M == 11:\n",
        "  if D < 23:\n",
        "    print(\"Chayon\")\n",
        "  else:\n",
        "    print(\"O'qotar\")\n",
        "elif M == 12:\n",
        "  if D < 22:\n",
        "    print(\"O'qotar\")\n",
        "  else:\n",
        "    print(\"Echki\")"
      ],
      "metadata": {
        "colab": {
          "base_uri": "https://localhost:8080/"
        },
        "id": "jT1chPMUSTT_",
        "outputId": "91440314-0e26-4fe7-98ad-199d4e471c0e"
      },
      "execution_count": null,
      "outputs": [
        {
          "output_type": "stream",
          "name": "stdout",
          "text": [
            "Please enter a D: 15\n",
            "Please enter a M: 3\n",
            "Baliq\n"
          ]
        }
      ]
    }
  ]
}