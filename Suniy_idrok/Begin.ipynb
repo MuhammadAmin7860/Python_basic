{
  "nbformat": 4,
  "nbformat_minor": 0,
  "metadata": {
    "colab": {
      "name": "Begin.ipynb",
      "provenance": [],
      "collapsed_sections": [],
      "authorship_tag": "ABX9TyM1NlrWAHh1w0o1bE6ukuRW",
      "include_colab_link": true
    },
    "kernelspec": {
      "name": "python3",
      "display_name": "Python 3"
    },
    "language_info": {
      "name": "python"
    }
  },
  "cells": [
    {
      "cell_type": "markdown",
      "metadata": {
        "id": "view-in-github",
        "colab_type": "text"
      },
      "source": [
        "<a href=\"https://colab.research.google.com/github/MuhammadAmin7860/Misollar-C-dan/blob/main/Begin.ipynb\" target=\"_parent\"><img src=\"https://colab.research.google.com/assets/colab-badge.svg\" alt=\"Open In Colab\"/></a>"
      ]
    },
    {
      "cell_type": "markdown",
      "source": [
        "Begin 1"
      ],
      "metadata": {
        "id": "bNAG9BoAc8_A"
      }
    },
    {
      "cell_type": "code",
      "execution_count": null,
      "metadata": {
        "colab": {
          "base_uri": "https://localhost:8080/"
        },
        "id": "YaiLyRItHHG5",
        "outputId": "1a31b922-de4f-49d2-cde5-026fdcf76846"
      },
      "outputs": [
        {
          "name": "stdout",
          "output_type": "stream",
          "text": [
            "Iltimos son kiriting: 5\n"
          ]
        },
        {
          "output_type": "execute_result",
          "data": {
            "text/plain": [
              "(20, 25)"
            ]
          },
          "metadata": {},
          "execution_count": 2
        }
      ],
      "source": [
        "a = int(input(\"Iltimos kvadratning tomonini kiriting: \"))\n",
        "P = 4 * a\n",
        "print(f\"Kvadratning perimetri: {P}\")"
      ]
    },
    {
      "cell_type": "markdown",
      "source": [
        "Begin 2"
      ],
      "metadata": {
        "id": "n9eHc73EdGWq"
      }
    },
    {
      "cell_type": "code",
      "source": [
        "a = int(input(\"Iltimos kvadratning tomonini kiriting: \"))\n",
        "S = a ** 2\n",
        "print(f\"Kvadratning perimetri: {P}, yuzi: {S}\")"
      ],
      "metadata": {
        "id": "Xf51eWVzms0-"
      },
      "execution_count": null,
      "outputs": []
    },
    {
      "cell_type": "markdown",
      "source": [
        "Begin 3"
      ],
      "metadata": {
        "id": "OWpfxnGodITu"
      }
    },
    {
      "cell_type": "code",
      "source": [
        "a = int(input(\"Iltimos to'g'ri to'rtburchakni bo'yini kiriting: \"))\n",
        "b = int(input(\"Iltimos to'g'ri to'rtburchakni enini kiriting: \"))\n",
        "S = a * b\n",
        "P = 2 * (a + b)\n",
        "print(f\"To'g'ri to'rtburchakni perimetri: {P}, yuzasi: {S}\")"
      ],
      "metadata": {
        "colab": {
          "base_uri": "https://localhost:8080/"
        },
        "id": "1pZttMSDIPTQ",
        "outputId": "ff8aead8-f0d5-4be0-d5bd-9eef9e226339"
      },
      "execution_count": 1,
      "outputs": [
        {
          "output_type": "stream",
          "name": "stdout",
          "text": [
            "Iltimos to'g'ri to'rtburchakni bo'yini kiriting: 4\n",
            "Iltimos to'g'ri to'rtburchakni enini kiriting: 5\n",
            "To'g'ri to'rtburchakni perimetri: 18, yuzasi: 20\n"
          ]
        }
      ]
    },
    {
      "cell_type": "markdown",
      "source": [
        "Begin 4"
      ],
      "metadata": {
        "id": "7AN9ngjHdLBz"
      }
    },
    {
      "cell_type": "code",
      "source": [
        "d = int(input(\"Iltimos aylana diametrini kiriting: \"))\n",
        "Pi = 3.14\n",
        "L = Pi * d\n",
        "print(f\"Aylananing diametri {L}\")"
      ],
      "metadata": {
        "colab": {
          "base_uri": "https://localhost:8080/"
        },
        "id": "l7soZWUbJWwR",
        "outputId": "cdb94fdf-4305-4673-d146-2d98dc424d96"
      },
      "execution_count": 2,
      "outputs": [
        {
          "output_type": "stream",
          "name": "stdout",
          "text": [
            "Iltimos aylana diametrini kiriting: 3\n",
            "Aylananing diametri 9.42\n"
          ]
        }
      ]
    },
    {
      "cell_type": "markdown",
      "source": [
        "Begin 5"
      ],
      "metadata": {
        "id": "6ZG3nDkgdNgA"
      }
    },
    {
      "cell_type": "code",
      "source": [
        "a = int(input(\"Kubning yon tomonini kiriting: \"))\n",
        "V = a ** 3\n",
        "S = 6 * a ** 2\n",
        "print(f\"Kubning hajmi: {V}, to'la sirti: {S}\")"
      ],
      "metadata": {
        "colab": {
          "base_uri": "https://localhost:8080/"
        },
        "id": "f44-05_YLpT7",
        "outputId": "6b20cac2-dc3f-4ec1-fde7-a7611708fa01"
      },
      "execution_count": null,
      "outputs": [
        {
          "output_type": "stream",
          "name": "stdout",
          "text": [
            "Kubning yon tomonini kiriting: 5\n",
            "Kubning hajmi: 125 to'la yuzi: 150\n"
          ]
        }
      ]
    },
    {
      "cell_type": "markdown",
      "source": [
        "Begin 6"
      ],
      "metadata": {
        "id": "-2o9hB3ndP5O"
      }
    },
    {
      "cell_type": "code",
      "source": [
        "a = int(input(\"Paralelepedning 1-tomonini kiriting: \"))\n",
        "b = int(input(\"Paralelepedning 2-tomonini kiriting: \"))\n",
        "c = int(input(\"Paralelepedning 3-tomonini kiriting: \"))\n",
        "\n",
        "V = a * b * c\n",
        "S = 2 * (a * b + c * a + b * c)\n",
        "print(f\"Paralelepedning hajmi: {V}, to'la sirti: {S}\")"
      ],
      "metadata": {
        "colab": {
          "base_uri": "https://localhost:8080/"
        },
        "id": "slzycfHsHv4m",
        "outputId": "07572006-3cd9-45f4-bd48-b352a5f5b621"
      },
      "execution_count": null,
      "outputs": [
        {
          "output_type": "stream",
          "name": "stdout",
          "text": [
            "Paralelepedning 1-tomonini kiriting: 3\n",
            "Paralelepedning 2-tomonini kiriting: 4\n",
            "Paralelepedning 3-tomonini kiriting: 5\n",
            "Paralelepedning hajmi: 60 to'la sirti: 94\n"
          ]
        }
      ]
    },
    {
      "cell_type": "markdown",
      "source": [
        "Begin 7"
      ],
      "metadata": {
        "id": "sKZ0whCpdUax"
      }
    },
    {
      "cell_type": "code",
      "source": [
        "r = int(input(\"Doiraning radiusini kiriting: \"))\n",
        "L = 2 * 3.14 * r\n",
        "S = 3.14 * r ** 2\n",
        "print(f\"Doiraning uzunligi: {L}, yuzasi: {S}\")"
      ],
      "metadata": {
        "colab": {
          "base_uri": "https://localhost:8080/"
        },
        "id": "suyo0ogoSA3y",
        "outputId": "9b275813-6aac-4db4-ee74-3a98062a97b3"
      },
      "execution_count": null,
      "outputs": [
        {
          "output_type": "stream",
          "name": "stdout",
          "text": [
            "Doiraning radiusini kiriting: 5\n",
            "Doiraning uzunligi: 31.400000000000002, yuzasi: 78.5\n"
          ]
        }
      ]
    },
    {
      "cell_type": "markdown",
      "source": [
        "Begin 8"
      ],
      "metadata": {
        "id": "Kwdy33H8dXEK"
      }
    },
    {
      "cell_type": "code",
      "source": [
        "a = int(input(\"1-sonni kiriting: \"))\n",
        "b = int(input(\"2-sonni kiriting: \"))\n",
        "c = (a + b) / 2\n",
        "print(f\"Sonlarning o'rta arifmetigi: {c}\")"
      ],
      "metadata": {
        "colab": {
          "base_uri": "https://localhost:8080/"
        },
        "id": "015EhpM1TSxj",
        "outputId": "31d95b17-b57f-487a-ffc0-5d7372d1c7c0"
      },
      "execution_count": null,
      "outputs": [
        {
          "output_type": "stream",
          "name": "stdout",
          "text": [
            "1-sonni kiriting: 5\n",
            "2-sonni kiriting: 6\n",
            "Sonlarning o'rta arifmetigi: 5.5\n"
          ]
        }
      ]
    },
    {
      "cell_type": "markdown",
      "source": [
        "Begin 9"
      ],
      "metadata": {
        "id": "nZh4zXgsdZX8"
      }
    },
    {
      "cell_type": "code",
      "source": [
        "a = int(input(\"1-sonni kiriting: \"))\n",
        "b = int(input(\"2-sonni kiriting: \"))\n",
        "c = (a * b) ** 0.5\n",
        "print(f\"Sonlarning o'rta geometrigi: {c}\")"
      ],
      "metadata": {
        "colab": {
          "base_uri": "https://localhost:8080/"
        },
        "id": "-_o0sFYNUIxA",
        "outputId": "5a14c406-78a5-4ae5-a779-88454572f391"
      },
      "execution_count": null,
      "outputs": [
        {
          "output_type": "stream",
          "name": "stdout",
          "text": [
            "1-sonni kiriting: 4\n",
            "2-sonni kiriting: 5\n",
            "Sonlarning o'rta geometrigi: 4.47213595499958\n"
          ]
        }
      ]
    },
    {
      "cell_type": "markdown",
      "source": [
        "Begin 10"
      ],
      "metadata": {
        "id": "b4YFaTaLdbZA"
      }
    },
    {
      "cell_type": "code",
      "source": [
        "a = int(input(\"1-sonni kiriting: \"))\n",
        "b = int(input(\"2-sonni kiriting: \"))\n",
        "y = a + b\n",
        "k = a * b\n",
        "akvadrat = a**2\n",
        "bkvadrat = b**2\n",
        "print(f\"Sonlarning yig'indisi: {y}, ko'paytmasi: {k}, \\\n",
        "  {a} ning kvadrati: {akvadrat}, {b} ning kvadrati: {bkvadrat}\")"
      ],
      "metadata": {
        "colab": {
          "base_uri": "https://localhost:8080/"
        },
        "id": "2wcfWEtsTw3D",
        "outputId": "d5d98e2c-47b4-4f57-a5c9-d8e2fb6df16b"
      },
      "execution_count": 3,
      "outputs": [
        {
          "output_type": "stream",
          "name": "stdout",
          "text": [
            "1-sonni kiriting: 3\n",
            "2-sonni kiriting: 4\n",
            "Sonlarning yig'indisi: 7, ko'paytmasi: 12,   3 ning kvadrati: 9, 4 ning kvadrati: 16\n"
          ]
        }
      ]
    },
    {
      "cell_type": "markdown",
      "source": [
        "Begin 11"
      ],
      "metadata": {
        "id": "ng1vWtfjdcsF"
      }
    },
    {
      "cell_type": "code",
      "source": [
        "a = int(input(\"1-sonni kiriting: \"))\n",
        "b = int(input(\"2-sonni kiriting: \"))\n",
        "y = a + b\n",
        "k = a * b\n",
        "amodul = abs(a)\n",
        "bmodul = abs(b)\n",
        "print(f\"Sonlarning yig'indisi: {y}, ko'paytmasi: {k}, \\\n",
        "  {a} ning moduli: {amodul}, {b} ning moduli: {bmodul}\")"
      ],
      "metadata": {
        "colab": {
          "base_uri": "https://localhost:8080/"
        },
        "id": "h7HOv5VB0-bt",
        "outputId": "eed62102-b58d-45f4-e30d-9eeda1ea7bdb"
      },
      "execution_count": 4,
      "outputs": [
        {
          "output_type": "stream",
          "name": "stdout",
          "text": [
            "1-sonni kiriting: 2\n",
            "2-sonni kiriting: 3\n",
            "Sonlarning yig'indisi: 5, ko'paytmasi: 6,   2 ning moduli: 2, 3 ning moduli: 3\n"
          ]
        }
      ]
    },
    {
      "cell_type": "markdown",
      "source": [
        "Begin 12"
      ],
      "metadata": {
        "id": "AUauUGCwdhTG"
      }
    },
    {
      "cell_type": "code",
      "source": [
        "a = int(input(\"1-katetni kiriting: \"))\n",
        "b = int(input(\"2-katetni kiriting: \"))\n",
        "c = (a ** 2 + b ** 2) ** 0.5\n",
        "P = a + b + c\n",
        "print(f\"Uchburchakning gipotenuzasi: {c}, perimetri: {P}\")"
      ],
      "metadata": {
        "colab": {
          "base_uri": "https://localhost:8080/"
        },
        "id": "bp7PfKxWlwxs",
        "outputId": "6e97693e-5feb-498a-b44d-a25f3abf5ebe"
      },
      "execution_count": null,
      "outputs": [
        {
          "output_type": "stream",
          "name": "stdout",
          "text": [
            "1-sonni kiriting: 3\n",
            "2-sonni kiriting: 4\n",
            "Uchburchakning gipotenuzasi: 5.0, perimetri: 12.0\n"
          ]
        }
      ]
    },
    {
      "cell_type": "markdown",
      "source": [
        "Begin 13"
      ],
      "metadata": {
        "id": "pAfR6NWPdokB"
      }
    },
    {
      "cell_type": "code",
      "source": [
        "r1 = int(input(\"1-radiusni kiriting: \"))\n",
        "r2 = int(input(\"2-radiusni kiriting: \"))\n",
        "Pi = 3.14\n",
        "S1 = Pi * r1 ** 0.5\n",
        "S2 = Pi * r2 ** 0.5\n",
        "S3 = Pi * (r1 - r2) ** 0.5\n",
        "print(f\"Radiusi {r1} bo'lgan aylananing yuzi S = {S1}\")\n",
        "print(f\"Radiusi {r2} bo'lgan aylananing yuzi S = {S2}\")\n",
        "print(f\"Radiusi {r1 - r2} bo'lgan aylananing yuzi S = {S3}\")"
      ],
      "metadata": {
        "colab": {
          "base_uri": "https://localhost:8080/"
        },
        "id": "Fsw6p-2Pn17C",
        "outputId": "4785e74d-8ec9-4e64-cb2c-04d607525f48"
      },
      "execution_count": 6,
      "outputs": [
        {
          "output_type": "stream",
          "name": "stdout",
          "text": [
            "1-radiusni kiriting: 6\n",
            "2-radiusni kiriting: 4\n",
            "Radiusi 6 bo'lgan aylananing yuzi S = 7.6913977923391785\n",
            "Radiusi 4 bo'lgan aylananing yuzi S = 6.28\n",
            "Radiusi 2 bo'lgan aylananing yuzi S = 4.440630585851519\n"
          ]
        }
      ]
    },
    {
      "cell_type": "markdown",
      "source": [
        "Begin 14"
      ],
      "metadata": {
        "id": "WSCkmQD6dqkd"
      }
    },
    {
      "cell_type": "code",
      "source": [
        "L = int(input(\"Aylananing uzunligini kiriting: \"))\n",
        "Pi = 3.14\n",
        "R = L / Pi / 2\n",
        "S = Pi * R ** 2\n",
        "print(f\"Aylananing radiusi R = {R}, yuzasi S = {S}\")"
      ],
      "metadata": {
        "colab": {
          "base_uri": "https://localhost:8080/"
        },
        "id": "-5otLcn1p_PA",
        "outputId": "3db8ad80-d087-4d96-8450-29aa5c759e99"
      },
      "execution_count": 8,
      "outputs": [
        {
          "output_type": "stream",
          "name": "stdout",
          "text": [
            "Aylananing uzunligini kiriting: 4\n",
            "Aylananing radiusi R = 0.6369426751592356, yuzasi S = 1.2738853503184713\n"
          ]
        }
      ]
    },
    {
      "cell_type": "markdown",
      "source": [
        "Begin 15"
      ],
      "metadata": {
        "id": "_pU58FPQdtqi"
      }
    },
    {
      "cell_type": "code",
      "source": [
        "S = int(input(\"Aylananing yuzasini kiriting: \"))\n",
        "Pi = 3.14\n",
        "R = (S / Pi) ** 0.5\n",
        "d = R * 2\n",
        "print(f\"Aylananing diametri d = {d}, radiusi R = {R}\")"
      ],
      "metadata": {
        "colab": {
          "base_uri": "https://localhost:8080/"
        },
        "id": "_Ejx6L8jsz89",
        "outputId": "a7637c4d-d2fa-4214-8f44-f9b9b63430e2"
      },
      "execution_count": 12,
      "outputs": [
        {
          "output_type": "stream",
          "name": "stdout",
          "text": [
            "Aylananing yuzasini kiriting: 5\n",
            "Aylananing diametri d = 2.5237723256253437, radiusi R = 1.2618861628126719\n"
          ]
        }
      ]
    },
    {
      "cell_type": "markdown",
      "source": [
        "Begin 16"
      ],
      "metadata": {
        "id": "2J1QxY-qdvvL"
      }
    },
    {
      "cell_type": "code",
      "source": [
        "a = int(input(\"1-sonni kiriting: \"))\n",
        "b = int(input(\"2-sonni kiriting: \"))\n",
        "print(f\"sonlar o'qida ikki nuqtaning orasidagi masofa: {abs(a - b)}\")"
      ],
      "metadata": {
        "colab": {
          "base_uri": "https://localhost:8080/"
        },
        "id": "xExio4KyugVI",
        "outputId": "c24e2a6f-1401-4068-d619-44a7977e6149"
      },
      "execution_count": 13,
      "outputs": [
        {
          "output_type": "stream",
          "name": "stdout",
          "text": [
            "1-sonni kiriting: 8\n",
            "2-sonni kiriting: 3\n",
            "sonlar o'qida ikki nuqtaning orasidagi masofa: 5\n"
          ]
        }
      ]
    },
    {
      "cell_type": "markdown",
      "source": [
        "Begin 17"
      ],
      "metadata": {
        "id": "80wZKw4mdxgT"
      }
    },
    {
      "cell_type": "code",
      "source": [
        "A = int(input(\"1-sonni kiriting: \"))\n",
        "B = int(input(\"2-sonni kiriting: \"))\n",
        "C = int(input(\"2-sonni kiriting: \"))\n",
        "AC = C - A\n",
        "BC = C - B\n",
        "print(f\"AC = {AC}, BC = {BC}, yig'indisi = {AC + BC}\")"
      ],
      "metadata": {
        "colab": {
          "base_uri": "https://localhost:8080/"
        },
        "id": "UN1vq5K7vZUx",
        "outputId": "c300b7de-9b32-4538-c563-9df1bd2cdd1b"
      },
      "execution_count": null,
      "outputs": [
        {
          "output_type": "stream",
          "name": "stdout",
          "text": [
            "1-sonni kiriting: 2\n",
            "2-sonni kiriting: 5\n",
            "2-sonni kiriting: 8\n",
            "AC = 6, BC = 3, yig'indisi = 9\n"
          ]
        }
      ]
    },
    {
      "cell_type": "markdown",
      "source": [
        "Begin 18"
      ],
      "metadata": {
        "id": "T2AeDn_rd0W_"
      }
    },
    {
      "cell_type": "code",
      "source": [
        "A = int(input(\"1-sonni kiriting: \"))\n",
        "B = int(input(\"2-sonni kiriting: \"))\n",
        "C = int(input(\"2-sonni kiriting: \"))\n",
        "AC = C - A\n",
        "BC = B - C\n",
        "print(f\"AC = {AC}, BC = {BC}, ko'paytmasi = {AC * BC}\")"
      ],
      "metadata": {
        "colab": {
          "base_uri": "https://localhost:8080/"
        },
        "id": "BJ8e1f9nwFkO",
        "outputId": "d1fcdc6e-b658-4388-9e29-37bd4c81b0cf"
      },
      "execution_count": null,
      "outputs": [
        {
          "output_type": "stream",
          "name": "stdout",
          "text": [
            "1-sonni kiriting: 2\n",
            "2-sonni kiriting: 8\n",
            "2-sonni kiriting: 5\n",
            "AC = 3, BC = 3, ko'paytmasi = 9\n"
          ]
        }
      ]
    },
    {
      "cell_type": "markdown",
      "source": [
        "Begin 19"
      ],
      "metadata": {
        "id": "q9ZNINSFd2Om"
      }
    },
    {
      "cell_type": "code",
      "source": [
        "x = int(input(\"1- kordinatning x ni kiriting: \"))\n",
        "y = int(input(\"1- kordinatning y ni kiriting: \"))\n",
        "x1 = int(input(\"2- kordinatning x ni kiriting: \"))\n",
        "y1 = int(input(\"2- kordinatning y ni kiriting: \"))\n",
        "AD = y - y1\n",
        "CD = x1 - x\n",
        "P = 2 * (AD * CD)\n",
        "S = AD * CD\n",
        "print(f\"To'g'ri to'rt burchakning P = {P}, S = {S}\")"
      ],
      "metadata": {
        "colab": {
          "base_uri": "https://localhost:8080/"
        },
        "id": "JAyIHMXPwr08",
        "outputId": "1627b2e2-425d-4748-cd62-8f0a7250c5d0"
      },
      "execution_count": null,
      "outputs": [
        {
          "output_type": "stream",
          "name": "stdout",
          "text": [
            "1-sonni kiriting: 1\n",
            "2-sonni kiriting: 3\n",
            "1-sonni kiriting: 4\n",
            "2-sonni kiriting: 1\n",
            "To'g'ri to'rt burchakning P = 12, S = 6\n"
          ]
        }
      ]
    },
    {
      "cell_type": "markdown",
      "source": [
        "Begin 20"
      ],
      "metadata": {
        "id": "Ovxl_HSkd4D3"
      }
    },
    {
      "cell_type": "code",
      "source": [
        "x = int(input(\"1- kordinatning x ni kiriting: \"))\n",
        "y = int(input(\"1- kordinatning y ni kiriting: \"))\n",
        "x1 = int(input(\"2- kordinatning x ni kiriting: \"))\n",
        "y1 = int(input(\"2- kordinatning y ni kiriting: \"))\n",
        "c = ((x1 - x) ** 2 + (y1 - y) ** 2) ** 0.5\n",
        "print(f\"Tekislikdagi ikki nuqta orasidagi masofa: {c}\")"
      ],
      "metadata": {
        "colab": {
          "base_uri": "https://localhost:8080/"
        },
        "id": "6KVD1sofzbS5",
        "outputId": "09ceb708-9953-43c9-e72d-97b85ca7492e"
      },
      "execution_count": null,
      "outputs": [
        {
          "output_type": "stream",
          "name": "stdout",
          "text": [
            "1- kordinatning x ni kiriting: 1\n",
            "1- kordinatning y ni kiriting: 4\n",
            "2- kordinatning x ni kiriting: 5\n",
            "2- kordinatning y ni kiriting: 1\n",
            "Tekislikdagi ikki nuqta orasidagi masofa: 5.0\n"
          ]
        }
      ]
    },
    {
      "cell_type": "markdown",
      "source": [
        "Begin 21"
      ],
      "metadata": {
        "id": "jD7CULbxd5dP"
      }
    },
    {
      "cell_type": "code",
      "source": [
        "x1 = int(input(\"1- kordinatning x ni kiriting: \"))\n",
        "y1 = int(input(\"1- kordinatning y ni kiriting: \"))\n",
        "x2 = int(input(\"2- kordinatning x ni kiriting: \"))\n",
        "y2 = int(input(\"2- kordinatning y ni kiriting: \"))\n",
        "x3 = int(input(\"1- kordinatning x ni kiriting: \"))\n",
        "y3 = int(input(\"1- kordinatning y ni kiriting: \"))\n",
        "A = ((x2 - x1) ** 2 + (y2 - y1) ** 2) ** 0.5\n",
        "B = ((x3 - x2) ** 2 + (y3 - y2) ** 2) ** 0.5\n",
        "C = ((x3 - x1) ** 2 + (y3 - y1) ** 2) ** 0.5\n",
        "P = (A + B + C) / 2\n",
        "S = (P * (P - A) * (P - B) * (P - C)) ** 0.5\n",
        "print(f'Uchburchakning S = {S}, P = {P}')"
      ],
      "metadata": {
        "id": "mNvkUJ4_B2Xn",
        "outputId": "703b1293-d59f-4b14-cbf5-73e52905ee89",
        "colab": {
          "base_uri": "https://localhost:8080/"
        }
      },
      "execution_count": null,
      "outputs": [
        {
          "output_type": "stream",
          "name": "stdout",
          "text": [
            "1- kordinatning x ni kiriting: 1\n",
            "1- kordinatning y ni kiriting: 1\n",
            "2- kordinatning x ni kiriting: 5\n",
            "2- kordinatning y ni kiriting: 1\n",
            "1- kordinatning x ni kiriting: 1\n",
            "1- kordinatning y ni kiriting: 4\n",
            "4.0 5.0 3.0\n",
            "Uchburchakning S = 6.0, P = 6.0\n"
          ]
        }
      ]
    },
    {
      "cell_type": "markdown",
      "source": [
        "Begin 22"
      ],
      "metadata": {
        "id": "av8yJgPUeBm-"
      }
    },
    {
      "cell_type": "code",
      "source": [
        "A = int(input(\"A ni kiriting: \"))\n",
        "B = int(input(\"B ni kiriting: \"))\n",
        "A = A + B\n",
        "B = A - B\n",
        "A = A - B\n",
        "print(f\"A ning qiymati: {A}, B ning qiymati: {B}\")"
      ],
      "metadata": {
        "id": "mN10XYjNoaCq",
        "outputId": "1ca85dfb-11b1-4411-aa78-f7a67b09fb9c",
        "colab": {
          "base_uri": "https://localhost:8080/"
        }
      },
      "execution_count": 30,
      "outputs": [
        {
          "output_type": "stream",
          "name": "stdout",
          "text": [
            "1-sonni kiriting: 3\n",
            "2-sonni kiriting: 5\n",
            "A ning qiymati: 5, B ning qiymati: 3\n"
          ]
        }
      ]
    },
    {
      "cell_type": "markdown",
      "source": [
        "Begin 23"
      ],
      "metadata": {
        "id": "908RkdUkeDpk"
      }
    },
    {
      "cell_type": "code",
      "source": [
        "A = int(input(\"1-sonni kiriting: \"))\n",
        "B = int(input(\"2-sonni kiriting: \"))\n",
        "C = int(input(\"2-sonni kiriting: \"))\n",
        "A = A + B + C\n",
        "D = A\n",
        "A = C\n",
        "C = B\n",
        "B = D\n",
        "print(f\"A ning qiymati: {A}, B ning qiymati: {B}, C ning qiymati: {C}\")"
      ],
      "metadata": {
        "id": "5F80LIVQpyVz",
        "outputId": "e9dec060-8064-4d48-9af1-e141107c01e7",
        "colab": {
          "base_uri": "https://localhost:8080/"
        }
      },
      "execution_count": null,
      "outputs": [
        {
          "output_type": "stream",
          "name": "stdout",
          "text": [
            "1-sonni kiriting: 2\n",
            "2-sonni kiriting: 4\n",
            "2-sonni kiriting: 6\n",
            "6 2 4\n"
          ]
        }
      ]
    },
    {
      "cell_type": "markdown",
      "source": [
        "Begin 24"
      ],
      "metadata": {
        "id": "pIBLTgMWeGl-"
      }
    },
    {
      "cell_type": "code",
      "source": [
        "A = int(input(\"1-sonni kiriting: \"))\n",
        "B = int(input(\"2-sonni kiriting: \"))\n",
        "C = int(input(\"2-sonni kiriting: \"))\n",
        "A = A + B + C\n",
        "B = A - B - C\n",
        "C = A - B - C\n",
        "A = A - B - C\n",
        "print(f\"A ning qiymati: {A}, B ning qiymati: {B}, C ning qiymati: {C}\")"
      ],
      "metadata": {
        "id": "rXqtbLuOqt5s",
        "outputId": "89bbf9ed-4dfe-4bfb-9a28-969d971cf170",
        "colab": {
          "base_uri": "https://localhost:8080/"
        }
      },
      "execution_count": 33,
      "outputs": [
        {
          "output_type": "stream",
          "name": "stdout",
          "text": [
            "1-sonni kiriting: 3\n",
            "2-sonni kiriting: 5\n",
            "2-sonni kiriting: 7\n",
            "A ning qiymati: 7, B ning qiymati: 3, C ning qiymati: 5\n"
          ]
        }
      ]
    },
    {
      "cell_type": "markdown",
      "source": [
        "Begin 25"
      ],
      "metadata": {
        "id": "EEfMrViheI1W"
      }
    },
    {
      "cell_type": "code",
      "source": [
        "x = int(input(\"x ning qiymatini kiriting: \"))\n",
        "y = 3 * x ** 6 - 6 * x ** 2 - 7\n",
        "print(f\"y ning qiymati: {y}\")"
      ],
      "metadata": {
        "id": "IhJhdfd5rjKs",
        "outputId": "0e07a32f-1e91-4db3-a22b-4655f4c69c19",
        "colab": {
          "base_uri": "https://localhost:8080/"
        }
      },
      "execution_count": null,
      "outputs": [
        {
          "output_type": "stream",
          "name": "stdout",
          "text": [
            "x ning qiymatini kiriting: 1\n",
            "y ning qiymati: -10\n"
          ]
        }
      ]
    },
    {
      "cell_type": "markdown",
      "source": [
        "Begin 26"
      ],
      "metadata": {
        "id": "sVikR7lLeLsf"
      }
    },
    {
      "cell_type": "code",
      "source": [
        "x = int(input(\"x ning qiymatini kiriting: \"))\n",
        "y = 4 * (x - 3) ** 6 - 7 * (x - 3) ** 3 + 2\n",
        "print(f\"y ning qiymati: {y}\")"
      ],
      "metadata": {
        "id": "D4R92SzWs_Ma",
        "outputId": "5857dc21-b238-410a-e092-41a1e64bee69",
        "colab": {
          "base_uri": "https://localhost:8080/"
        }
      },
      "execution_count": null,
      "outputs": [
        {
          "output_type": "stream",
          "name": "stdout",
          "text": [
            "x ning qiymatini kiriting: 1\n",
            "y ning qiymati: 314\n"
          ]
        }
      ]
    },
    {
      "cell_type": "markdown",
      "source": [
        "Begin 27"
      ],
      "metadata": {
        "id": "w6U6AjqdeNmu"
      }
    },
    {
      "cell_type": "code",
      "source": [
        "A = int(input(\"A ning qiymatini kiriting: \"))\n",
        "A2 = A ** 2\n",
        "A4 = A ** 4\n",
        "A8 = A ** 8\n",
        "print(f\"A^2 ning qiymati: {A2}, A^4 ning qiymati: {A4}, A^8 ning qiymati: {A8},\")"
      ],
      "metadata": {
        "id": "HBBa-WTtu_WL",
        "outputId": "c8baa253-6a82-4aee-e256-09818d7c8c14",
        "colab": {
          "base_uri": "https://localhost:8080/"
        }
      },
      "execution_count": null,
      "outputs": [
        {
          "output_type": "stream",
          "name": "stdout",
          "text": [
            "A ning qiymatini kiriting: 2\n",
            "A^2 ning qiymati: 4, A^4 ning qiymati: 16, A^8 ning qiymati: 256,\n"
          ]
        }
      ]
    },
    {
      "cell_type": "markdown",
      "source": [
        "Begin 28"
      ],
      "metadata": {
        "id": "ack3pTENePgb"
      }
    },
    {
      "cell_type": "code",
      "source": [
        "A = int(input(\"A ning qiymatini kiriting: \"))\n",
        "A2 = A ** 2\n",
        "A3 = A ** 3\n",
        "A5 = A ** 5\n",
        "A10 = A ** 10\n",
        "A15 = A ** 15\n",
        "print(f\"A^2 ning qiymati: {A2}, A^3 ning qiymati: {A3}, A^5 ning qiymati: {A5}\")\n",
        "print(f\"A^10 ning qiymati: {A4}, A^15 ning qiymati: {A5}\")"
      ],
      "metadata": {
        "id": "84TBhlxJvkmG",
        "outputId": "417f2b56-f054-4035-8bf4-9c45fc0b17d9",
        "colab": {
          "base_uri": "https://localhost:8080/"
        }
      },
      "execution_count": null,
      "outputs": [
        {
          "output_type": "stream",
          "name": "stdout",
          "text": [
            "A ning qiymatini kiriting: 2\n",
            "A^2 ning qiymati: 4, A^3 ning qiymati: 8, A^5 ning qiymati: 32\n",
            "A^10 ning qiymati: 1024, A^15 ning qiymati: 32768\n"
          ]
        }
      ]
    },
    {
      "cell_type": "markdown",
      "source": [
        "Begin 29"
      ],
      "metadata": {
        "id": "ga67AouveRT5"
      }
    },
    {
      "cell_type": "code",
      "source": [
        "a = int(input(\"A ning qiymatini kiriting: \"))\n",
        "Pi = 3.14\n",
        "r = a * Pi / 180\n",
        "print(f\"Berilgan burchakning r = {r}\")"
      ],
      "metadata": {
        "id": "M12lbPeawLom",
        "colab": {
          "base_uri": "https://localhost:8080/"
        },
        "outputId": "3bd95c29-62b6-40fc-db67-5142b55cd2c8"
      },
      "execution_count": 34,
      "outputs": [
        {
          "output_type": "stream",
          "name": "stdout",
          "text": [
            "A ning qiymatini kiriting: 360\n",
            "Berilgan burchakning r = 6.28\n"
          ]
        }
      ]
    },
    {
      "cell_type": "markdown",
      "source": [
        "Begin 30"
      ],
      "metadata": {
        "id": "_EfBOr8LeTZH"
      }
    },
    {
      "cell_type": "code",
      "source": [
        "r = float(input(\"r ning qiymatini kiriting: \"))\n",
        "Pi = 3.14\n",
        "a = r * 180 / Pi\n",
        "print(f\"Berilgan burchakning a = {a}\")"
      ],
      "metadata": {
        "colab": {
          "base_uri": "https://localhost:8080/"
        },
        "id": "znVNE4evZe71",
        "outputId": "45be2a33-0cad-4822-99f4-68dc5571a3e3"
      },
      "execution_count": 35,
      "outputs": [
        {
          "output_type": "stream",
          "name": "stdout",
          "text": [
            "r ning qiymatini kiriting: 3.14\n",
            "Berilgan burchakning a = 180.0\n"
          ]
        }
      ]
    },
    {
      "cell_type": "markdown",
      "source": [
        "Begin 31"
      ],
      "metadata": {
        "id": "28ORk7dFeV-j"
      }
    },
    {
      "cell_type": "code",
      "source": [
        "Tf = float(input(\"Tf ning qiymatini kiriting: \"))\n",
        "Tc = (Tf - 32) * (5 / 9)\n",
        "print(f\"Tf ni qiymatini Tc gradus selsiyga o'tkazuvchi programma: {Tc}\")"
      ],
      "metadata": {
        "colab": {
          "base_uri": "https://localhost:8080/"
        },
        "id": "OUyBPBrWav4b",
        "outputId": "06972ff5-e5e4-4904-aaca-882709df3bb9"
      },
      "execution_count": 26,
      "outputs": [
        {
          "output_type": "stream",
          "name": "stdout",
          "text": [
            "Tf ning qiymatini kiriting: 68\n",
            "Tf ni qiymatini Tc gradus selsiyga o'tkazuvchi programma: 20.0\n"
          ]
        }
      ]
    },
    {
      "cell_type": "markdown",
      "source": [
        "Begin 32"
      ],
      "metadata": {
        "id": "PL5U470AeZFY"
      }
    },
    {
      "cell_type": "code",
      "source": [
        "Tc = float(input(\"Tc ning qiymatini kiriting: \"))\n",
        "Tf = 5 * 9 * Tc + 32\n",
        "print(f\"Tc ni qiymatini Tf gradus selsiyga o'tkazuvchi programma: {Tf}\")"
      ],
      "metadata": {
        "colab": {
          "base_uri": "https://localhost:8080/"
        },
        "id": "8DAQe56Rb5SD",
        "outputId": "0d5b54bc-6c13-4fbf-c1ff-bf4852175d8b"
      },
      "execution_count": 27,
      "outputs": [
        {
          "output_type": "stream",
          "name": "stdout",
          "text": [
            "Tc ning qiymatini kiriting: 20\n",
            "Tc ni qiymatini Tf gradus selsiyga o'tkazuvchi programma: 68.0\n"
          ]
        }
      ]
    },
    {
      "cell_type": "markdown",
      "source": [
        "Begin 33"
      ],
      "metadata": {
        "id": "hGRVDinkeayV"
      }
    },
    {
      "cell_type": "code",
      "source": [
        "X = float(input(\"Ko'nfetni kg sini kiriting: \"))\n",
        "A = float(input(\"Olingan summani kiriting: \"))\n",
        "kg = A / X\n",
        "Ykg = float(input(\"Ko'nfetni kg sini kiriting: \"))\n",
        "sum = Ykg * kg\n",
        "print(f\"1 kg ko'nfet {kg} so'm turadi, {Ykg} kg konfet {sum} so'm turadi\")"
      ],
      "metadata": {
        "colab": {
          "base_uri": "https://localhost:8080/"
        },
        "id": "YHOaeAUYhC27",
        "outputId": "163c8712-78d9-456c-cc9f-4e5064a2801e"
      },
      "execution_count": null,
      "outputs": [
        {
          "output_type": "stream",
          "name": "stdout",
          "text": [
            "Ko'nfetni kg sini kiriting: 1\n",
            "Olingan summani kiriting: 5000\n",
            "Ko'nfetni kg sini kiriting: 6\n",
            "1 kg ko'nfet 5000.0 so'm turadi, 6.0 kg konfet 30000.0 so'm turadi\n"
          ]
        }
      ]
    },
    {
      "cell_type": "markdown",
      "source": [
        "Begin 34"
      ],
      "metadata": {
        "id": "Kbaoh16PecYf"
      }
    },
    {
      "cell_type": "code",
      "source": [
        "X = float(input(\"Shokolatni kg sini kiriting: \"))\n",
        "A = float(input(\"Olingan summani kiriting: \"))\n",
        "Y = float(input(\"Ko'nfetni kg sini kiriting: \"))\n",
        "B = float(input(\"Olingan summani kiriting: \"))\n",
        "kgSh = A / X\n",
        "kgK = B / Y\n",
        "print(f\"1 kg shokolat {kgSh} so'm turadi, 1 kg ko'nfet {kgK} so'm turadi,\")\n",
        "print(f\"1 kg shokolat 1 kg konfetdan {kgSh - kgK} so'm qimmat\")"
      ],
      "metadata": {
        "colab": {
          "base_uri": "https://localhost:8080/"
        },
        "id": "uYzXmSVvj1Gd",
        "outputId": "0b69df60-4b85-4a1b-ced7-f53ae681c83a"
      },
      "execution_count": null,
      "outputs": [
        {
          "output_type": "stream",
          "name": "stdout",
          "text": [
            "Shokolatni kg sini kiriting: 4\n",
            "Olingan summani kiriting: 30\n",
            "Ko'nfetni kg sini kiriting: 7\n",
            "Olingan summani kiriting: 21\n",
            "1 kg shokolat 7.5 so'm turadi, 1 kg ko'nfet 3.0 so'm turadi,\n",
            "1 kg shokolat 1 kg konfetdan 4.5 so'm qimmat\n"
          ]
        }
      ]
    },
    {
      "cell_type": "markdown",
      "source": [
        "Begin 35"
      ],
      "metadata": {
        "id": "6BFwFSIwed5r"
      }
    },
    {
      "cell_type": "code",
      "source": [
        "V = float(input(\"Qayiqning tezligi: \"))\n",
        "U = float(input(\"Daryoning tezligi: \"))\n",
        "T1 = float(input(\"Qayiqning oqimga bo'yicha yurgan vaqti: \"))\n",
        "T2 = float(input(\"Qayiqning oqimga qarshi yurgan vaqti: \"))\n",
        "S = (V + U) * T1 + (V - U) * T2\n",
        "print(f\"Qayiq oqim bo'yicha tezligi {(V + U) * T1} km\\n\"\n",
        "      f\"oqimga qarshi tezligi {(V - U) * T2} km\\n\")\n",
        "print(f\"Qayiq {T1 + T2} soatda {S} km yurgan\")"
      ],
      "metadata": {
        "colab": {
          "base_uri": "https://localhost:8080/"
        },
        "id": "eYlynyV6lZPj",
        "outputId": "43262e38-a0b2-4686-f43b-0ea3ef34cb02"
      },
      "execution_count": 36,
      "outputs": [
        {
          "output_type": "stream",
          "name": "stdout",
          "text": [
            "Qayiqning tezligi: 12\n",
            "Daryoning tezligi: 6\n",
            "Qayiqning oqimga bo'yicha yurgan vaqti: 10\n",
            "Qayiqning oqimga qarshi yurgan vaqti: 3\n",
            "Qayiq oqim bo'yicha tezligi 180.0 kmoqimga qarshi tezligi 18.0 km\n",
            "Qayiq 13.0 soatda 198.0 km yurgan\n"
          ]
        }
      ]
    },
    {
      "cell_type": "markdown",
      "source": [
        "Begin 36"
      ],
      "metadata": {
        "id": "lbAcOBSLegjo"
      }
    },
    {
      "cell_type": "code",
      "source": [
        "V1 = float(input(\"1-avtomobilning tezligi: \"))\n",
        "V2 = float(input(\"2-avtomobilning tezligi: \"))\n",
        "S = float(input(\"Ular orasidagi masofa: \"))\n",
        "T = float(input(\"Bosib o'tilgan vaqt: \"))\n",
        "print(f\"avtomobillarning orasidagi masofa: {(V1 + V2) * T + S} km\")"
      ],
      "metadata": {
        "colab": {
          "base_uri": "https://localhost:8080/"
        },
        "id": "MDYiW07Cn2OT",
        "outputId": "e9f12f88-f1cd-4748-cb96-ca6262e067a8"
      },
      "execution_count": null,
      "outputs": [
        {
          "output_type": "stream",
          "name": "stdout",
          "text": [
            "1-avtomobilning tezligi: 30\n",
            "2-avtomobilning tezligi: 35\n",
            "Ular orasidagi masofa: 50\n",
            "Bosib o'tilgan vaqt: 5\n",
            "avtomobillarning orasidagi masofa: 375.0\n"
          ]
        }
      ]
    },
    {
      "cell_type": "markdown",
      "source": [
        "Begin 37"
      ],
      "metadata": {
        "id": "xHdFiypUeiyZ"
      }
    },
    {
      "cell_type": "code",
      "source": [
        "V1 = float(input(\"1-avtomobilning tezligi: \"))\n",
        "V2 = float(input(\"2-avtomobilning tezligi: \"))\n",
        "S = float(input(\"Ular orasidagi masofa: \"))\n",
        "T = float(input(\"Bosib o'tilgan vaqt: \"))\n",
        "print(f\"avtomobillarning orasidagi masofa: {abs(S -(V1 + V2) * T)} km\")"
      ],
      "metadata": {
        "id": "hUURxWC9pIis",
        "colab": {
          "base_uri": "https://localhost:8080/"
        },
        "outputId": "415fc3df-5b92-4f44-bcfa-b61508642177"
      },
      "execution_count": 37,
      "outputs": [
        {
          "output_type": "stream",
          "name": "stdout",
          "text": [
            "1-avtomobilning tezligi: 1\n",
            "2-avtomobilning tezligi: 2\n",
            "Ular orasidagi masofa: 3\n",
            "Bosib o'tilgan vaqt: 4\n",
            "avtomobillarning orasidagi masofa: -9.0 km\n"
          ]
        }
      ]
    },
    {
      "cell_type": "markdown",
      "source": [
        "Begin 38"
      ],
      "metadata": {
        "id": "lo40zvJoekrm"
      }
    },
    {
      "cell_type": "code",
      "source": [
        "A = int(input(\"A ning qiymatini kiriting: \"))\n",
        "B = int(input(\"B ning qiymatini kiriting: \"))\n",
        "x = (B / A) * (-1)\n",
        "print(x)\n",
        "print(f\"A * x + B = {A * x + B}, x = {x}\")"
      ],
      "metadata": {
        "colab": {
          "base_uri": "https://localhost:8080/"
        },
        "id": "pVLU8hrOpkgL",
        "outputId": "3d67c7a0-f266-4f5e-ffd9-bcb00c943131"
      },
      "execution_count": null,
      "outputs": [
        {
          "output_type": "stream",
          "name": "stdout",
          "text": [
            "A ning qiymatini kiriting: 2\n",
            "B ning qiymatini kiriting: 6\n",
            "-3.0\n",
            "A * x + B = 0.0, x = -3.0\n"
          ]
        }
      ]
    },
    {
      "cell_type": "markdown",
      "source": [
        "Begin 39"
      ],
      "metadata": {
        "id": "3N6PTmLrem0I"
      }
    },
    {
      "cell_type": "code",
      "source": [
        "A = int(input(\"A ning qiymatini kiriting: \"))\n",
        "B = int(input(\"B ning qiymatini kiriting: \"))\n",
        "C = int(input(\"C ning qiymatini kiriting: \"))\n",
        "D = B ** 2 - 4 * A * C\n",
        "x1 = ((-B) + D ** 0.5) /( 2 * A)\n",
        "x2 = ((-B) - D ** 0.5) / (2 * A)\n",
        "print(f\"D = B ** 2 - 4 * A * C,  D = {D}\")\n",
        "print(f\"A * x1 ** 2 + B * x + C = {A * x1 ** 2 + B * x1 + C}, x1 = {x1}\")\n",
        "print(f\"A * x2 ** 2 + B * x + C = {A * x2 ** 2 + B * x2 + C}, x2 = {x2}\")\n",
        "x3 = ((-B) + (B ** 2 - 4 * A * C) ** 0.5) / (2 * A)\n",
        "x4 = ((-B) - (B ** 2 - 4 * A * C) ** 0.5) / (2 * A)\n",
        "print(f\"A * x3 ** 2 + B * x + C = {A * x3 ** 2 + B * x3 + C}, x3 = {x3}\")\n",
        "print(f\"A * x4 ** 2 + B * x + C = {A * x4 ** 2 + B * x4 + C}, x4 = {x4}\")"
      ],
      "metadata": {
        "colab": {
          "base_uri": "https://localhost:8080/"
        },
        "id": "lZIG4Rdct_5a",
        "outputId": "78b041cc-688f-4959-cfa1-07e6b4e0146e"
      },
      "execution_count": null,
      "outputs": [
        {
          "output_type": "stream",
          "name": "stdout",
          "text": [
            "A ning qiymatini kiriting: 2\n",
            "B ning qiymatini kiriting: -10\n",
            "C ning qiymatini kiriting: 12\n",
            "D = B ** 2 - 4 * A * C,  D = 4\n",
            "A * x1 ** 2 + B * x + C = 0.0, x1 = 3.0\n",
            "A * x2 ** 2 + B * x + C = 0.0, x2 = 2.0\n",
            "A * x3 ** 2 + B * x + C = 0.0, x3 = 3.0\n",
            "A * x4 ** 2 + B * x + C = 0.0, x4 = 3.0\n"
          ]
        }
      ]
    },
    {
      "cell_type": "markdown",
      "source": [
        "Begin 40"
      ],
      "metadata": {
        "id": "TVXGioRWeqDX"
      }
    },
    {
      "cell_type": "code",
      "source": [
        "A1 = int(input(\"A ning qiymatini kiriting: \"))\n",
        "B1 = int(input(\"B ning qiymatini kiriting: \"))\n",
        "C1 = int(input(\"C ning qiymatini kiriting: \"))\n",
        "A2 = int(input(\"A ning qiymatini kiriting: \"))\n",
        "B2 = int(input(\"B ning qiymatini kiriting: \"))\n",
        "C2 = int(input(\"C ning qiymatini kiriting: \"))\n",
        "D = A1 * B2 - A2 * B1\n",
        "X = C1 * B2 - C2 * B1 / D\n",
        "Y = A1 * C2 - A2 * C1 / D\n",
        "C1 = A1 * X + B1 * Y\n",
        "C2 = A2 * X + B2 * Y\n",
        "print(f\"D = {D}, X = {X}, Y = {Y}, C1 = {C1}, C2 = {C2}\")"
      ],
      "metadata": {
        "id": "-AT_dfgz5pB2",
        "colab": {
          "base_uri": "https://localhost:8080/"
        },
        "outputId": "0b3443fd-42e9-4948-8b5b-919cb636284b"
      },
      "execution_count": null,
      "outputs": [
        {
          "output_type": "stream",
          "name": "stdout",
          "text": [
            "A ning qiymatini kiriting: 1\n",
            "B ning qiymatini kiriting: -9\n",
            "C ning qiymatini kiriting: 11\n",
            "A ning qiymatini kiriting: 2\n",
            "B ning qiymatini kiriting: -10\n",
            "C ning qiymatini kiriting: 12\n",
            "D = 8, X = -2, Y = -10, C1 = 88, C2 = 96\n"
          ]
        }
      ]
    }
  ]
}