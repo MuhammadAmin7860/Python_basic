{
  "nbformat": 4,
  "nbformat_minor": 0,
  "metadata": {
    "colab": {
      "provenance": [],
      "collapsed_sections": []
    },
    "kernelspec": {
      "name": "python3",
      "display_name": "Python 3"
    },
    "language_info": {
      "name": "python"
    }
  },
  "cells": [
    {
      "cell_type": "code",
      "execution_count": null,
      "metadata": {
        "colab": {
          "base_uri": "https://localhost:8080/"
        },
        "id": "PTKJTjQd5J5G",
        "outputId": "27798a83-053f-4340-9193-89306b89fdd9"
      },
      "outputs": [
        {
          "output_type": "stream",
          "name": "stdout",
          "text": [
            "Please enter a value: A = 2\n",
            "3\n"
          ]
        }
      ],
      "source": [
        "# if 1\n",
        "A = int(input(\"Please enter a value: A = \"))\n",
        "if 0 < A:\n",
        "  A += 1\n",
        "print(A)"
      ]
    },
    {
      "cell_type": "code",
      "source": [
        "# if 2\n",
        "A = int(input(\"Please enter a value: A = \"))\n",
        "if 0 < A:\n",
        "  A += 1\n",
        "else:\n",
        "  A -= 2\n",
        "print(A)"
      ],
      "metadata": {
        "colab": {
          "base_uri": "https://localhost:8080/"
        },
        "id": "f7GV9_zMBM84",
        "outputId": "709b48d0-9a79-4936-aa34-4078c3ad4b38"
      },
      "execution_count": null,
      "outputs": [
        {
          "output_type": "stream",
          "name": "stdout",
          "text": [
            "Please enter a value: A = 0\n",
            "10\n"
          ]
        }
      ]
    },
    {
      "cell_type": "code",
      "source": [
        "# if 3\n",
        "A = int(input(\"Please enter a value: A = \"))\n",
        "if 0 < A:\n",
        "  A += 1\n",
        "elif 0 > A:\n",
        "  A -= 2\n",
        "elif 0 == A:\n",
        "  A += 10\n",
        "print(A)"
      ],
      "metadata": {
        "id": "EGqgDqvbDhzy",
        "outputId": "95f69159-9ab7-44db-d43b-dde49bace1dc",
        "colab": {
          "base_uri": "https://localhost:8080/"
        }
      },
      "execution_count": null,
      "outputs": [
        {
          "output_type": "stream",
          "name": "stdout",
          "text": [
            "Please enter a value: A = 0\n",
            "10\n"
          ]
        }
      ]
    },
    {
      "cell_type": "code",
      "source": [
        "# if 4\n",
        "A = int(input(\"Please enter a value: A = \"))\n",
        "B = int(input(\"Please enter a value: B = \"))\n",
        "C = int(input(\"Please enter a value: C = \"))\n",
        "P = 0\n",
        "if 0 < A:\n",
        "  P += 1\n",
        "elif 0 < B:\n",
        "  P += 1\n",
        "elif 0 < C:\n",
        "  P += 1\n",
        "print(P)"
      ],
      "metadata": {
        "colab": {
          "base_uri": "https://localhost:8080/"
        },
        "id": "19-wBv2gBM5t",
        "outputId": "1e7e03da-5b35-4de5-e3a8-522d596cc195"
      },
      "execution_count": null,
      "outputs": [
        {
          "output_type": "stream",
          "name": "stdout",
          "text": [
            "Please enter a value: A = 23\n",
            "Please enter a value: B = -21\n",
            "Please enter a value: C = -78\n",
            "1\n"
          ]
        }
      ]
    },
    {
      "cell_type": "code",
      "source": [
        "# if 5\n",
        "A = int(input(\"Please enter a value: A = \"))\n",
        "B = int(input(\"Please enter a value: B = \"))\n",
        "C = int(input(\"Please enter a value: C = \"))\n",
        "P = 0\n",
        "N = 0\n",
        "if 0 < A:\n",
        "  P += 1\n",
        "  N += 1\n",
        "elif 0 < B:\n",
        "  P += 1\n",
        "  N += 1\n",
        "elif 0 < C:\n",
        "  P += 1\n",
        "  N += 1\n",
        "print(f\"Positive: P = {P}\")\n",
        "print(f\"Negative: N = {N}\")"
      ],
      "metadata": {
        "id": "Q2b0NQHLBM2v",
        "colab": {
          "base_uri": "https://localhost:8080/"
        },
        "outputId": "0d568cd5-932b-4e88-e879-6ed60c1d76fd"
      },
      "execution_count": 28,
      "outputs": [
        {
          "output_type": "stream",
          "name": "stdout",
          "text": [
            "Please enter a value: A = 1\n",
            "Please enter a value: B = 0\n",
            "Please enter a value: C = -1\n",
            "Positive: P = 1\n",
            "Negative: N = 1\n"
          ]
        }
      ]
    },
    {
      "cell_type": "code",
      "source": [
        "# if 6\n",
        "A = int(input(\"Please enter a value: A = \"))\n",
        "B = int(input(\"Please enter a value: B = \"))\n",
        "if A > B:\n",
        "  print(A)\n",
        "elif A < B:\n",
        "  print(B)\n",
        "else:\n",
        "  print(A == B)"
      ],
      "metadata": {
        "colab": {
          "base_uri": "https://localhost:8080/"
        },
        "id": "hc7kOmoEBM0G",
        "outputId": "c66c9894-8dd1-4283-ba76-f9d8805c001c"
      },
      "execution_count": null,
      "outputs": [
        {
          "output_type": "stream",
          "name": "stdout",
          "text": [
            "Please enter a value: A = 2\n",
            "Please enter a value: B = 5\n",
            "5\n"
          ]
        }
      ]
    },
    {
      "cell_type": "code",
      "source": [
        "# if 7\n",
        "A = int(input(\"Please enter a value: A = \"))\n",
        "B = int(input(\"Please enter a value: B = \"))\n",
        "if A < B:\n",
        "  print(1)\n",
        "elif A > B:\n",
        "  print(2)\n",
        "else:\n",
        "  print(A == B)"
      ],
      "metadata": {
        "id": "DdQnf8kbBMxS",
        "colab": {
          "base_uri": "https://localhost:8080/"
        },
        "outputId": "428d8921-bb38-4bed-a6e1-a07e35e9bb11"
      },
      "execution_count": null,
      "outputs": [
        {
          "output_type": "stream",
          "name": "stdout",
          "text": [
            "Please enter a value: A = 4\n",
            "Please enter a value: B = 8\n",
            "1\n"
          ]
        }
      ]
    },
    {
      "cell_type": "code",
      "source": [
        "# if 8\n",
        "A = int(input(\"Please enter a value: A = \"))\n",
        "B = int(input(\"Please enter a value: B = \"))\n",
        "if A > B:\n",
        "  print(f\"A = {A}, B = {B}\")\n",
        "elif A < B:\n",
        "  print(f\"A = {B}, B = {A}\")\n",
        "else:\n",
        "  print(A == B)"
      ],
      "metadata": {
        "id": "QWj1kXUDBMup",
        "colab": {
          "base_uri": "https://localhost:8080/"
        },
        "outputId": "e915ef34-cf0b-47eb-c009-ffffdd1c236c"
      },
      "execution_count": null,
      "outputs": [
        {
          "output_type": "stream",
          "name": "stdout",
          "text": [
            "Please enter a value: A = 20\n",
            "Please enter a value: B = 22\n",
            "A = 20, B = 22\n"
          ]
        }
      ]
    },
    {
      "cell_type": "code",
      "source": [
        "# if 9\n",
        "A = int(input(\"Please enter a value: A = \"))\n",
        "B = int(input(\"Please enter a value: B = \"))\n",
        "if A < B:\n",
        "  print(f\"A = {A}, B = {B}\")\n",
        "elif A > B:\n",
        "  A = A + B\n",
        "  B = A - B\n",
        "  A = A - B\n",
        "  print(f\"A = {A}, B = {B}\")"
      ],
      "metadata": {
        "id": "8TbbmiTSBMsB",
        "colab": {
          "base_uri": "https://localhost:8080/"
        },
        "outputId": "d1c3fa74-1d90-4b69-dd12-6b6aea437e8b"
      },
      "execution_count": null,
      "outputs": [
        {
          "output_type": "stream",
          "name": "stdout",
          "text": [
            "Please enter a value: A = 22\n",
            "Please enter a value: B = 20\n",
            "A = 20, B = 22\n"
          ]
        }
      ]
    },
    {
      "cell_type": "code",
      "source": [
        "# if 10\n",
        "A = int(input(\"Please enter a value: A = \"))\n",
        "B = int(input(\"Please enter a value: B = \"))\n",
        "if A != B:\n",
        "  A += B\n",
        "  B = A\n",
        "  print(f\"A = {A}, B = {B}\")\n",
        "elif A == B:\n",
        "  A = 0\n",
        "  B = A\n",
        "  print(f\"A = {A}, B = {B}\")"
      ],
      "metadata": {
        "id": "ToujtblSBMpC",
        "colab": {
          "base_uri": "https://localhost:8080/"
        },
        "outputId": "3191f989-29a3-438c-baa0-1d2c4f226130"
      },
      "execution_count": null,
      "outputs": [
        {
          "output_type": "stream",
          "name": "stdout",
          "text": [
            "Please enter a value: A = 34\n",
            "Please enter a value: B = 34\n",
            "A = 0, B = 0\n"
          ]
        }
      ]
    },
    {
      "cell_type": "code",
      "source": [
        "# if 11\n",
        "A = int(input(\"Please enter a value: A = \"))\n",
        "B = int(input(\"Please enter a value: B = \"))\n",
        "if A < B:\n",
        "  A = B\n",
        "  print(f\"A = {A}, B = {B}\")\n",
        "elif A > B:\n",
        "  B = A\n",
        "  print(f\"A = {A}, B = {B}\")\n",
        "elif A == B:\n",
        "  A = 0\n",
        "  B = A\n",
        "  print(f\"A = {A}, B = {B}\")"
      ],
      "metadata": {
        "id": "ieE-CqlIUzj1"
      },
      "execution_count": null,
      "outputs": []
    },
    {
      "cell_type": "code",
      "source": [
        "# if 12\n",
        "A = int(input(\"Please enter a value: A = \"))\n",
        "B = int(input(\"Please enter a value: B = \"))\n",
        "if A < B:\n",
        "  B = A\n",
        "  print(f\"A = {A}, B = {B}\")\n",
        "elif A > B:\n",
        "  A = B\n",
        "  print(f\"A = {A}, B = {B}\")\n",
        "elif A == B:\n",
        "  A = 0\n",
        "  B = A\n",
        "  print(f\"A = {A}, B = {B}\")"
      ],
      "metadata": {
        "id": "odzo1EICBMmk"
      },
      "execution_count": null,
      "outputs": []
    },
    {
      "cell_type": "code",
      "source": [
        "# if 12\n",
        "A = int(input(\"Please enter a value: A = \"))\n",
        "B = int(input(\"Please enter a value: B = \"))\n",
        "C = int(input(\"Please enter a value: C = \"))\n",
        "if A > B < C:\n",
        "  print(f\"B = {B}\")\n",
        "elif B > A < C:\n",
        "  print(f\"A = {A}\")\n",
        "elif B > C < A:\n",
        "  print(f\"C = {C}\")"
      ],
      "metadata": {
        "id": "wKK5oI93BMjw",
        "colab": {
          "base_uri": "https://localhost:8080/"
        },
        "outputId": "72175006-9e09-44e1-9075-8644a9013a92"
      },
      "execution_count": null,
      "outputs": [
        {
          "output_type": "stream",
          "name": "stdout",
          "text": [
            "Please enter a value: A = 7\n",
            "Please enter a value: B = 8\n",
            "Please enter a value: C = 6\n",
            "C = 6\n"
          ]
        }
      ]
    },
    {
      "cell_type": "code",
      "source": [
        "# if 13\n",
        "A = int(input(\"Please enter a value: A = \"))\n",
        "B = int(input(\"Please enter a value: B = \"))\n",
        "C = int(input(\"Please enter a value: C = \"))\n",
        "if A < B < C or A > B > C:\n",
        "  print(f\"B = {B}\")\n",
        "elif B < A < C or B > A > C:\n",
        "  print(f\"A = {A}\")\n",
        "elif B < C < A or B > C > A:\n",
        "  print(f\"C = {C}\")"
      ],
      "metadata": {
        "id": "SlriU30eBMhH",
        "colab": {
          "base_uri": "https://localhost:8080/"
        },
        "outputId": "a7a2e909-93b8-499b-db05-40a8d56bac65"
      },
      "execution_count": null,
      "outputs": [
        {
          "output_type": "stream",
          "name": "stdout",
          "text": [
            "Please enter a value: A = 7\n",
            "Please enter a value: B = 8\n",
            "Please enter a value: C = 6\n",
            "A = 7\n"
          ]
        }
      ]
    },
    {
      "cell_type": "code",
      "source": [
        "# if 14\n",
        "A = int(input(\"Please enter a value: A = \"))\n",
        "B = int(input(\"Please enter a value: B = \"))\n",
        "C = int(input(\"Please enter a value: C = \"))\n",
        "if A < B < C:\n",
        "  print(f\"A = {A}, C = {C}\")\n",
        "elif A < C < B:\n",
        "  print(f\"A = {A}, B = {B}\")\n",
        "elif B < A < C:\n",
        "  print(f\"B = {B}, C = {C}\")\n",
        "elif B < C < A:\n",
        "  print(f\"B = {B}, A = {A}\")\n",
        "elif C < B < A:\n",
        "  print(f\"C = {C}, A = {A}\")\n",
        "elif C < A < B:\n",
        "  print(f\"C = {C}, B = {B}\")"
      ],
      "metadata": {
        "id": "wDyOFgkwBMee",
        "colab": {
          "base_uri": "https://localhost:8080/"
        },
        "outputId": "a2a90358-3d79-4e0e-e817-648e8639b71b"
      },
      "execution_count": null,
      "outputs": [
        {
          "output_type": "stream",
          "name": "stdout",
          "text": [
            "Please enter a value: A = 7\n",
            "Please enter a value: B = 8\n",
            "Please enter a value: C = 6\n",
            "C = 6, B = 8\n"
          ]
        }
      ]
    },
    {
      "cell_type": "code",
      "source": [
        "# if 15\n",
        "A = int(input(\"Please enter a value: A = \"))\n",
        "B = int(input(\"Please enter a value: B = \"))\n",
        "C = int(input(\"Please enter a value: C = \"))\n",
        "if A < B < C or A < C < B:\n",
        "  print(f\"B = {B}, C = {C}\")\n",
        "elif B < A < C or B < C < A:\n",
        "  print(f\"A = {A}, C = {C}\")\n",
        "elif C < B < A or C < A < B:\n",
        "  print(f\"B = {B}, A = {A}\")"
      ],
      "metadata": {
        "id": "t5YikjKNBMcB",
        "colab": {
          "base_uri": "https://localhost:8080/"
        },
        "outputId": "8c1984fc-0fb4-44d7-962a-6cf0f572ae3f"
      },
      "execution_count": null,
      "outputs": [
        {
          "output_type": "stream",
          "name": "stdout",
          "text": [
            "Please enter a value: A = 7\n",
            "Please enter a value: B = 8\n",
            "Please enter a value: C = 6\n",
            "B = 8, A = 7\n"
          ]
        }
      ]
    },
    {
      "cell_type": "code",
      "source": [
        "# if 16\n",
        "A = int(input(\"Please enter a value: A = \"))\n",
        "B = int(input(\"Please enter a value: B = \"))\n",
        "C = int(input(\"Please enter a value: C = \"))\n",
        "if A < B < C:\n",
        "  print(f\"A = {A * 2}, B = {B * 2}, C = {C * 2}\")\n",
        "else:\n",
        "  print(f\"A = {A * (-1)}, B = {B * (-1)}, C = {C * (-1)}\")"
      ],
      "metadata": {
        "id": "_oVbbDfphHy_",
        "colab": {
          "base_uri": "https://localhost:8080/"
        },
        "outputId": "4fa8f757-4d12-49b9-a6f3-c4b52e5da645"
      },
      "execution_count": null,
      "outputs": [
        {
          "output_type": "stream",
          "name": "stdout",
          "text": [
            "Please enter a value: A = 7\n",
            "Please enter a value: B = 8\n",
            "Please enter a value: C = 6\n",
            "A = -7, B = -8, C = -6\n"
          ]
        }
      ]
    },
    {
      "cell_type": "code",
      "source": [
        "# if 17\n",
        "A = int(input(\"Please enter a value: A = \"))\n",
        "B = int(input(\"Please enter a value: B = \"))\n",
        "C = int(input(\"Please enter a value: C = \"))\n",
        "if A < B < C or A > B > C:\n",
        "  print(f\"A = {A * 2}, B = {B * 2}, C = {C * 2}\")\n",
        "else:\n",
        "  print(f\"A = {A * (-1)}, B = {B * (-1)}, C = {C * (-1)}\")"
      ],
      "metadata": {
        "colab": {
          "base_uri": "https://localhost:8080/"
        },
        "id": "bdt5f3ODzYuh",
        "outputId": "0891b6e4-86a2-49cd-b61e-20ad415d054a"
      },
      "execution_count": null,
      "outputs": [
        {
          "output_type": "stream",
          "name": "stdout",
          "text": [
            "Please enter a value: A = 7\n",
            "Please enter a value: B = 8\n",
            "Please enter a value: C = 9\n",
            "A = 14, B = 16, C = 18\n"
          ]
        }
      ]
    },
    {
      "cell_type": "code",
      "source": [
        "# if 18\n",
        "A = int(input(\"Please enter a value: A = \"))\n",
        "B = int(input(\"Please enter a value: B = \"))\n",
        "C = int(input(\"Please enter a value: C = \"))\n",
        "if A == B:\n",
        "  print(f\"C = {3}\")\n",
        "elif B == C:\n",
        "  print(f\"A = {2}\")\n",
        "elif C == A:\n",
        "  print(f\"B = {1}\")"
      ],
      "metadata": {
        "colab": {
          "base_uri": "https://localhost:8080/"
        },
        "id": "aK_n89EzzYmQ",
        "outputId": "bbb816b6-8a31-4994-fbbe-ca580673f0e5"
      },
      "execution_count": null,
      "outputs": [
        {
          "output_type": "stream",
          "name": "stdout",
          "text": [
            "Please enter a value: A = 7\n",
            "Please enter a value: B = 8\n",
            "Please enter a value: C = 7\n",
            "B = 1\n"
          ]
        }
      ]
    },
    {
      "cell_type": "code",
      "source": [
        "# if 19\n",
        "A = int(input(\"Please enter a value: A = \"))\n",
        "B = int(input(\"Please enter a value: B = \"))\n",
        "C = int(input(\"Please enter a value: C = \"))\n",
        "D = int(input(\"Please enter a value: D = \"))\n",
        "if A == B == C:\n",
        "  print(f\"D = {4}\")\n",
        "elif A == B == D:\n",
        "  print(f\"C = {3}\")\n",
        "elif A == D == C:\n",
        "  print(f\"B = {2}\")\n",
        "elif D == B == C:\n",
        "  print(f\"A = {1}\")"
      ],
      "metadata": {
        "colab": {
          "base_uri": "https://localhost:8080/"
        },
        "id": "LX3DAhc0zYiZ",
        "outputId": "8186ac08-1002-40fb-bbf6-376b5ea4fe00"
      },
      "execution_count": null,
      "outputs": [
        {
          "output_type": "stream",
          "name": "stdout",
          "text": [
            "Please enter a value: A = 7\n",
            "Please enter a value: B = 8\n",
            "Please enter a value: C = 7\n",
            "Please enter a value: D = 7\n",
            "B = 2\n"
          ]
        }
      ]
    },
    {
      "cell_type": "code",
      "source": [
        "# if 20\n",
        "A = int(input(\"Please enter a value: A = \"))\n",
        "B = int(input(\"Please enter a value: B = \"))\n",
        "C = int(input(\"Please enter a value: C = \"))\n",
        "if abs(B - A) < abs(C - A):\n",
        "  print(f\"B = {abs(B - A)}\")\n",
        "elif abs(B - A) > abs(C - A):\n",
        "  print(f\"C = {abs(C - A)}\")"
      ],
      "metadata": {
        "colab": {
          "base_uri": "https://localhost:8080/"
        },
        "id": "N7DsJr0j3Oxy",
        "outputId": "bbc79a58-442f-4e8b-ffea-9ddf977e24ea"
      },
      "execution_count": null,
      "outputs": [
        {
          "output_type": "stream",
          "name": "stdout",
          "text": [
            "Please enter a value: A = 7\n",
            "Please enter a value: B = 4\n",
            "Please enter a value: C = 14\n",
            "B = 3\n"
          ]
        }
      ]
    },
    {
      "cell_type": "code",
      "source": [
        "# if 21\n",
        "X = int(input(\"Please enter a value: X = \"))\n",
        "Y = int(input(\"Please enter a value: Y = \"))\n",
        "if X == 0 and Y == 0:\n",
        "  print(f\"O = 0\")\n",
        "elif X == 0 and Y != 0:\n",
        "  print(f\"O = 1\")\n",
        "elif X != 0 and Y == 0:\n",
        "  print(f\"O = 2\")\n",
        "elif X != 0 and Y != 0:\n",
        "  print(f\"O = 3\")"
      ],
      "metadata": {
        "colab": {
          "base_uri": "https://localhost:8080/"
        },
        "id": "96b1ACa06i2W",
        "outputId": "58ee036e-bfe2-4ee4-f861-774bb2350a07"
      },
      "execution_count": null,
      "outputs": [
        {
          "output_type": "stream",
          "name": "stdout",
          "text": [
            "Please enter a value: X = 4\n",
            "Please enter a value: Y = 5\n",
            "O = 3\n"
          ]
        }
      ]
    },
    {
      "cell_type": "code",
      "source": [
        "# if 22\n",
        "X = int(input(\"Please enter a value: X = \"))\n",
        "Y = int(input(\"Please enter a value: Y = \"))\n",
        "if X > 0 and Y > 0:\n",
        "  print(f\"O = 1\")\n",
        "elif X < 0 and Y > 0:\n",
        "  print(f\"O = 2\")\n",
        "elif X < 0 and Y < 0:\n",
        "  print(f\"O = 3\")\n",
        "elif X > 0 and Y < 0:\n",
        "  print(f\"O = 4\")"
      ],
      "metadata": {
        "colab": {
          "base_uri": "https://localhost:8080/"
        },
        "id": "xvy6vlM5NHzj",
        "outputId": "6b6194e7-2548-473a-bf12-f33b8a83d8cb"
      },
      "execution_count": null,
      "outputs": [
        {
          "output_type": "stream",
          "name": "stdout",
          "text": [
            "Please enter a value: X = 4\n",
            "Please enter a value: Y = -3\n",
            "O = 4\n"
          ]
        }
      ]
    },
    {
      "cell_type": "code",
      "source": [
        "# if 23\n",
        "X1 = int(input(\"Please enter a value: X1 = \"))\n",
        "Y1 = int(input(\"Please enter a value: Y1 = \"))\n",
        "\n",
        "X2 = int(input(\"Please enter a value: X2 = \"))\n",
        "Y2 = int(input(\"Please enter a value: Y2 = \"))\n",
        "\n",
        "X3 = int(input(\"Please enter a value: X3 = \"))\n",
        "Y3 = int(input(\"Please enter a value: Y3 = \"))\n",
        "\n",
        "X4 = (X3 - X1) + X2\n",
        "Y4 = (Y2 - Y1) + Y3\n",
        "\n",
        "print(f\"X4 = {X4}, Y4 = {Y4}\")"
      ],
      "metadata": {
        "colab": {
          "base_uri": "https://localhost:8080/"
        },
        "id": "vMeiGuDlNHxF",
        "outputId": "cbaf5e0e-f304-4245-be4b-362b0513ff73"
      },
      "execution_count": null,
      "outputs": [
        {
          "output_type": "stream",
          "name": "stdout",
          "text": [
            "Please enter a value: X1 = 2\n",
            "Please enter a value: Y1 = 1\n",
            "Please enter a value: X2 = 2\n",
            "Please enter a value: Y2 = 5\n",
            "Please enter a value: X3 = 7\n",
            "Please enter a value: Y3 = 1\n",
            "X4 = 7, Y4 = 5\n"
          ]
        }
      ]
    },
    {
      "cell_type": "code",
      "source": [
        "### if 24\n",
        "from math import sin\n",
        "\n",
        "X = int(input(\"Please enter a value: X = \"))\n",
        "\n",
        "if X > 0:\n",
        "  print(f\"2 * X = {2 * sin(X)}\")\n",
        "else:\n",
        "  print(f\"X - 6 = {X - 6}\")"
      ],
      "metadata": {
        "id": "s_d2vpDyNHu0",
        "colab": {
          "base_uri": "https://localhost:8080/"
        },
        "outputId": "3f2950bc-5637-4999-ed66-1c09e98edc95"
      },
      "execution_count": 29,
      "outputs": [
        {
          "output_type": "stream",
          "name": "stdout",
          "text": [
            "Please enter a value: X = 0\n",
            "X - 6 = -6\n"
          ]
        }
      ]
    },
    {
      "cell_type": "code",
      "source": [
        "### if 25\n",
        "X = int(input(\"Please enter a value: X = \"))\n",
        "\n",
        "if X < (-2) or X > 2:\n",
        "  print(f\"2 * X = {2 * X}\")\n",
        "else:\n",
        "  print(f\"(-3) * X = {(-3) * X}\")"
      ],
      "metadata": {
        "id": "RKvBxBjETTHI"
      },
      "execution_count": null,
      "outputs": []
    },
    {
      "cell_type": "code",
      "source": [
        "### if 26\n",
        "X = int(input(\"Please enter a value: X = \"))\n",
        "\n",
        "if X <= 0:\n",
        "  print(f\"-X = {X * (-1)}\")\n",
        "elif 0 < X < 2:\n",
        "  print(f\"X^2 = {x ** 2}\")\n",
        "elif X >= 2:\n",
        "  print(f\"X = 4\")"
      ],
      "metadata": {
        "id": "uOtjFG6yTTCw"
      },
      "execution_count": null,
      "outputs": []
    },
    {
      "cell_type": "code",
      "source": [
        "### if 27\n",
        "X = int(input(\"Please enter a value: X = \"))\n",
        "if X < 0:\n",
        "  print(f\"X = 0\")\n",
        "elif X % 2 != 1:\n",
        "  print(f\"X = 1\")\n",
        "else:\n",
        "  print(f\"X = -1\")"
      ],
      "metadata": {
        "id": "Lw_MYwIGTSy7"
      },
      "execution_count": null,
      "outputs": []
    },
    {
      "cell_type": "code",
      "source": [
        "### if 28\n",
        "X = int(input(\"Please enter a year: X = \"))\n",
        "print(X / 4)\n",
        "print(X % 4)\n",
        "print(X // 4)\n",
        "if X // 4 > 0:\n",
        "  X1 = X // 4\n",
        "  if X // 100 > 0:\n",
        "    if X // 400 > 0:\n",
        "      X2 = X // 400\n",
        "    X3 = X // 100\n",
        "print(\"Berilgan yildagi barcha kunlar yig'indisi\", X * 365 + X1 - (X3 - X2))\n",
        "\n",
        "\n",
        "_bool = False\n",
        "\n",
        "if X % 4 == 0:\n",
        "    _bool = True\n",
        "\n",
        "if X % 100 == 0 and X % 400 != 0:\n",
        "    _bool = False\n",
        "\n",
        "print(f\"{X}-yilda {365 + _bool} kun bor\")"
      ],
      "metadata": {
        "id": "bgsZTJw4TStf",
        "colab": {
          "base_uri": "https://localhost:8080/"
        },
        "outputId": "4784d1e7-8c55-4313-c130-f35e424994da"
      },
      "execution_count": 31,
      "outputs": [
        {
          "output_type": "stream",
          "name": "stdout",
          "text": [
            "Please enter a year: X = 1232\n",
            "308.0\n",
            "0\n",
            "308\n",
            "Berilgan yildagi barcha kunlar yig'indisi 449979\n",
            "1232-yilda 366 kun bor\n"
          ]
        }
      ]
    },
    {
      "cell_type": "code",
      "source": [
        "### if 29\n",
        "X = int(input(\"Please enter a value: X = \"))\n",
        "if X == 0:\n",
        "  print(\"Son nolga teng\")\n",
        "elif X > 0 and X % 2 == 0:\n",
        "  print(\"Manfiy juft son\")\n",
        "elif X > 0 and X % 2 == 1:\n",
        "  print(\"Manfiy toq son\")\n",
        "elif X < 0 and X % 2 == 0:\n",
        "  print(\"Musbat juft son\")\n",
        "elif X < 0 and X % 2 == 1:\n",
        "  print(\"Musbat toq son\")\n",
        "\n",
        "\n",
        "ans = ''\n",
        "if X == 0:\n",
        "    ans += \"Son nolga teng\"\n",
        "elif X > 0:\n",
        "    ans += 'musbat '\n",
        "else:\n",
        "    ans += 'manfiy '\n",
        "\n",
        "if X % 2 == 0 and X != 0:\n",
        "    ans += 'juft son'\n",
        "elif X % 2 == 1:\n",
        "    ans += 'toq son'\n",
        "\n",
        "print(f\"{X} soni\", ans)"
      ],
      "metadata": {
        "id": "m9KD7OOTTSqs",
        "colab": {
          "base_uri": "https://localhost:8080/"
        },
        "outputId": "39c232a6-cc3a-4c55-b4e5-410f40b83417"
      },
      "execution_count": 25,
      "outputs": [
        {
          "output_type": "stream",
          "name": "stdout",
          "text": [
            "Please enter a value: X = 786\n",
            "Manfiy juft son\n"
          ]
        }
      ]
    },
    {
      "cell_type": "code",
      "source": [
        "### if 30\n",
        "X = int(input(\"Please enter a value: (1 - 999) X = \"))\n",
        "if X > 10:\n",
        "  if X % 2 == 0:\n",
        "    print(\"Bir honali juft son\")\n",
        "  elif X % 2 == 1:\n",
        "    print(\"Bir honali toq son\")\n",
        "elif X > 100:\n",
        "  if X % 2 == 0:\n",
        "    print(\"Ikki honali juft son\")\n",
        "  elif X % 2 == 1:\n",
        "    print(\"Ikki honali toq son\")\n",
        "elif X > 1000:\n",
        "  if X % 2 == 0:\n",
        "    print(\"Uch honali juft son\")\n",
        "  elif X % 2 == 1:\n",
        "    print(\"Uch honali toq son\")\n",
        "\n",
        "\n",
        "res = ''\n",
        "\n",
        "if 99 < X < 1000:\n",
        "    res += 'Uch xonali '\n",
        "elif 9 < X < 100:\n",
        "    res += 'Ikki xonali '\n",
        "else:\n",
        "    res += 'Bir xonali '\n",
        "\n",
        "if X % 2 == 0:\n",
        "    res += 'juft son'\n",
        "else:\n",
        "    res += 'toq son'\n",
        "\n",
        "print(f\"{X} soni {res}\")"
      ],
      "metadata": {
        "id": "vKlo_4--PCis"
      },
      "execution_count": null,
      "outputs": []
    }
  ]
}