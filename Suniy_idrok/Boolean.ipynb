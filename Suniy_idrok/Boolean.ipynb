{
  "nbformat": 4,
  "nbformat_minor": 0,
  "metadata": {
    "colab": {
      "name": "Boolean.ipynb",
      "provenance": [],
      "collapsed_sections": [],
      "authorship_tag": "ABX9TyNP6vrtjOa57lebxAqLPy87",
      "include_colab_link": true
    },
    "kernelspec": {
      "name": "python3",
      "display_name": "Python 3"
    },
    "language_info": {
      "name": "python"
    }
  },
  "cells": [
    {
      "cell_type": "markdown",
      "metadata": {
        "id": "view-in-github",
        "colab_type": "text"
      },
      "source": [
        "<a href=\"https://colab.research.google.com/github/MuhammadAmin7860/Misollar_C_dan/blob/main/Boolean.ipynb\" target=\"_parent\"><img src=\"https://colab.research.google.com/assets/colab-badge.svg\" alt=\"Open In Colab\"/></a>"
      ]
    },
    {
      "cell_type": "markdown",
      "source": [
        "Boolean 1"
      ],
      "metadata": {
        "id": "jG47u44cZXiD"
      }
    },
    {
      "cell_type": "code",
      "execution_count": 10,
      "metadata": {
        "colab": {
          "base_uri": "https://localhost:8080/"
        },
        "id": "uNNFBUQHZQUg",
        "outputId": "ef121ed3-b469-4287-dafa-dfa3becbdbde"
      },
      "outputs": [
        {
          "output_type": "stream",
          "name": "stdout",
          "text": [
            "Iltimos son kiriting: -123\n",
            "False\n"
          ]
        }
      ],
      "source": [
        "A = int(input(\"Iltimos A sonni kiriting: \"))\n",
        "A = A > 0\n",
        "print(f\"{A}\")"
      ]
    },
    {
      "cell_type": "markdown",
      "source": [
        "Boolean 2"
      ],
      "metadata": {
        "id": "qvJcwy_kC9M5"
      }
    },
    {
      "cell_type": "code",
      "source": [
        "A = int(input(\"Iltimos A sonni kiriting: \"))\n",
        "A = A % 2 > 0\n",
        "print(f\"{A}\")"
      ],
      "metadata": {
        "colab": {
          "base_uri": "https://localhost:8080/"
        },
        "id": "ovNBPVYrDhMf",
        "outputId": "ca82e750-5b7b-42ab-91c1-4fdd87b80018"
      },
      "execution_count": 13,
      "outputs": [
        {
          "output_type": "stream",
          "name": "stdout",
          "text": [
            "Iltimos son kiriting: 25\n",
            "1\n"
          ]
        }
      ]
    },
    {
      "cell_type": "markdown",
      "source": [
        "Boolean 3"
      ],
      "metadata": {
        "id": "CYnI7Wd5D371"
      }
    },
    {
      "cell_type": "code",
      "source": [
        "A = int(input(\"Iltimos A sonni kiriting: \"))\n",
        "A = A % 2 == 0\n",
        "print(f\"{A}\")"
      ],
      "metadata": {
        "colab": {
          "base_uri": "https://localhost:8080/"
        },
        "id": "BhphRzauD41L",
        "outputId": "2e500197-5639-4ded-a20d-0b71832a6b3b"
      },
      "execution_count": 14,
      "outputs": [
        {
          "output_type": "stream",
          "name": "stdout",
          "text": [
            "Iltimos son kiriting: 47\n",
            "False\n"
          ]
        }
      ]
    },
    {
      "cell_type": "markdown",
      "source": [
        "Boolean 4"
      ],
      "metadata": {
        "id": "7Mai_6R1ECo-"
      }
    },
    {
      "cell_type": "code",
      "source": [
        "A = int(input(\"Iltimos A sonni kiriting: \"))\n",
        "B = int(input(\"Iltimos B sonni kiriting: \"))\n",
        "print(f\"{A > 2 and B <= 3}\")"
      ],
      "metadata": {
        "colab": {
          "base_uri": "https://localhost:8080/"
        },
        "id": "Xfr-vCJ2EDjm",
        "outputId": "47a1f274-c055-464e-978a-42cfd97d82d7"
      },
      "execution_count": 26,
      "outputs": [
        {
          "output_type": "stream",
          "name": "stdout",
          "text": [
            "Iltimos son kiriting: 3\n",
            "Iltimos son kiriting: 3\n",
            "True\n"
          ]
        }
      ]
    },
    {
      "cell_type": "markdown",
      "source": [
        "Boolean 5"
      ],
      "metadata": {
        "id": "5UZVuIjDGUND"
      }
    },
    {
      "cell_type": "code",
      "source": [
        "A = int(input(\"Iltimos A sonni kiriting: \"))\n",
        "B = int(input(\"Iltimos B sonni kiriting: \"))\n",
        "print(f\"{A >= 0 or B < -2}\")"
      ],
      "metadata": {
        "colab": {
          "base_uri": "https://localhost:8080/"
        },
        "id": "2Wz2suD7Ga0y",
        "outputId": "cd2155ff-97dc-4ea5-d0e5-018b68db4883"
      },
      "execution_count": 28,
      "outputs": [
        {
          "output_type": "stream",
          "name": "stdout",
          "text": [
            "Iltimos son kiriting: -1\n",
            "Iltimos son kiriting: 1\n",
            "False\n"
          ]
        }
      ]
    },
    {
      "cell_type": "markdown",
      "source": [
        "Boolean 6"
      ],
      "metadata": {
        "id": "gsScsiQjFDb-"
      }
    },
    {
      "cell_type": "code",
      "source": [
        "A = int(input(\"Iltimos A sonni kiriting: \"))\n",
        "B = int(input(\"Iltimos B sonni kiriting: \"))\n",
        "C = int(input(\"Iltimos C sonni kiriting: \"))\n",
        "print(f\"{A <= B <= C}\")"
      ],
      "metadata": {
        "colab": {
          "base_uri": "https://localhost:8080/"
        },
        "id": "nD7HkNoBFErN",
        "outputId": "b6fc7a27-a391-4629-8a58-06efb7eb0ded"
      },
      "execution_count": 18,
      "outputs": [
        {
          "output_type": "stream",
          "name": "stdout",
          "text": [
            "Iltimos son kiriting: 23\n",
            "Iltimos son kiriting: 12\n",
            "Iltimos son kiriting: 45\n",
            "False\n"
          ]
        }
      ]
    },
    {
      "cell_type": "markdown",
      "source": [
        "Boolean 7"
      ],
      "metadata": {
        "id": "Qab_LUhsGJL2"
      }
    },
    {
      "cell_type": "code",
      "source": [
        "A = int(input(\"Iltimos A sonni kiriting: \"))\n",
        "B = int(input(\"Iltimos B sonni kiriting: \"))\n",
        "C = int(input(\"Iltimos C sonni kiriting: \"))\n",
        "print(f\"{A < B < C or A > B > C}\")"
      ],
      "metadata": {
        "id": "BjUCMP6xGKKa"
      },
      "execution_count": null,
      "outputs": []
    },
    {
      "cell_type": "markdown",
      "source": [
        "Boolean 8"
      ],
      "metadata": {
        "id": "rkwxpPLKGnCG"
      }
    },
    {
      "cell_type": "code",
      "source": [
        "A = int(input(\"Iltimos A sonni kiriting: \"))\n",
        "B = int(input(\"Iltimos B sonni kiriting: \"))\n",
        "print(f\"{(A + B) % 2 == 0}\")"
      ],
      "metadata": {
        "colab": {
          "base_uri": "https://localhost:8080/"
        },
        "id": "PwydyHOvGnvc",
        "outputId": "3436e82c-ec91-454c-896a-af4f17cbb74d"
      },
      "execution_count": 22,
      "outputs": [
        {
          "output_type": "stream",
          "name": "stdout",
          "text": [
            "Iltimos son kiriting: 34\n",
            "Iltimos son kiriting: 45\n",
            "False\n"
          ]
        }
      ]
    },
    {
      "cell_type": "markdown",
      "source": [
        "Boolean 9"
      ],
      "metadata": {
        "id": "E9eJWvulGoBs"
      }
    },
    {
      "cell_type": "code",
      "source": [
        "A = int(input(\"Iltimos A sonni kiriting: \"))\n",
        "B = int(input(\"Iltimos B sonni kiriting: \"))\n",
        "print(f\"{(A % 2 + B % 2) > 0}\")"
      ],
      "metadata": {
        "id": "Tppd4KVXGphU"
      },
      "execution_count": null,
      "outputs": []
    },
    {
      "cell_type": "markdown",
      "source": [
        "Boolean 10"
      ],
      "metadata": {
        "id": "6-RBNpDEGpwb"
      }
    },
    {
      "cell_type": "code",
      "source": [
        "A = int(input(\"Iltimos A sonni kiriting: \"))\n",
        "B = int(input(\"Iltimos B sonni kiriting: \"))\n",
        "print(f\"{(A % 2 + B % 2) == 1}\")"
      ],
      "metadata": {
        "id": "ruHPL55lIApf"
      },
      "execution_count": null,
      "outputs": []
    }
  ]
}