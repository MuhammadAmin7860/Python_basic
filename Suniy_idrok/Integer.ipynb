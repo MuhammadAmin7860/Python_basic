{
  "cells": [
    {
      "cell_type": "markdown",
      "metadata": {
        "id": "view-in-github",
        "colab_type": "text"
      },
      "source": [
        "<a href=\"https://colab.research.google.com/github/MuhammadAmin7860/Misollar_C_dan/blob/main/Integer.ipynb\" target=\"_parent\"><img src=\"https://colab.research.google.com/assets/colab-badge.svg\" alt=\"Open In Colab\"/></a>"
      ]
    },
    {
      "cell_type": "markdown",
      "metadata": {
        "id": "ujiy7pEggbpf"
      },
      "source": [
        "Integer 1"
      ]
    },
    {
      "cell_type": "code",
      "execution_count": null,
      "metadata": {
        "colab": {
          "base_uri": "https://localhost:8080/"
        },
        "id": "1jsiuy8DWV9m",
        "outputId": "43de0f6c-201c-4606-cd6c-b6e22fa42d4f"
      },
      "outputs": [
        {
          "name": "stdout",
          "output_type": "stream",
          "text": [
            "Iltimos santimetrni kiriting: 123\n",
            "1.0\n"
          ]
        }
      ],
      "source": [
        "L = int(input(\"Iltimos santimetrni kiriting: \"))\n",
        "print(L // 100)"
      ]
    },
    {
      "cell_type": "markdown",
      "metadata": {
        "id": "o0iIrG5KgfWG"
      },
      "source": [
        "Integer 2"
      ]
    },
    {
      "cell_type": "code",
      "execution_count": null,
      "metadata": {
        "colab": {
          "base_uri": "https://localhost:8080/"
        },
        "id": "oR09AA6HZYie",
        "outputId": "648379e7-1c8c-450d-f635-d98afcd1962a"
      },
      "outputs": [
        {
          "name": "stdout",
          "output_type": "stream",
          "text": [
            "Iltimos kilogram kiriting: 1234\n",
            "1.0\n"
          ]
        }
      ],
      "source": [
        "M = int(input(\"Iltimos kilogram kiriting: \"))\n",
        "print(M // 1000)"
      ]
    },
    {
      "cell_type": "markdown",
      "metadata": {
        "id": "gqjicrI5ghty"
      },
      "source": [
        "Integer 3"
      ]
    },
    {
      "cell_type": "code",
      "execution_count": null,
      "metadata": {
        "colab": {
          "base_uri": "https://localhost:8080/"
        },
        "id": "G-fwQoxpZpcW",
        "outputId": "9a96a536-bdae-4d4c-9ed5-11077dc4c920"
      },
      "outputs": [
        {
          "name": "stdout",
          "output_type": "stream",
          "text": [
            "Iltimos bayt kiriting: 23456\n",
            "22.0\n"
          ]
        }
      ],
      "source": [
        "bayt = int(input(\"Iltimos bayt kiriting: \"))\n",
        "print(bayt // 1024)"
      ]
    },
    {
      "cell_type": "markdown",
      "metadata": {
        "id": "exOcXjhUgi2O"
      },
      "source": [
        "Integer 4"
      ]
    },
    {
      "cell_type": "code",
      "execution_count": null,
      "metadata": {
        "colab": {
          "base_uri": "https://localhost:8080/"
        },
        "id": "pzDydOWGaSS4",
        "outputId": "9499d8ac-11b5-441c-f4b4-62c86cd353e3"
      },
      "outputs": [
        {
          "name": "stdout",
          "output_type": "stream",
          "text": [
            "Iltimos A musbat sonni kiriting: 32\n",
            "Iltimos B musbat sonni kiriting: 3\n",
            "10.0\n"
          ]
        }
      ],
      "source": [
        "A = int(input(\"Iltimos A musbat sonni kiriting: \"))\n",
        "B = int(input(\"Iltimos B musbat sonni kiriting: \"))\n",
        "print(A // B)"
      ]
    },
    {
      "cell_type": "markdown",
      "metadata": {
        "id": "dJ3CW1UsgkF-"
      },
      "source": [
        "Integer 5"
      ]
    },
    {
      "cell_type": "code",
      "execution_count": null,
      "metadata": {
        "colab": {
          "base_uri": "https://localhost:8080/"
        },
        "id": "7s5YG4TAa1pW",
        "outputId": "76bfc9d0-5ccd-4d18-afea-b6b72f0368fe"
      },
      "outputs": [
        {
          "name": "stdout",
          "output_type": "stream",
          "text": [
            "Iltimos A musbat sonni kiriting: 23\n",
            "Iltimos B musbat sonni kiriting: 4\n",
            "A kesmada B kesma 5.0 marta joylashadi\n",
            "A kesmada B kesmani joylashmagan qismi 3.0\n"
          ]
        }
      ],
      "source": [
        "A = int(input(\"Iltimos A musbat sonni kiriting: \"))\n",
        "B = int(input(\"Iltimos B musbat sonni kiriting: \"))\n",
        "print(f\"A kesmada B kesma {A // B} marta joylashadi\\n\"\n",
        "      f\"A kesmada B kesmani joylashmagan qismi {A % B}\")"
      ]
    },
    {
      "cell_type": "markdown",
      "metadata": {
        "id": "7q-nMFtRglz9"
      },
      "source": [
        "Integer 6"
      ]
    },
    {
      "cell_type": "code",
      "execution_count": null,
      "metadata": {
        "colab": {
          "base_uri": "https://localhost:8080/"
        },
        "id": "gAZjyAnCbvNs",
        "outputId": "1fc2f3dd-d70f-4152-eced-ae7d79f3da68"
      },
      "outputs": [
        {
          "name": "stdout",
          "output_type": "stream",
          "text": [
            "Iltimos sonni kiriting: 67\n",
            "67.0 soning o'nliklari 6.0 ta\n",
            "67.0 soning birliklari 7.0 ta\n"
          ]
        }
      ],
      "source": [
        "A = int(input(\"Iltimos ikki honali sonni kiriting: \"))\n",
        "print(f\"{A} sonining o'nliklari {A // 10} ta\\n\"\n",
        "      f\"{A} soning birliklari {A % 10} ta\")"
      ]
    },
    {
      "cell_type": "markdown",
      "metadata": {
        "id": "QVB3mr9CgnKd"
      },
      "source": [
        "Integer 7"
      ]
    },
    {
      "cell_type": "code",
      "execution_count": null,
      "metadata": {
        "colab": {
          "base_uri": "https://localhost:8080/"
        },
        "id": "b0BUFb0HqcC4",
        "outputId": "f4e95224-542f-4f45-8ea5-5e093114d8bb"
      },
      "outputs": [
        {
          "name": "stdout",
          "output_type": "stream",
          "text": [
            "Iltimos ikki honali sonni kiriting: 56\n",
            "56 sonining raqamlar yig'indisi 11\n"
          ]
        }
      ],
      "source": [
        "A = int(input(\"Iltimos ikki honali sonni kiriting: \"))\n",
        "\n",
        "x = A\n",
        "\n",
        "s10 = A // 10\n",
        "A -= s10 * 10\n",
        "\n",
        "s1 = A // 1\n",
        "A -= s1 * 1\n",
        "\n",
        "print(f\"{x} Sonining raqamlar yig'indisi {s10 + s1}\")"
      ]
    },
    {
      "cell_type": "markdown",
      "metadata": {
        "id": "I8mMi-53goJh"
      },
      "source": [
        "Integer 8"
      ]
    },
    {
      "cell_type": "code",
      "execution_count": null,
      "metadata": {
        "colab": {
          "background_save": true
        },
        "id": "ZTC4f6qKhSMl",
        "outputId": "7b367ecf-d783-4e38-fc3a-ae2ca0746615"
      },
      "outputs": [
        {
          "name": "stdout",
          "output_type": "stream",
          "text": [
            "45 sonni almashgani 49\n"
          ]
        }
      ],
      "source": [
        "A = int(input(\"Iltimos ikki honali sonni kiriting: \"))\n",
        "\n",
        "x = A\n",
        "\n",
        "s10 = A // 10\n",
        "A -= s10 * 10\n",
        "\n",
        "s1 = A // 1\n",
        "A -= s1 * 1\n",
        "\n",
        "print(f\"{x} Sonining raqamlar almashgani {s10 + s1 * 10}\")"
      ]
    },
    {
      "cell_type": "markdown",
      "metadata": {
        "id": "FW5o8xqShjS-"
      },
      "source": [
        "Integer 9"
      ]
    },
    {
      "cell_type": "code",
      "execution_count": null,
      "metadata": {
        "colab": {
          "base_uri": "https://localhost:8080/"
        },
        "id": "J3Wh1f_LhnCn",
        "outputId": "3826d64e-4837-4b97-c7b7-d8c56e95bf11"
      },
      "outputs": [
        {
          "name": "stdout",
          "output_type": "stream",
          "text": [
            "Iltimos ikki honali sonni kiriting: 456\n",
            "456.0 sonining raqamlar yig'indisi 4.0\n"
          ]
        }
      ],
      "source": [
        "A = int(input(\"Iltimos uch honali sonni kiriting: \"))\n",
        "\n",
        "x = A\n",
        "\n",
        "s100 = A // 100\n",
        "A -= s100 * 100\n",
        "\n",
        "s10 = A // 10\n",
        "A -= s10 * 10\n",
        "\n",
        "s1 = A // 1\n",
        "A -= s1 * 1\n",
        "\n",
        "print(f\"{x} Sonining 100 honasidaqi raqami {s100}\")"
      ]
    },
    {
      "cell_type": "markdown",
      "metadata": {
        "id": "469P325bh3FY"
      },
      "source": [
        "Integer 10"
      ]
    },
    {
      "cell_type": "code",
      "execution_count": null,
      "metadata": {
        "colab": {
          "base_uri": "https://localhost:8080/"
        },
        "id": "Q5sZGhHPh6kO",
        "outputId": "0114c165-9199-4a1c-aa99-b5a0697a9382"
      },
      "outputs": [
        {
          "name": "stdout",
          "output_type": "stream",
          "text": [
            "Iltimos ikki honali sonni kiriting: 357\n",
            "357.0 sonining raqamlar yig'indisi (7.0, 50.0)\n"
          ]
        }
      ],
      "source": [
        "A = int(input(\"Iltimos uch honali sonni kiriting: \"))\n",
        "\n",
        "x = A\n",
        "\n",
        "s100 = A // 100\n",
        "A -= s100 * 100\n",
        "\n",
        "s10 = A // 10\n",
        "A -= s10 * 10\n",
        "\n",
        "s1 = A // 1\n",
        "A -= s1 * 1\n",
        "\n",
        "print(f\"{x} Sonining 1 ligi {s1}, 10 ligi {s10}\")"
      ]
    },
    {
      "cell_type": "markdown",
      "metadata": {
        "id": "RnnXzjiImjzM"
      },
      "source": [
        "Integer 11"
      ]
    },
    {
      "cell_type": "code",
      "execution_count": null,
      "metadata": {
        "colab": {
          "base_uri": "https://localhost:8080/"
        },
        "id": "faJLg5gjlM8N",
        "outputId": "b5a1d1cb-df82-4711-a888-68318a9a0e8b"
      },
      "outputs": [
        {
          "name": "stdout",
          "output_type": "stream",
          "text": [
            "Iltimos ikki honali sonni kiriting: 246\n",
            "246.0 sonining raqamlar yig'indisi 12.0\n"
          ]
        }
      ],
      "source": [
        "A = int(input(\"Iltimos uch honali sonni kiriting: \"))\n",
        "\n",
        "x = A\n",
        "\n",
        "s100 = A // 100\n",
        "A -= s100 * 100\n",
        "\n",
        "s10 = A // 10\n",
        "A -= s10 * 10\n",
        "\n",
        "s1 = A // 1\n",
        "A -= s1 * 1\n",
        "\n",
        "print(f\"{x} Sonining raqamlar yig'indisi {s100 + s10 + s1}\")"
      ]
    },
    {
      "cell_type": "markdown",
      "metadata": {
        "id": "DALCu_Sbmmny"
      },
      "source": [
        "Integer 12"
      ]
    },
    {
      "cell_type": "code",
      "execution_count": null,
      "metadata": {
        "colab": {
          "base_uri": "https://localhost:8080/"
        },
        "id": "JyT2N8vTmojE",
        "outputId": "d822556b-20f5-445b-e434-15095ed0de48"
      },
      "outputs": [
        {
          "name": "stdout",
          "output_type": "stream",
          "text": [
            "Iltimos ikki honali sonni kiriting: 345\n",
            "345.0 sonining raqamlar yig'indisi 543.0\n"
          ]
        }
      ],
      "source": [
        "A = int(input(\"Iltimos uch honali sonni kiriting: \"))\n",
        "\n",
        "x = A\n",
        "\n",
        "s100 = A // 100\n",
        "A -= s100 * 100\n",
        "\n",
        "s10 = A // 10\n",
        "A -= s10 * 10\n",
        "\n",
        "s1 = A // 1\n",
        "A -= s1 * 1\n",
        "\n",
        "print(f\"{x} Sonining raqamlar almashgani {s100 + s10 * 10 + s1 * 100}\")"
      ]
    },
    {
      "cell_type": "markdown",
      "metadata": {
        "id": "dwLFlOitopCx"
      },
      "source": [
        "Integer 13"
      ]
    },
    {
      "cell_type": "code",
      "execution_count": null,
      "metadata": {
        "colab": {
          "base_uri": "https://localhost:8080/"
        },
        "id": "bfHARX5rorrn",
        "outputId": "fa818281-c221-49fe-eff3-d13a008f63cf"
      },
      "outputs": [
        {
          "name": "stdout",
          "output_type": "stream",
          "text": [
            "Iltimos ikki honali sonni kiriting: 234\n",
            "234.0 sonining raqamlar yig'indisi 342.0\n"
          ]
        }
      ],
      "source": [
        "A = int(input(\"Iltimos uch honali sonni kiriting: \"))\n",
        "\n",
        "x = A\n",
        "\n",
        "s100 = A // 100\n",
        "A -= s100 * 100\n",
        "\n",
        "s10 = A // 10\n",
        "A -= s10 * 10\n",
        "\n",
        "s1 = A // 1\n",
        "A -= s1 * 1\n",
        "\n",
        "print(f\"{x} Sonining raqamlar almashgani {s100 + s10 * 100 + s1 * 10}\")"
      ]
    },
    {
      "cell_type": "markdown",
      "metadata": {
        "id": "EHES34-DpVJq"
      },
      "source": [
        "Integer 14"
      ]
    },
    {
      "cell_type": "code",
      "execution_count": null,
      "metadata": {
        "colab": {
          "base_uri": "https://localhost:8080/"
        },
        "id": "x_g5EmtApX9F",
        "outputId": "00404434-a421-45b7-ce55-a92ee06dc208"
      },
      "outputs": [
        {
          "name": "stdout",
          "output_type": "stream",
          "text": [
            "Iltimos ikki honali sonni kiriting: 479\n",
            "479.0 sonining raqamlar yig'indisi 947.0\n"
          ]
        }
      ],
      "source": [
        "A = int(input(\"Iltimos uch honali sonni kiriting: \"))\n",
        "\n",
        "x = A\n",
        "\n",
        "s100 = A // 100\n",
        "A -= s100 * 100\n",
        "\n",
        "s10 = A // 10\n",
        "A -= s10 * 10\n",
        "\n",
        "s1 = A // 1\n",
        "A -= s1 * 1\n",
        "\n",
        "print(f\"{x} Sonining raqamlar almashgani {s100 * 10 + s10 + s1 * 100}\")"
      ]
    },
    {
      "cell_type": "markdown",
      "metadata": {
        "id": "i4CIGOASp_4e"
      },
      "source": [
        "Integer 15"
      ]
    },
    {
      "cell_type": "code",
      "execution_count": 1,
      "metadata": {
        "colab": {
          "base_uri": "https://localhost:8080/"
        },
        "id": "7Ugs9I-yqBBz",
        "outputId": "315fe721-4637-485f-9c1f-5fca7c4a3a44"
      },
      "outputs": [
        {
          "output_type": "stream",
          "name": "stdout",
          "text": [
            "Iltimos uch honali sonni kiriting: 456\n",
            "456 Sonining raqamlar almashgani 546\n"
          ]
        }
      ],
      "source": [
        "A = int(input(\"Iltimos uch honali sonni kiriting: \"))\n",
        "\n",
        "x = A\n",
        "\n",
        "s100 = A // 100\n",
        "A -= s100 * 100\n",
        "\n",
        "s10 = A // 10\n",
        "A -= s10 * 10\n",
        "\n",
        "s1 = A // 1\n",
        "A -= s1 * 1\n",
        "\n",
        "print(f\"{x} Sonining raqamlar almashgani {s100 * 10 + s10 * 100 + s1}\")"
      ]
    },
    {
      "cell_type": "markdown",
      "metadata": {
        "id": "zEvcuq03sIy3"
      },
      "source": [
        "Integer 16"
      ]
    },
    {
      "cell_type": "code",
      "execution_count": null,
      "metadata": {
        "colab": {
          "base_uri": "https://localhost:8080/"
        },
        "id": "l3pn1XD-sJuI",
        "outputId": "19aea9fb-12be-46ec-b899-0db2391963ec"
      },
      "outputs": [
        {
          "name": "stdout",
          "output_type": "stream",
          "text": [
            "Iltimos ikki honali sonni kiriting: 234\n",
            "234.0 sonining raqamlar yig'indisi 243.0\n"
          ]
        }
      ],
      "source": [
        "A = int(input(\"Iltimos uch honali sonni kiriting: \"))\n",
        "\n",
        "x = A\n",
        "\n",
        "s100 = A // 100\n",
        "A -= s100 * 100\n",
        "\n",
        "s10 = A // 10\n",
        "A -= s10 * 10\n",
        "\n",
        "s1 = A // 1\n",
        "A -= s1 * 1\n",
        "\n",
        "print(f\"{x} Sonining raqamlar almashgani {s100 * 100 + s10 + s1 * 10}\")"
      ]
    },
    {
      "cell_type": "markdown",
      "metadata": {
        "id": "_yGnjtJosoFF"
      },
      "source": [
        "Integer 17"
      ]
    },
    {
      "cell_type": "code",
      "execution_count": 2,
      "metadata": {
        "colab": {
          "base_uri": "https://localhost:8080/"
        },
        "id": "2r4EBJQJsq2b",
        "outputId": "cfcfa9c9-aa8e-4d4d-b907-ea14824e2c6f"
      },
      "outputs": [
        {
          "output_type": "stream",
          "name": "stdout",
          "text": [
            "Iltimos to'rt honali sonni kiriting: 2345\n",
            "3\n"
          ]
        }
      ],
      "source": [
        "A = int(input(\"Iltimos to'rt honali sonni kiriting: \"))\n",
        "A //= 100\n",
        "A %= 10\n",
        "print(f\"To'rt honali sonni 100 lik raqami {A}\")"
      ]
    },
    {
      "cell_type": "markdown",
      "metadata": {
        "id": "Ts_VIBNFtpks"
      },
      "source": [
        "Integer 18"
      ]
    },
    {
      "cell_type": "code",
      "execution_count": null,
      "metadata": {
        "colab": {
          "base_uri": "https://localhost:8080/"
        },
        "id": "-6XM4JqItq5P",
        "outputId": "33e5078f-d771-47ac-c815-577941330f8f"
      },
      "outputs": [
        {
          "name": "stdout",
          "output_type": "stream",
          "text": [
            "Iltimos ikki honali sonni kiriting: 3456\n",
            "3456.0 sonining raqamlar yig'indisi 3.0\n"
          ]
        }
      ],
      "source": [
        "A = int(input(\"Iltimos to'rt honali sonni kiriting: \"))\n",
        "A //= 1000\n",
        "A %= 10\n",
        "print(f\"{A}\")"
      ]
    },
    {
      "cell_type": "markdown",
      "metadata": {
        "id": "xyIaaQzztv44"
      },
      "source": [
        "Integer 19"
      ]
    },
    {
      "cell_type": "code",
      "execution_count": null,
      "metadata": {
        "colab": {
          "base_uri": "https://localhost:8080/"
        },
        "id": "3ZPweNiVtyYo",
        "outputId": "cb8ff095-2670-45ee-944b-ee39d035e053"
      },
      "outputs": [
        {
          "name": "stdout",
          "output_type": "stream",
          "text": [
            "Iltimos ikki honali sonni kiriting: 650\n",
            "3456.0 sonining raqamlar yig'indisi 10.0\n"
          ]
        }
      ],
      "source": [
        "N = int(input(\"Iltimos soniya kiriting: \"))\n",
        "d = N // 60\n",
        "print(f\"Kun boshidan beri  {d} daqiqa o'tdi\")"
      ]
    },
    {
      "cell_type": "markdown",
      "metadata": {
        "id": "pTVY3kUxuGZP"
      },
      "source": [
        "Integer 20"
      ]
    },
    {
      "cell_type": "code",
      "execution_count": 8,
      "metadata": {
        "colab": {
          "base_uri": "https://localhost:8080/"
        },
        "id": "6LRzHlvWuHea",
        "outputId": "3f3bdf76-f9c2-4f3a-b0fd-dbc8051bd7c0"
      },
      "outputs": [
        {
          "output_type": "stream",
          "name": "stdout",
          "text": [
            "Iltimos soniya kiriting: 4000\n",
            "Kun boshidan beri  (40, 6, 1) soat o'tdi\n"
          ]
        }
      ],
      "source": [
        "N = int(input(\"Iltimos soniya kiriting: \"))\n",
        "\n",
        "s = N % 60\n",
        "N //= 60\n",
        "\n",
        "d = N % 60\n",
        "N //= 60\n",
        "\n",
        "S = N % 60\n",
        "N //= 60\n",
        "\n",
        "print(f\"Kun boshidan beri {S} soat o'tdi\")"
      ]
    },
    {
      "cell_type": "markdown",
      "metadata": {
        "id": "MU8vsHMhvVup"
      },
      "source": [
        "Integer 21"
      ]
    },
    {
      "cell_type": "code",
      "execution_count": 16,
      "metadata": {
        "colab": {
          "base_uri": "https://localhost:8080/"
        },
        "id": "f80dVkxOvXue",
        "outputId": "de828cef-1160-4b7e-d8e7-4742e6b062fb"
      },
      "outputs": [
        {
          "output_type": "stream",
          "name": "stdout",
          "text": [
            "Iltimos soniya kiriting: 4000\n",
            "Kun boshidan beri  66 daqiqa, 40 sekund o'tdisoat o'tdi\n"
          ]
        }
      ],
      "source": [
        "N = int(input(\"Iltimos soniya kiriting: \"))\n",
        "\n",
        "s = N % 60\n",
        "N //= 60\n",
        "\n",
        "print(f\"Kun boshidan beri  {N} daqiqa va {s} sekund o'tdi\")"
      ]
    },
    {
      "cell_type": "markdown",
      "metadata": {
        "id": "rJ_isefQxrRb"
      },
      "source": [
        "Integer 22"
      ]
    },
    {
      "cell_type": "code",
      "execution_count": 20,
      "metadata": {
        "colab": {
          "base_uri": "https://localhost:8080/"
        },
        "id": "wdljpRjSxu2f",
        "outputId": "558520b8-d95b-48dc-a122-25068e602010"
      },
      "outputs": [
        {
          "output_type": "stream",
          "name": "stdout",
          "text": [
            "Iltimos soniya kiriting: 4000\n",
            "Kun boshidan beri  1 soat, 400 sekund o'tdi\n"
          ]
        }
      ],
      "source": [
        "N = int(input(\"Iltimos soniya kiriting: \"))\n",
        "\n",
        "s = N % 60\n",
        "N //= 60\n",
        "\n",
        "d = N % 60\n",
        "N //= 60\n",
        "\n",
        "S = N % 60\n",
        "N //= 60\n",
        "\n",
        "print(f\"Kun boshidan beri  {S} soat va {d * 60 + s} sekund o'tdi\")"
      ]
    },
    {
      "cell_type": "markdown",
      "metadata": {
        "id": "pnSyd89ZyhFo"
      },
      "source": [
        "Integer 23"
      ]
    },
    {
      "cell_type": "code",
      "execution_count": 22,
      "metadata": {
        "colab": {
          "base_uri": "https://localhost:8080/"
        },
        "id": "tdAZ7XlByidC",
        "outputId": "c0192fac-8872-476d-99e3-8d09d57cf487"
      },
      "outputs": [
        {
          "output_type": "stream",
          "name": "stdout",
          "text": [
            "Iltimos soniya kiriting: 4000\n",
            "Kun boshidan beri  1 soat, 6 daqiqa va 40 sekund o'tdi\n"
          ]
        }
      ],
      "source": [
        "N = int(input(\"Iltimos soniya kiriting: \"))\n",
        "\n",
        "s = N % 60\n",
        "N //= 60\n",
        "\n",
        "d = N % 60\n",
        "N //= 60\n",
        "\n",
        "S = N % 60\n",
        "N //= 60\n",
        "\n",
        "print(f\"Kun boshidan beri  {S} soat, {d} daqiqa va {s} sekund o'tdi\")"
      ]
    },
    {
      "cell_type": "markdown",
      "metadata": {
        "id": "GNHghN7iy-TN"
      },
      "source": [
        "Integer 24"
      ]
    },
    {
      "cell_type": "code",
      "execution_count": null,
      "metadata": {
        "colab": {
          "base_uri": "https://localhost:8080/"
        },
        "id": "DakoyDHGzKYy",
        "outputId": "303d92fc-bd98-4a58-f6be-c8f8a5d8be0a"
      },
      "outputs": [
        {
          "name": "stdout",
          "output_type": "stream",
          "text": [
            "Iltimos K sonini kiriting: 8\n",
            "Agar 1-yanvar Dushanba bo'lsa, yilning 8 kuni haftaning 1 kuni bo'ladi\n"
          ]
        }
      ],
      "source": [
        "K = int(input(\"Iltimos K sonini kiriting: \"))\n",
        "print(f\"Agar 1-yanvar Dushanba bo'lsa, yilning {K}-kuni haftaning {K % 7}-kuni bo'ladi\")"
      ]
    },
    {
      "cell_type": "markdown",
      "metadata": {
        "id": "oj4cOqWy0JH3"
      },
      "source": [
        "Integer 25"
      ]
    },
    {
      "cell_type": "code",
      "execution_count": null,
      "metadata": {
        "colab": {
          "base_uri": "https://localhost:8080/"
        },
        "id": "7nRygRwA0Ncc",
        "outputId": "74550306-98cb-4d0f-95dd-a801c3cc938d"
      },
      "outputs": [
        {
          "name": "stdout",
          "output_type": "stream",
          "text": [
            "Iltimos K sonini kiriting: 8\n",
            "Agar 1-yanvar Payshanba bo'lsa, yilning 8-kuni haftaning 4-kuni bo'ladi\n"
          ]
        }
      ],
      "source": [
        "K = int(input(\"Iltimos K sonini kiriting: \"))\n",
        "print(f\"Agar 1-yanvar Payshanba bo'lsa, yilning {K}-kuni haftaning {K + 3 % 7}-kuni bo'ladi\")"
      ]
    },
    {
      "cell_type": "markdown",
      "metadata": {
        "id": "dWojpUOY1VtV"
      },
      "source": [
        "Integer 26"
      ]
    },
    {
      "cell_type": "code",
      "execution_count": null,
      "metadata": {
        "colab": {
          "base_uri": "https://localhost:8080/"
        },
        "id": "d8Wi2cO81Wp6",
        "outputId": "6399fb97-b8ec-4bc4-f02f-3fae3a8e1019"
      },
      "outputs": [
        {
          "name": "stdout",
          "output_type": "stream",
          "text": [
            "Iltimos K sonini kiriting: 8\n",
            "Agar 1-yanvar Seshanba bo'lsa, yilning 8-kuni haftaning 2-kuni bo'ladi\n"
          ]
        }
      ],
      "source": [
        "K = int(input(\"Iltimos K sonini kiriting: \"))\n",
        "print(f\"Agar 1-yanvar Seshanba bo'lsa, yilning {K}-kuni haftaning {K + 1 % 7}-kuni bo'ladi\")"
      ]
    },
    {
      "cell_type": "markdown",
      "metadata": {
        "id": "YRar4v0P1vEp"
      },
      "source": [
        "Integer 27"
      ]
    },
    {
      "cell_type": "code",
      "execution_count": null,
      "metadata": {
        "colab": {
          "base_uri": "https://localhost:8080/"
        },
        "id": "_FU3SUm31wAM",
        "outputId": "0001635f-e68b-48ad-fad9-2e0e42e19fe1"
      },
      "outputs": [
        {
          "name": "stdout",
          "output_type": "stream",
          "text": [
            "Iltimos K sonini kiriting: 8\n",
            "Agar 1-yanvar Yakshanba bo'lsa, yilning 8-kuni haftaning 7-kuni bo'ladi\n"
          ]
        }
      ],
      "source": [
        "K = int(input(\"Iltimos K sonini kiriting: \"))\n",
        "print(f\"Agar 1-yanvar Yakshanba bo'lsa, yilning {K}-kuni haftaning {K + 6 % 7}-kuni bo'ladi\")"
      ]
    },
    {
      "cell_type": "markdown",
      "metadata": {
        "id": "KRaG5LFE2D-m"
      },
      "source": [
        "Integer 28"
      ]
    },
    {
      "cell_type": "code",
      "execution_count": 25,
      "metadata": {
        "colab": {
          "base_uri": "https://localhost:8080/"
        },
        "id": "hREdOJ962E13",
        "outputId": "46a9a41e-d9fc-4011-9e9c-5cd0b719ba58"
      },
      "outputs": [
        {
          "output_type": "stream",
          "name": "stdout",
          "text": [
            "Iltimos K sonini kiriting: 234\n",
            "Hafta kunlarini kiriting (1-7): 4\n",
            "Agar 1-yanvar haftani 4-kuni bo'lsa, yilning 234-kuni haftaning 6-kuni bo'ladi\n"
          ]
        }
      ],
      "source": [
        "K = int(input(\"Iltimos K sonini kiriting: \"))\n",
        "N = int(input(\"Hafta kunlarini kiriting (1-7): \"))\n",
        "print(f\"Agar 1-yanvar haftani {N}-kuni bo'lsa, yilning {K}-kuni haftaning {(K + N - 1) % 7}-kuni bo'ladi\")"
      ]
    },
    {
      "cell_type": "markdown",
      "metadata": {
        "id": "or4eGIvhr6N0"
      },
      "source": [
        "Integer 29"
      ]
    },
    {
      "cell_type": "code",
      "execution_count": null,
      "metadata": {
        "colab": {
          "base_uri": "https://localhost:8080/"
        },
        "id": "JTlAYSGpr7k-",
        "outputId": "3dd0dd5e-62f3-4ee6-c945-232aee9b4924"
      },
      "outputs": [
        {
          "name": "stdout",
          "output_type": "stream",
          "text": [
            "Iltimos A sonini kiriting: 3\n",
            "Iltimos B sonini kiriting: 5\n",
            "Iltimos C sonini kiriting: 2\n",
            "To'g'ri to'rt burchakka 2 ta kvadrat sig'adi\n",
            "To'g'ri to'rt burchakning S = 15, kvadratning S = 4 ga tengTo'g'ri to'rt burchakning qolgan yuzi 7 ga teng\n"
          ]
        }
      ],
      "source": [
        "A = int(input(\"Iltimos A sonini kiriting: \"))\n",
        "B = int(input(\"Iltimos B sonini kiriting: \"))\n",
        "C = int(input(\"Iltimos C sonini kiriting: \"))\n",
        "x = A // C\n",
        "y = B // C\n",
        "s = x * y\n",
        "TS = A * B\n",
        "KS = C ** 2\n",
        "QS = TS - KS * s\n",
        "\n",
        "print(f\"To'g'ri to'rt burchakka {s} ta kvadrat sig'adi\\n\"\n",
        "      f\"To'g'ri to'rt burchakning S = {TS}, kvadratning S = {KS} ga teng\\n\"\n",
        "      f\"To'g'ri to'rt burchakning qolgan yuzi {QS} ga teng\")"
      ]
    },
    {
      "cell_type": "markdown",
      "metadata": {
        "id": "nbpTCSlPvV1G"
      },
      "source": [
        "Integer 30"
      ]
    },
    {
      "cell_type": "code",
      "execution_count": 29,
      "metadata": {
        "colab": {
          "base_uri": "https://localhost:8080/"
        },
        "id": "2KDwWIB7vXB1",
        "outputId": "019af104-5b05-43b7-add5-df09a29385b2"
      },
      "outputs": [
        {
          "output_type": "stream",
          "name": "stdout",
          "text": [
            "Iltimos yilni kiriting: 1900\n",
            "1900 - yil 19 - yuz yillikka kiradi\n",
            "Iltimos asrni kiriting: 20\n",
            "20 - yuz yillikning boshi 1901 yil\n"
          ]
        }
      ],
      "source": [
        "Y = int(input(\"Iltimos yilni kiriting: \"))\n",
        "print(f\"{Y} - yil {(Y - 1) // 100 + 1} - yuz yillikka kiradi\")\n",
        "A = int(input(\"Iltimos asrni kiriting: \"))\n",
        "print(f\"{A} - yuz yillikning boshi {A * 100 - 99} yil\")"
      ]
    }
  ],
  "metadata": {
    "colab": {
      "collapsed_sections": [],
      "name": "Integer.ipynb",
      "provenance": [],
      "authorship_tag": "ABX9TyNFbUAnBtEDZSfzN+jmK8mP",
      "include_colab_link": true
    },
    "kernelspec": {
      "display_name": "Python 3",
      "name": "python3"
    },
    "language_info": {
      "name": "python"
    }
  },
  "nbformat": 4,
  "nbformat_minor": 0
}