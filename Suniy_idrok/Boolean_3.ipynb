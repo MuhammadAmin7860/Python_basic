{
  "nbformat": 4,
  "nbformat_minor": 0,
  "metadata": {
    "colab": {
      "name": "Boolean_3.ipynb",
      "provenance": [],
      "collapsed_sections": []
    },
    "kernelspec": {
      "name": "python3",
      "display_name": "Python 3"
    },
    "language_info": {
      "name": "python"
    }
  },
  "cells": [
    {
      "cell_type": "code",
      "execution_count": null,
      "metadata": {
        "id": "qno0J5apenHK",
        "colab": {
          "base_uri": "https://localhost:8080/"
        },
        "outputId": "674a6809-d958-438d-bf60-dd140f0c9bbd"
      },
      "outputs": [
        {
          "output_type": "stream",
          "name": "stdout",
          "text": [
            "Please enter a value: A = 786\n",
            "Given value: A = True\n"
          ]
        }
      ],
      "source": [
        "# Boolean 1\n",
        "A = int(input(\"Please enter a value: A = \"))\n",
        "print(f\"Given value: A = {A > 0}\")"
      ]
    },
    {
      "cell_type": "code",
      "source": [
        "# Boolean 2\n",
        "A = int(input(\"Please enter a value: A = \"))\n",
        "print(f\"Given value: A = {A < 0}\")"
      ],
      "metadata": {
        "colab": {
          "base_uri": "https://localhost:8080/"
        },
        "id": "SKje04BAgiDO",
        "outputId": "1946cd1e-7885-4d97-cb34-2c655dba683c"
      },
      "execution_count": null,
      "outputs": [
        {
          "output_type": "stream",
          "name": "stdout",
          "text": [
            "Please enter a value: A = -786\n",
            "Given value: A = True\n"
          ]
        }
      ]
    },
    {
      "cell_type": "code",
      "source": [
        "# Boolean 3\n",
        "A = int(input(\"Please enter a value: A = \"))\n",
        "print(f\"Given value: A = {A % 2 == 0}\")"
      ],
      "metadata": {
        "colab": {
          "base_uri": "https://localhost:8080/"
        },
        "id": "YnMgzpbUhfYm",
        "outputId": "c77e6a7c-df0b-467e-c2d6-360f6e8847a1"
      },
      "execution_count": null,
      "outputs": [
        {
          "output_type": "stream",
          "name": "stdout",
          "text": [
            "Please enter a value: A = 786\n",
            "Given value: A = True\n"
          ]
        }
      ]
    },
    {
      "cell_type": "code",
      "source": [
        "# Boolean 4\n",
        "A = int(input(\"Please enter a value: A = \"))\n",
        "B = int(input(\"Please enter a value: B = \"))\n",
        "print(f\"Given value: A and B = {A > 2 and B <= 3}\")"
      ],
      "metadata": {
        "colab": {
          "base_uri": "https://localhost:8080/"
        },
        "id": "M3GuvTFph1HF",
        "outputId": "2c9a7a0b-346c-4dc6-d1eb-13c63715df6f"
      },
      "execution_count": null,
      "outputs": [
        {
          "output_type": "stream",
          "name": "stdout",
          "text": [
            "Please enter a value: A = 3\n",
            "Please enter a value: B = 3\n",
            "Given value: A and B = True\n"
          ]
        }
      ]
    },
    {
      "cell_type": "code",
      "source": [
        "# Boolean 5\n",
        "A = int(input(\"Please enter a value: A = \"))\n",
        "B = int(input(\"Please enter a value: B = \"))\n",
        "print(f\"Given value: A and B = {A >= 0 and B < (-2)}\")"
      ],
      "metadata": {
        "colab": {
          "base_uri": "https://localhost:8080/"
        },
        "id": "8odCBSiAh1EN",
        "outputId": "d82b784a-7eff-4ae9-ec51-f9dad253ae39"
      },
      "execution_count": null,
      "outputs": [
        {
          "output_type": "stream",
          "name": "stdout",
          "text": [
            "Please enter a value: A = 0\n",
            "Please enter a value: B = -3\n",
            "Given value: A and B = True\n"
          ]
        }
      ]
    },
    {
      "cell_type": "code",
      "source": [
        "# Boolean 6\n",
        "A = int(input(\"Please enter a value: A = \"))\n",
        "B = int(input(\"Please enter a value: B = \"))\n",
        "C = int(input(\"Please enter a value: C = \"))\n",
        "print(f\"Given value: A and B and C = {A <= B <= C}\")"
      ],
      "metadata": {
        "colab": {
          "base_uri": "https://localhost:8080/"
        },
        "id": "PVxvs5XKh1BW",
        "outputId": "49525809-50a2-4548-c821-d4cdb69539c7"
      },
      "execution_count": null,
      "outputs": [
        {
          "output_type": "stream",
          "name": "stdout",
          "text": [
            "Please enter a value: A = 2\n",
            "Please enter a value: B = 2\n",
            "Please enter a value: C = 2\n",
            "Given value: A and B and C = True\n"
          ]
        }
      ]
    },
    {
      "cell_type": "code",
      "source": [
        "# Boolean 7\n",
        "A = int(input(\"Please enter a value: A = \"))\n",
        "B = int(input(\"Please enter a value: B = \"))\n",
        "C = int(input(\"Please enter a value: C = \"))\n",
        "print(f\"Given value: A and B and C = {A < B < C or A > B > C}\")"
      ],
      "metadata": {
        "colab": {
          "base_uri": "https://localhost:8080/"
        },
        "id": "_CNyicURi8f2",
        "outputId": "c2541018-26c8-418c-87fa-d1bd1ab057b0"
      },
      "execution_count": null,
      "outputs": [
        {
          "output_type": "stream",
          "name": "stdout",
          "text": [
            "Please enter a value: A = 1\n",
            "Please enter a value: B = 2\n",
            "Please enter a value: C = 3\n",
            "Given value: A and B and C = True\n"
          ]
        }
      ]
    },
    {
      "cell_type": "code",
      "source": [
        "# Boolean 8\n",
        "A = int(input(\"Please enter a value: A = \"))\n",
        "B = int(input(\"Please enter a value: B = \"))\n",
        "print(f\"Given value: A and B = {(A + B) % 2 == 0}\")"
      ],
      "metadata": {
        "colab": {
          "base_uri": "https://localhost:8080/"
        },
        "id": "Zp0c7uMlh0-v",
        "outputId": "0b0d1969-b443-4f58-f379-d1bd5ed9dd33"
      },
      "execution_count": null,
      "outputs": [
        {
          "output_type": "stream",
          "name": "stdout",
          "text": [
            "Please enter a value: A = 13\n",
            "Please enter a value: B = 31\n",
            "Given value: A and B = True\n"
          ]
        }
      ]
    },
    {
      "cell_type": "code",
      "source": [
        "# Boolean 9\n",
        "A = int(input(\"Please enter a value: A = \"))\n",
        "B = int(input(\"Please enter a value: B = \"))\n",
        "print(f\"Given value: A and B = {(A % 2 + B % 2) > 0}\")"
      ],
      "metadata": {
        "colab": {
          "base_uri": "https://localhost:8080/"
        },
        "id": "wnotXGeNh075",
        "outputId": "cefd9335-d2d3-43e8-b2c0-062a4d6b6c33"
      },
      "execution_count": null,
      "outputs": [
        {
          "output_type": "stream",
          "name": "stdout",
          "text": [
            "Please enter a value: A = 13\n",
            "Please enter a value: B = 13\n",
            "Given value: A and B = False\n"
          ]
        }
      ]
    },
    {
      "cell_type": "code",
      "source": [
        "# Boolean 10\n",
        "A = int(input(\"Please enter a value: A = \"))\n",
        "B = int(input(\"Please enter a value: B = \"))\n",
        "print(f\"Given value: A and B = {(A + B) % 2 == 1}\")"
      ],
      "metadata": {
        "colab": {
          "base_uri": "https://localhost:8080/"
        },
        "id": "ChfonZYuh0zS",
        "outputId": "f3a0aff3-c030-4f1b-945f-993abb9a1b8b"
      },
      "execution_count": null,
      "outputs": [
        {
          "output_type": "stream",
          "name": "stdout",
          "text": [
            "Please enter a value: A = 12\n",
            "Please enter a value: B = 13\n",
            "Given value: A and B = True\n"
          ]
        }
      ]
    },
    {
      "cell_type": "code",
      "source": [
        "# Boolean 11\n",
        "A = int(input(\"Please enter a value: A = \"))\n",
        "B = int(input(\"Please enter a value: B = \"))\n",
        "print(f\"Given value: A and B = {(A + B) % 2 == 0}\")"
      ],
      "metadata": {
        "colab": {
          "base_uri": "https://localhost:8080/"
        },
        "id": "O5e41nIpmIYD",
        "outputId": "a2c40099-b5af-49ad-ee5c-f19e602c71c8"
      },
      "execution_count": null,
      "outputs": [
        {
          "output_type": "stream",
          "name": "stdout",
          "text": [
            "Please enter a value: A = 13\n",
            "Please enter a value: B = 13\n",
            "Given value: A and B = True\n"
          ]
        }
      ]
    },
    {
      "cell_type": "code",
      "source": [
        "# Boolean 12\n",
        "A = int(input(\"Please enter a value: A = \"))\n",
        "B = int(input(\"Please enter a value: B = \"))\n",
        "C = int(input(\"Please enter a value: C = \"))\n",
        "print(f\"Given value: A and B and C = {0 < A and 0 < B and 0 < C}\")"
      ],
      "metadata": {
        "id": "9u2dt45BmVT9",
        "colab": {
          "base_uri": "https://localhost:8080/"
        },
        "outputId": "cf0e565f-29dd-4756-9185-fe123d9bf006"
      },
      "execution_count": null,
      "outputs": [
        {
          "output_type": "stream",
          "name": "stdout",
          "text": [
            "Please enter a value: A = 1\n",
            "Please enter a value: B = -3\n",
            "Please enter a value: C = 6\n",
            "Given value: A and B and C = False\n"
          ]
        }
      ]
    },
    {
      "cell_type": "code",
      "source": [
        "# Boolean 13\n",
        "A = int(input(\"Please enter a value: A = \"))\n",
        "B = int(input(\"Please enter a value: B = \"))\n",
        "C = int(input(\"Please enter a value: C = \"))\n",
        "print(f\"Given value: A and B and C = {1 == A % 2 or 1 == B % 2 or 1 == C % 2}\")"
      ],
      "metadata": {
        "colab": {
          "base_uri": "https://localhost:8080/"
        },
        "id": "kCrCd7XApQ6D",
        "outputId": "edd2250c-b383-4256-db6d-d10bc1d128e2"
      },
      "execution_count": null,
      "outputs": [
        {
          "output_type": "stream",
          "name": "stdout",
          "text": [
            "Please enter a value: A = 1\n",
            "Please enter a value: B = 1\n",
            "Please enter a value: C = 1\n",
            "Given value: A and B and C = True\n"
          ]
        }
      ]
    },
    {
      "cell_type": "code",
      "source": [
        "# Boolean 14\n",
        "A = int(input(\"Please enter a value: A = \"))\n",
        "B = int(input(\"Please enter a value: B = \"))\n",
        "C = int(input(\"Please enter a value: C = \"))\n",
        "print(f\"Given value: A and B and C = {((A > 0) + (B > 0) + (C > 0)) == 1}\")"
      ],
      "metadata": {
        "colab": {
          "base_uri": "https://localhost:8080/"
        },
        "id": "0iP1LAJEqdfa",
        "outputId": "835e5221-dbc6-4dc0-a155-aed0136f2a72"
      },
      "execution_count": null,
      "outputs": [
        {
          "output_type": "stream",
          "name": "stdout",
          "text": [
            "Please enter a value: A = 1\n",
            "Please enter a value: B = -4\n",
            "Please enter a value: C = -3\n",
            "Given value: A and B and C = True\n"
          ]
        }
      ]
    },
    {
      "cell_type": "code",
      "source": [
        "# Boolean 15\n",
        "A = int(input(\"Please enter a value: A = \"))\n",
        "B = int(input(\"Please enter a value: B = \"))\n",
        "C = int(input(\"Please enter a value: C = \"))\n",
        "print(f\"Given value: A and B and C = {((A > 0) + (B > 0) + (C > 0)) == 2}\")"
      ],
      "metadata": {
        "id": "vIOuKkB72pXL",
        "colab": {
          "base_uri": "https://localhost:8080/"
        },
        "outputId": "339ff6c9-7689-4d8a-d27e-70fd0d976b33"
      },
      "execution_count": null,
      "outputs": [
        {
          "output_type": "stream",
          "name": "stdout",
          "text": [
            "Please enter a value: A = 2\n",
            "Please enter a value: B = -1\n",
            "Please enter a value: C = 5\n",
            "Given value: A and B and C = True\n"
          ]
        }
      ]
    },
    {
      "cell_type": "code",
      "source": [
        "# Boolean 16\n",
        "A = int(input(\"Please enter a two-digit even integer: A = \"))\n",
        "print(f\"Given value: A = {A % 2 == 0 and 9 < A < 100}\")"
      ],
      "metadata": {
        "colab": {
          "base_uri": "https://localhost:8080/"
        },
        "id": "OP-45xCyf0sz",
        "outputId": "d218eeaf-acf1-444d-a0ea-f206483aa3ea"
      },
      "execution_count": null,
      "outputs": [
        {
          "output_type": "stream",
          "name": "stdout",
          "text": [
            "Please enter a two-digit even integer: A = 78\n",
            "Given value: A = True\n"
          ]
        }
      ]
    },
    {
      "cell_type": "code",
      "source": [
        "# Boolean 17\n",
        "A = int(input(\"Please enter a three-digit even integer: A = \"))\n",
        "print(f\"Given value: A = {A % 2 == 1 and 99 < A < 1000}\")"
      ],
      "metadata": {
        "colab": {
          "base_uri": "https://localhost:8080/"
        },
        "id": "VoQkX0J5f0pw",
        "outputId": "65434531-6938-4221-c9c5-2cfab2d17972"
      },
      "execution_count": null,
      "outputs": [
        {
          "output_type": "stream",
          "name": "stdout",
          "text": [
            "Please enter a three-digit even integer: A = 785\n",
            "Given value: A = True\n"
          ]
        }
      ]
    },
    {
      "cell_type": "code",
      "source": [
        "# Boolean 18\n",
        "A = int(input(\"Please enter a value: A = \"))\n",
        "B = int(input(\"Please enter a value: B = \"))\n",
        "C = int(input(\"Please enter a value: C = \"))\n",
        "print(f\"Given value: {((0 < A == B) + (0 < B == C) + (0 < C == A)) == 1}\")"
      ],
      "metadata": {
        "colab": {
          "base_uri": "https://localhost:8080/"
        },
        "id": "LddJqOPyf0nq",
        "outputId": "b3130512-5d27-4d67-cabc-7dcab3a8eb9f"
      },
      "execution_count": null,
      "outputs": [
        {
          "output_type": "stream",
          "name": "stdout",
          "text": [
            "Please enter a value: A = 1\n",
            "Please enter a value: B = 2\n",
            "Please enter a value: C = 2\n",
            "Given value:  True\n"
          ]
        }
      ]
    },
    {
      "cell_type": "code",
      "source": [
        "# Boolean 19\n",
        "A = int(input(\"Please enter a value : A = \"))\n",
        "B = int(input(\"Please enter a value: B = \"))\n",
        "C = int(input(\"Please enter a value: C = \"))\n",
        "print(f\"Given value: {A == -B or B == -C or C == A}\")"
      ],
      "metadata": {
        "colab": {
          "base_uri": "https://localhost:8080/"
        },
        "id": "gNvBo4L7f0kt",
        "outputId": "74d44874-753a-4363-e14d-0236d0b5cb5c"
      },
      "execution_count": null,
      "outputs": [
        {
          "output_type": "stream",
          "name": "stdout",
          "text": [
            "Please enter a value: A = -2\n",
            "Please enter a value: B = 2\n",
            "Please enter a value: C = 2\n",
            "Given value:  True\n"
          ]
        }
      ]
    },
    {
      "cell_type": "code",
      "source": [
        "# Boolean 20\n",
        "A = int(input(\"Please enter a value: A = \"))\n",
        "\n",
        "N1 = A % 10\n",
        "A //= 10\n",
        "\n",
        "N10 = A % 10\n",
        "A //= 10\n",
        "\n",
        "N100 = A % 10\n",
        "A //= 10\n",
        "\n",
        "print(f\"Given value: A = {(N1 != N10 != N100 != N1)}\")"
      ],
      "metadata": {
        "colab": {
          "base_uri": "https://localhost:8080/"
        },
        "id": "zwJta_Qsf0iC",
        "outputId": "8e803425-eac8-406a-e627-4750d5b04806"
      },
      "execution_count": 1,
      "outputs": [
        {
          "output_type": "stream",
          "name": "stdout",
          "text": [
            "Please enter a value: A = 786\n",
            "Given value: A = True\n"
          ]
        }
      ]
    },
    {
      "cell_type": "code",
      "source": [
        "# Boolean 21\n",
        "A = int(input(\"Please enter a value: A = \"))\n",
        "\n",
        "N1 = A % 10\n",
        "A //= 10\n",
        "\n",
        "N10 = A % 10\n",
        "A //= 10\n",
        "\n",
        "N100 = A % 10\n",
        "A //= 10\n",
        "\n",
        "print(f\"Given value: A = {N1 > N10 > N100}\")"
      ],
      "metadata": {
        "colab": {
          "base_uri": "https://localhost:8080/"
        },
        "id": "y3hvbgpbf0fk",
        "outputId": "4fae1d3d-64a4-4e57-c4e0-f24c84099e17"
      },
      "execution_count": null,
      "outputs": [
        {
          "output_type": "stream",
          "name": "stdout",
          "text": [
            "Please enter a value: A = 789\n",
            "Given value: A = True\n"
          ]
        }
      ]
    },
    {
      "cell_type": "code",
      "source": [
        "# Boolean 22\n",
        "A = int(input(\"Please enter a value: A = \"))\n",
        "\n",
        "N1 = A % 10\n",
        "A //= 10\n",
        "\n",
        "N10 = A % 10\n",
        "A //= 10\n",
        "\n",
        "N100 = A % 10\n",
        "A //= 10\n",
        "\n",
        "print(f\"Given value: A = {N1 > N10 > N100 or N1 < N10 < N100}\")"
      ],
      "metadata": {
        "colab": {
          "base_uri": "https://localhost:8080/"
        },
        "id": "9DUAYwofrqM-",
        "outputId": "608cf586-1c49-4673-9a6d-38c64312b4d6"
      },
      "execution_count": null,
      "outputs": [
        {
          "output_type": "stream",
          "name": "stdout",
          "text": [
            "Please enter a value: A = 987\n",
            "Given value: A = True\n"
          ]
        }
      ]
    },
    {
      "cell_type": "code",
      "source": [
        "# Boolean 23\n",
        "A = int(input(\"Please enter a value: A = \"))\n",
        "\n",
        "N1 = A % 10\n",
        "A //= 10\n",
        "\n",
        "N10 = A % 10\n",
        "A //= 10\n",
        "\n",
        "N100 = A % 10\n",
        "A //= 10\n",
        "\n",
        "print(f\"Given value: A = {N1 == N100}\")"
      ],
      "metadata": {
        "colab": {
          "base_uri": "https://localhost:8080/"
        },
        "id": "cHDY4V0mrqKB",
        "outputId": "07752ec6-efcc-4fd1-cf63-486fc9066923"
      },
      "execution_count": null,
      "outputs": [
        {
          "output_type": "stream",
          "name": "stdout",
          "text": [
            "Please enter a value: A = 787\n",
            "Given value: A = True\n"
          ]
        }
      ]
    },
    {
      "cell_type": "code",
      "source": [
        "### Boolean 24\n",
        "A = int(input(\"Please enter a value: (A != 0) A = \"))\n",
        "B = int(input(\"Please enter a value: B = \"))\n",
        "C = int(input(\"Please enter a value: C = \"))\n",
        "\n",
        "D = B ** 2 * (-4) * A * C\n",
        "\n",
        "x1 = (-B + D ** 0.5) / (2 * A)\n",
        "x2 = (-B - D ** 0.5) / (2 * A)\n",
        "\n",
        "Y1 = A * x1 ** 2 + B * x1 + C == 0\n",
        "Y2 = A * x2 ** 2 + B * x2 + C == 0\n",
        "print(f\"Given value: {Y1 + Y2 == 0}\")"
      ],
      "metadata": {
        "colab": {
          "base_uri": "https://localhost:8080/"
        },
        "id": "ScuVcxH_rqHW",
        "outputId": "41c233b9-0625-4196-903e-fe38aec04d5b"
      },
      "execution_count": null,
      "outputs": [
        {
          "output_type": "stream",
          "name": "stdout",
          "text": [
            "Please enter a value: (A != 0) A = 2\n",
            "Please enter a value: B = 6\n",
            "Please enter a value: C = 4\n",
            "Given value: True\n"
          ]
        }
      ]
    },
    {
      "cell_type": "code",
      "source": [
        "# Boolean 25\n",
        "y = int(input(\"Please enter a value: y = \"))\n",
        "x = int(input(\"Please enter a value: x = \"))\n",
        "print(f\"Given value: {x < 0 and y > 0}\")"
      ],
      "metadata": {
        "colab": {
          "base_uri": "https://localhost:8080/"
        },
        "id": "PhE2JDmQrqE4",
        "outputId": "8ff42587-f9d7-4dc4-c28e-4392602df2a9"
      },
      "execution_count": null,
      "outputs": [
        {
          "output_type": "stream",
          "name": "stdout",
          "text": [
            "Please enter a value: x = -7\n",
            "Please enter a value: y = 8\n",
            "Given value: True\n"
          ]
        }
      ]
    },
    {
      "cell_type": "code",
      "source": [
        "# Boolean 26\n",
        "y = int(input(\"Please enter a value: y = \"))\n",
        "x = int(input(\"Please enter a value: x = \"))\n",
        "print(f\"Given value: {x > 0 and y < 0}\")"
      ],
      "metadata": {
        "colab": {
          "base_uri": "https://localhost:8080/"
        },
        "id": "XPjfZF9wxtnt",
        "outputId": "dca2e808-da6f-4808-8b13-129a536be7cd"
      },
      "execution_count": null,
      "outputs": [
        {
          "output_type": "stream",
          "name": "stdout",
          "text": [
            "Please enter a value: x = 2\n",
            "Please enter a value: y = -4\n",
            "Given value: True\n"
          ]
        }
      ]
    },
    {
      "cell_type": "code",
      "source": [
        "# Boolean 27\n",
        "y = int(input(\"Please enter a value: y = \"))\n",
        "x = int(input(\"Please enter a value: x = \"))\n",
        "print(f\"Given value: {x < 0 and y != 0}\")"
      ],
      "metadata": {
        "colab": {
          "base_uri": "https://localhost:8080/"
        },
        "id": "ZK7qKtXxyKAG",
        "outputId": "ce1aa322-8999-420f-faad-871508d56e12"
      },
      "execution_count": null,
      "outputs": [
        {
          "output_type": "stream",
          "name": "stdout",
          "text": [
            "Please enter a value: x = -7\n",
            "Please enter a value: y = 9\n",
            "Given value: True\n"
          ]
        }
      ]
    },
    {
      "cell_type": "code",
      "source": [
        "# Boolean 28\n",
        "y = int(input(\"Please enter a value: y = \"))\n",
        "x = int(input(\"Please enter a value: x = \"))\n",
        "print(f\"Given value: {(x < 0 and y < 0) or (x > 0 and y > 0)}\")"
      ],
      "metadata": {
        "colab": {
          "base_uri": "https://localhost:8080/"
        },
        "id": "F7H9b2ZQyJ9E",
        "outputId": "d5fc6d86-deae-459e-9a2c-a38103b06d6a"
      },
      "execution_count": null,
      "outputs": [
        {
          "output_type": "stream",
          "name": "stdout",
          "text": [
            "Please enter a value: x = -7\n",
            "Please enter a value: y = -8\n",
            "Given value: True\n"
          ]
        }
      ]
    },
    {
      "cell_type": "code",
      "source": [
        "# Boolean 29\n",
        "y = int(input(\"Please enter a value: y = \"))\n",
        "x = int(input(\"Please enter a value: x = \"))\n",
        "y1 = int(input(\"Please enter a value: y1 = \"))\n",
        "x1 = int(input(\"Please enter a value: x1 = \"))\n",
        "y2 = int(input(\"Please enter a value: y2 = \"))\n",
        "x2 = int(input(\"Please enter a value: x2 = \"))\n",
        "print(f\"Given value: {x > x1 < x2 > x and y < y1 > y2 < y}\")"
      ],
      "metadata": {
        "colab": {
          "base_uri": "https://localhost:8080/"
        },
        "id": "zLYhDmwxyJ6c",
        "outputId": "0d4c6be2-0961-4573-98f3-c1cc2c298069"
      },
      "execution_count": null,
      "outputs": [
        {
          "output_type": "stream",
          "name": "stdout",
          "text": [
            "Please enter a value: y = 6\n",
            "Please enter a value: x = 7\n",
            "Please enter a value: y1 = 7\n",
            "Please enter a value: x1 = 2\n",
            "Please enter a value: y2 = 2\n",
            "Please enter a value: x2 = 10\n",
            "Given value: True\n"
          ]
        }
      ]
    },
    {
      "cell_type": "code",
      "source": [
        "# Boolean 30\n",
        "A = int(input(\"Please enter a value: A = \"))\n",
        "B = int(input(\"Please enter a value: B = \"))\n",
        "C = int(input(\"Please enter a value: C = \"))\n",
        "print(f\"Given value: {A == B == C}\")"
      ],
      "metadata": {
        "colab": {
          "base_uri": "https://localhost:8080/"
        },
        "id": "krKpT2l0y8Jo",
        "outputId": "aa77026c-974b-4973-d0ca-e9e0500fe1f3"
      },
      "execution_count": null,
      "outputs": [
        {
          "output_type": "stream",
          "name": "stdout",
          "text": [
            "Please enter a value: A = 2\n",
            "Please enter a value: B = 2\n",
            "Please enter a value: C = 2\n",
            "Given value: True\n"
          ]
        }
      ]
    },
    {
      "cell_type": "code",
      "source": [
        "# Boolean 31\n",
        "A = int(input(\"Please enter a value: A = \"))\n",
        "B = int(input(\"Please enter a value: B = \"))\n",
        "C = int(input(\"Please enter a value: C = \"))\n",
        "print(f\"Given value: {A == B or B == C or C == A}\")"
      ],
      "metadata": {
        "colab": {
          "base_uri": "https://localhost:8080/"
        },
        "id": "2vPz_CcOy8G1",
        "outputId": "41290ca8-5dc0-4fdd-9409-1d4e1c3953e2"
      },
      "execution_count": null,
      "outputs": [
        {
          "output_type": "stream",
          "name": "stdout",
          "text": [
            "Please enter a value: A = 2\n",
            "Please enter a value: B = 3\n",
            "Please enter a value: C = 2\n",
            "Given value: True\n"
          ]
        }
      ]
    },
    {
      "cell_type": "code",
      "source": [
        "# Boolean 32\n",
        "A = int(input(\"Please enter a value: A = \"))\n",
        "B = int(input(\"Please enter a value: B = \"))\n",
        "C = int(input(\"Please enter a value: C = \"))\n",
        "print(f\"Given value: {A ** 2 + B ** 2 == C ** 2}\")"
      ],
      "metadata": {
        "colab": {
          "base_uri": "https://localhost:8080/"
        },
        "id": "JrJwY4L2y71b",
        "outputId": "2cbd85dc-a530-4439-9be8-ef384e9dc44c"
      },
      "execution_count": null,
      "outputs": [
        {
          "output_type": "stream",
          "name": "stdout",
          "text": [
            "Please enter a value: A = 3\n",
            "Please enter a value: B = 4\n",
            "Please enter a value: C = 5\n",
            "Given value: True\n"
          ]
        }
      ]
    },
    {
      "cell_type": "code",
      "source": [
        "# Boolean 33\n",
        "A = int(input(\"Please enter a value: A = \"))\n",
        "B = int(input(\"Please enter a value: B = \"))\n",
        "C = int(input(\"Please enter a value: C = \"))\n",
        "print(f\"Given value: {A + B > C or B + C > A or C + A > B}\")"
      ],
      "metadata": {
        "colab": {
          "base_uri": "https://localhost:8080/"
        },
        "id": "WIkiXA0J7b6s",
        "outputId": "316ff67d-1a3f-4ba1-b06b-c1f81b3b1937"
      },
      "execution_count": null,
      "outputs": [
        {
          "output_type": "stream",
          "name": "stdout",
          "text": [
            "Please enter a value: A = 3\n",
            "Please enter a value: B = 4\n",
            "Please enter a value: C = 5\n",
            "Given value: True\n"
          ]
        }
      ]
    },
    {
      "cell_type": "code",
      "source": [
        "# Boolean 34\n",
        "y = int(input(\"Please enter a value: y = \"))\n",
        "x = int(input(\"Please enter a value: x = \"))\n",
        "print(f\"Given value: {(y + x) % 2 == 1}\")"
      ],
      "metadata": {
        "colab": {
          "base_uri": "https://localhost:8080/"
        },
        "id": "4Q69IxnG8KtL",
        "outputId": "5ed2f40c-7719-4c21-9512-18be9c8befc7"
      },
      "execution_count": null,
      "outputs": [
        {
          "output_type": "stream",
          "name": "stdout",
          "text": [
            "Please enter a value: y = 3\n",
            "Please enter a value: x = 8\n",
            "Given value: True\n"
          ]
        }
      ]
    },
    {
      "cell_type": "code",
      "source": [
        "# Boolean 35\n",
        "y1 = int(input(\"Please enter a value: y1 = \"))\n",
        "x1 = int(input(\"Please enter a value: x1 = \"))\n",
        "y2 = int(input(\"Please enter a value: y2 = \"))\n",
        "x2 = int(input(\"Please enter a value: x2 = \")) \n",
        "print(f\"Given value: {((y1 + x1) + (y2 + x2)) % 2 == 0}\")"
      ],
      "metadata": {
        "colab": {
          "base_uri": "https://localhost:8080/"
        },
        "id": "R0qw9iL98KqA",
        "outputId": "f7672d1f-14fc-45fa-fe7a-f3d49b2dd3c6"
      },
      "execution_count": null,
      "outputs": [
        {
          "output_type": "stream",
          "name": "stdout",
          "text": [
            "Please enter a value: y1 = 7\n",
            "Please enter a value: x1 = 8\n",
            "Please enter a value: y2 = 6\n",
            "Please enter a value: x2 = 5\n",
            "Given value: True\n"
          ]
        }
      ]
    },
    {
      "cell_type": "code",
      "source": [
        "# Boolean 36\n",
        "y1 = int(input(\"Please enter a value: y1 = \"))\n",
        "x1 = int(input(\"Please enter a value: x1 = \"))\n",
        "y2 = int(input(\"Please enter a value: y2 = \"))\n",
        "x2 = int(input(\"Please enter a value: x2 = \"))\n",
        "print(f\"Given value: {y1 == y2 or x1 == x2}\")"
      ],
      "metadata": {
        "colab": {
          "base_uri": "https://localhost:8080/"
        },
        "id": "ShCrxi0K8KnM",
        "outputId": "2d48d9f7-6a25-489e-be6f-346fe5061915"
      },
      "execution_count": null,
      "outputs": [
        {
          "output_type": "stream",
          "name": "stdout",
          "text": [
            "Please enter a value: y1 = 3\n",
            "Please enter a value: x1 = 4\n",
            "Please enter a value: y2 = 6\n",
            "Please enter a value: x2 = 4\n",
            "Given value: True\n"
          ]
        }
      ]
    },
    {
      "cell_type": "code",
      "source": [
        "# Boolean 37\n",
        "y1 = int(input(\"Please enter a value: y1 = \"))\n",
        "x1 = int(input(\"Please enter a value: x1 = \"))\n",
        "y2 = int(input(\"Please enter a value: y2 = \"))\n",
        "x2 = int(input(\"Please enter a value: x2 = \"))\n",
        "print(f\"Given value: {(y1 - 1 <= y2 <= y1 + 1) and (x1 - 1 <= x2 <= x1 + 1)}\")"
      ],
      "metadata": {
        "colab": {
          "base_uri": "https://localhost:8080/"
        },
        "id": "v__es2S98Kj4",
        "outputId": "d71bf728-63e1-4ab1-9618-349903a6bf5d"
      },
      "execution_count": null,
      "outputs": [
        {
          "output_type": "stream",
          "name": "stdout",
          "text": [
            "Please enter a value: y1 = 2\n",
            "Please enter a value: x1 = 3\n",
            "Please enter a value: y2 = 3\n",
            "Please enter a value: x2 = 2\n",
            "Given value: True\n"
          ]
        }
      ]
    },
    {
      "cell_type": "code",
      "source": [
        "# Boolean 38\n",
        "y1 = int(input(\"Please enter a value: y1 = \"))\n",
        "x1 = int(input(\"Please enter a value: x1 = \"))\n",
        "y2 = int(input(\"Please enter a value: y2 = \"))\n",
        "x2 = int(input(\"Please enter a value: x2 = \"))\n",
        "print(f\"Given value: {(y1 - y2 > 0 or y2 - y1 > 0) == (x1 - x2 > 0 or x2 - x1 > 0)}\")"
      ],
      "metadata": {
        "colab": {
          "base_uri": "https://localhost:8080/"
        },
        "id": "dI6Vd2q8CapM",
        "outputId": "53c6085e-09f1-44f8-be5a-f117f4ec55b3"
      },
      "execution_count": null,
      "outputs": [
        {
          "output_type": "stream",
          "name": "stdout",
          "text": [
            "Please enter a value: y1 = 4\n",
            "Please enter a value: x1 = 4\n",
            "Please enter a value: y2 = 8\n",
            "Please enter a value: x2 = 8\n",
            "Given value: True\n"
          ]
        }
      ]
    },
    {
      "cell_type": "code",
      "source": [
        "# Boolean 39\n",
        "y1 = int(input(\"Please enter a value: y1 = \"))\n",
        "x1 = int(input(\"Please enter a value: x1 = \"))\n",
        "y2 = int(input(\"Please enter a value: y2 = \"))\n",
        "x2 = int(input(\"Please enter a value: x2 = \"))\n",
        "print(f\"Given value: {(y1 - y2 > 0 or y2 - y1 > 0) == (x1 - x2 > 0 or x2 - x1 > 0) or (y1 - 1 <= y2 <= y1 + 1) and (x1 - 1 <= x2 <= x1 + 1)}\")"
      ],
      "metadata": {
        "colab": {
          "base_uri": "https://localhost:8080/"
        },
        "id": "xu1Xna74Cah2",
        "outputId": "ac152b19-d12e-4249-d60d-3f34903cc0d4"
      },
      "execution_count": null,
      "outputs": [
        {
          "output_type": "stream",
          "name": "stdout",
          "text": [
            "Please enter a value: y1 = 4\n",
            "Please enter a value: x1 = 4\n",
            "Please enter a value: y2 = 8\n",
            "Please enter a value: x2 = 8\n",
            "Given value: True\n"
          ]
        }
      ]
    },
    {
      "cell_type": "code",
      "source": [
        "# Boolean 40\n",
        "y1 = int(input(\"Please enter a value: y1 = \"))\n",
        "x1 = int(input(\"Please enter a value: x1 = \"))\n",
        "y2 = int(input(\"Please enter a value: y2 = \"))\n",
        "x2 = int(input(\"Please enter a value: x2 = \"))\n",
        "print(f\"Given value: {(x1 - x2) ** 2 + (y1 - y2) ** 2 == 5}\")"
      ],
      "metadata": {
        "colab": {
          "base_uri": "https://localhost:8080/"
        },
        "id": "P_kn2Q9ZCaaF",
        "outputId": "cf40673c-b766-4f77-b847-c572dd67cf41"
      },
      "execution_count": 2,
      "outputs": [
        {
          "output_type": "stream",
          "name": "stdout",
          "text": [
            "Please enter a value: y1 = 4\n",
            "Please enter a value: x1 = 5\n",
            "Please enter a value: y2 = 1\n",
            "Please enter a value: x2 = 5\n",
            "Given value: False\n"
          ]
        }
      ]
    }
  ]
}