{
  "nbformat": 4,
  "nbformat_minor": 0,
  "metadata": {
    "colab": {
      "name": "Begin_1.ipynb",
      "provenance": [],
      "collapsed_sections": [],
      "authorship_tag": "ABX9TyMGQ9AMgRxickkp/CmukAqp",
      "include_colab_link": true
    },
    "kernelspec": {
      "name": "python3",
      "display_name": "Python 3"
    },
    "language_info": {
      "name": "python"
    }
  },
  "cells": [
    {
      "cell_type": "markdown",
      "metadata": {
        "id": "view-in-github",
        "colab_type": "text"
      },
      "source": [
        "<a href=\"https://colab.research.google.com/github/MuhammadAmin7860/Python_basic/blob/main/Begin_1.ipynb\" target=\"_parent\"><img src=\"https://colab.research.google.com/assets/colab-badge.svg\" alt=\"Open In Colab\"/></a>"
      ]
    },
    {
      "cell_type": "code",
      "execution_count": null,
      "metadata": {
        "colab": {
          "base_uri": "https://localhost:8080/"
        },
        "id": "UDmiHLWVgQ3X",
        "outputId": "0d66316a-1b75-46f6-fc7d-bfe9deba5855"
      },
      "outputs": [
        {
          "output_type": "stream",
          "name": "stdout",
          "text": [
            "20\n"
          ]
        }
      ],
      "source": [
        "# Begin 1\n",
        "a = int(input(\"Please enter the side of the square: a = \")) \n",
        "P = a * 4\n",
        "print(f\"The perimeter of the square: P = {P}\")"
      ]
    },
    {
      "cell_type": "code",
      "source": [
        "# Begin 2\n",
        "a = int(input(\"Please enter the side of the square: a = \"))  \n",
        "S = a ** 2\n",
        "print(f\"The face of a square: S = {S}\")"
      ],
      "metadata": {
        "colab": {
          "base_uri": "https://localhost:8080/"
        },
        "id": "kCuGtOb2gZua",
        "outputId": "1065d087-a461-45a6-eccc-082b2f5aa095"
      },
      "execution_count": null,
      "outputs": [
        {
          "output_type": "stream",
          "name": "stdout",
          "text": [
            "25\n"
          ]
        }
      ]
    },
    {
      "cell_type": "code",
      "source": [
        "# Begin 3\n",
        "a = int(input(\"Please enter the side of the rectangle: a = \")) \n",
        "b = int(input(\"Please enter the side of the rectangle: b = \"))\n",
        "S = a * b\n",
        "P = 2 * (a + b)\n",
        "print(f\"Face of a right rectangle: S = {S} \\nPerimeter of a right rectangle: P = {P}\")"
      ],
      "metadata": {
        "colab": {
          "base_uri": "https://localhost:8080/"
        },
        "id": "X3u49TtHgdJE",
        "outputId": "7f988c02-9911-4433-caec-04540796a425"
      },
      "execution_count": null,
      "outputs": [
        {
          "output_type": "stream",
          "name": "stdout",
          "text": [
            "Please enter the side of the rectangle: a = 5\n",
            "Please enter the side of the rectangle: b = 4\n",
            "Face of a right rectangle: S = 20 \n",
            "Perimeter of a right rectangle: P = 18\n"
          ]
        }
      ]
    },
    {
      "cell_type": "code",
      "source": [
        "# Begin 4\n",
        "d = int(input(\"Please enter the circle diameter: a = \"))\n",
        "Pi = 3.14\n",
        "L = Pi * d\n",
        "print(f\"The length of the circle: L = {L}\")"
      ],
      "metadata": {
        "colab": {
          "base_uri": "https://localhost:8080/"
        },
        "id": "nrOGyMEgjLE8",
        "outputId": "5b5560fb-4a1f-4f6a-9616-00a39f3fc70d"
      },
      "execution_count": null,
      "outputs": [
        {
          "output_type": "stream",
          "name": "stdout",
          "text": [
            "Please enter the circle diameter: a = 5\n",
            "The length of the circle: L = 15.700000000000001\n"
          ]
        }
      ]
    },
    {
      "cell_type": "code",
      "source": [
        "# Begin 5\n",
        "a = int(input(\"Please enter the side of the cube: a = \"))\n",
        "V = a ** 3\n",
        "S = 6 * a ** 2\n",
        "print(f\"The volume of the cube: V = {V} \\nThe surface of the cube: S = {S}\")"
      ],
      "metadata": {
        "colab": {
          "base_uri": "https://localhost:8080/"
        },
        "id": "cxHZr2AEkYDh",
        "outputId": "47fc82fc-4fc9-41c4-cc64-f6e70dccde34"
      },
      "execution_count": null,
      "outputs": [
        {
          "output_type": "stream",
          "name": "stdout",
          "text": [
            "Please enter the side of the cube: a = 5\n",
            "The volume of the cube: V = 125 \n",
            "The surface of the cube: S = 150\n"
          ]
        }
      ]
    },
    {
      "cell_type": "code",
      "source": [
        "# Begin 6\n",
        "a = int(input(\"Enter the side of the parallelepiped: a = \"))\n",
        "b = int(input(\"Enter the side of the parallelepiped: b = \"))\n",
        "c = int(input(\"Enter the side of the parallelepiped: c = \"))\n",
        "V = a * b * c\n",
        "S = 2 * (a * b + b * c + c * a)\n",
        "print(f\"The size of the parallelepiped: V = {V} \\nFull surface of a parallelepiped: S = {S}\")"
      ],
      "metadata": {
        "colab": {
          "base_uri": "https://localhost:8080/"
        },
        "id": "8hLL0BzSky5s",
        "outputId": "0e8cb887-c95a-4b26-bb1f-4fe066b7b5bc"
      },
      "execution_count": null,
      "outputs": [
        {
          "output_type": "stream",
          "name": "stdout",
          "text": [
            "Enter the side of the parallelepiped: a = 3\n",
            "Enter the side of the parallelepiped: b = 4\n",
            "Enter the side of the parallelepiped: c = 5\n",
            "The size of the parallelepiped: V = 60 \n",
            "Full surface of a parallelepiped: S = 94\n"
          ]
        }
      ]
    },
    {
      "cell_type": "code",
      "source": [
        "# Begin 7\n",
        "R = int(input(\"The radius of the circle: R = \"))\n",
        "Pi = 3.14\n",
        "L = 2 * Pi * R \n",
        "S = Pi * R ** 2\n",
        "print(f\"The length of the circle: L = {L} \\nThe face of the circle: S = {S}\")"
      ],
      "metadata": {
        "colab": {
          "base_uri": "https://localhost:8080/"
        },
        "id": "q7EAZ-o8l138",
        "outputId": "0fb9ccc8-6c42-4bb3-a108-808f4d0e119c"
      },
      "execution_count": null,
      "outputs": [
        {
          "output_type": "stream",
          "name": "stdout",
          "text": [
            "The radius of the circle: R = 5\n",
            "The length of the circle: L = 31.400000000000002 \n",
            "The face of the circle: S = 78.5\n"
          ]
        }
      ]
    },
    {
      "cell_type": "code",
      "source": [
        "# Begin 8\n",
        "a = int(input(\"Enter the number: a = \"))\n",
        "b = int(input(\"Enter the number: b = \"))\n",
        "G = (a + b) * 0.5\n",
        "print(f\"The geometric mean of two numbers: G = {G}\")"
      ],
      "metadata": {
        "colab": {
          "base_uri": "https://localhost:8080/"
        },
        "id": "ZCN2-le_oofn",
        "outputId": "c165981f-9b66-475b-bd64-5545e11f6bb5"
      },
      "execution_count": null,
      "outputs": [
        {
          "output_type": "stream",
          "name": "stdout",
          "text": [
            "Enter the number: a = 4\n",
            "Enter the number: b = 6\n",
            "The geometric mean of two numbers: G = 5.0\n"
          ]
        }
      ]
    },
    {
      "cell_type": "code",
      "source": [
        "# Begin 9 \n",
        "a = int(input(\"Enter the number: a = \"))\n",
        "b = int(input(\"Enter the number: b = \"))\n",
        "G = (a * b) ** 0.5\n",
        "print(f\"The geometric mean of two non-negative numbers: G = {G}\")"
      ],
      "metadata": {
        "colab": {
          "base_uri": "https://localhost:8080/"
        },
        "id": "YInL7Aucpkv7",
        "outputId": "7fc5918a-00a1-46be-91b4-b415bff667bd"
      },
      "execution_count": null,
      "outputs": [
        {
          "output_type": "stream",
          "name": "stdout",
          "text": [
            "Enter the number: a = 4\n",
            "Enter the number: b = 5\n",
            "The geometric mean of two non-negative numbers: G = 4.47213595499958\n"
          ]
        }
      ]
    },
    {
      "cell_type": "code",
      "source": [
        "# Begin 10\n",
        "a = int(input(\"Enter the number: a = \"))\n",
        "b = int(input(\"Enter the number: b = \"))\n",
        "sum = a + b\n",
        "increase = a * b\n",
        "square_a = a ** 2\n",
        "square_b = b ** 2\n",
        "print(f\"The sum of two non-zero numbers: sum = {sum}\",\n",
        "      f\"\\nThe product od two non-zero numbers: product = {increase}\",\n",
        "      f\"\\nThe square of the number: square a = {square_a}\",\n",
        "      f\"\\nThe square of the number: square b = {square_b}\")"
      ],
      "metadata": {
        "colab": {
          "base_uri": "https://localhost:8080/"
        },
        "id": "TD6U1FDkqq4e",
        "outputId": "e6826fcf-fe88-4f1e-9687-ea2fa5729741"
      },
      "execution_count": null,
      "outputs": [
        {
          "output_type": "stream",
          "name": "stdout",
          "text": [
            "Enter the number: a = 3\n",
            "Enter the number: b = 4\n",
            "The sum of two non-zero numbers: sum = 7 \n",
            "The product od two non-zero numbers: product = 12 \n",
            "The square of the number: square a = 9 \n",
            "The square of the number: square b = 16\n"
          ]
        }
      ]
    },
    {
      "cell_type": "code",
      "source": [
        "# Begin 11\n",
        "a = int(input(\"Enter the number: a = \"))\n",
        "b = int(input(\"Enter the number: b = \"))\n",
        "sum = a + b\n",
        "increase = a * b\n",
        "module_a = abs(a)\n",
        "module_b = abs(b)\n",
        "print(f\"The sum of two non-zero numbers: sum = {sum}\",\n",
        "      f\"\\nThe product od two non-zero numbers: product = {increase}\",\n",
        "      f\"\\nThe module of the number: module a = {module_a}\",\n",
        "      f\"\\nThe module of the number: module b = {module_b}\")"
      ],
      "metadata": {
        "colab": {
          "base_uri": "https://localhost:8080/"
        },
        "id": "M9l55UPQsrRE",
        "outputId": "23e72a9a-0074-41d2-86fc-9055061767de"
      },
      "execution_count": null,
      "outputs": [
        {
          "output_type": "stream",
          "name": "stdout",
          "text": [
            "Enter the number: a = 2\n",
            "Enter the number: b = 3\n",
            "The sum of two non-zero numbers: sum = 5 \n",
            "The product od two non-zero numbers: product = 6 \n",
            "The module of the number: module a = 2 \n",
            "The module of the number: module b = 3\n"
          ]
        }
      ]
    },
    {
      "cell_type": "code",
      "source": [
        "# Begin 12\n",
        "a = int(input(\"Enter the leg of the rectangle: a = \"))\n",
        "b = int(input(\"Enter the leg of the rectangle: b = \"))\n",
        "C = (a ** 2 + b ** 2) ** 0.5 \n",
        "P = a + b + C\n",
        "print(f\"Hypotenuse of a rectangle: C = {C}\\nPerimeter of a rectangle: {P}\")"
      ],
      "metadata": {
        "colab": {
          "base_uri": "https://localhost:8080/"
        },
        "id": "deHfPv22uaTj",
        "outputId": "57ba1359-99e8-4f17-a27d-5ad110c8e6ad"
      },
      "execution_count": null,
      "outputs": [
        {
          "output_type": "stream",
          "name": "stdout",
          "text": [
            "Enter the leg of the rectangle: a = 3\n",
            "Enter the leg of the rectangle: b = 4\n",
            "Hypotenuse of a rectangle: C = 5.0\n",
            "Perimeter of a rectangle: 12.0\n"
          ]
        }
      ]
    },
    {
      "cell_type": "code",
      "source": [
        "# Begin 13\n",
        "r1 = int(input(\"Enter the radius of the circle: r1 = \"))\n",
        "r2 = int(input(\"Enter the radius of the circle (r1 > r2): r2 = \"))\n",
        "Pi = 3.14\n",
        "S1 = Pi * r1 ** 2\n",
        "S2 = Pi * r2 ** 2\n",
        "S3 = Pi * (r1 ** 2 - r2 **2 )\n",
        "print(f\"Circle face: S1 = {S1}\"\n",
        "      f\"\\nCircle face: S2 = {S2}\"\n",
        "      f\"\\nCircle face: S3 = {S3}\")"
      ],
      "metadata": {
        "id": "LEYOvr7svk0_",
        "colab": {
          "base_uri": "https://localhost:8080/"
        },
        "outputId": "567d60b2-fcda-4b8b-bb74-af7939be6ae0"
      },
      "execution_count": null,
      "outputs": [
        {
          "output_type": "stream",
          "name": "stdout",
          "text": [
            "Enter the radius of the circle: r1 = 6\n",
            "Enter the radius of the circle (r1 > r2): r2 = 4\n",
            "Circle face: S1 = 113.04\n",
            "Circle face: S2 = 50.24\n",
            "Circle face: S3 = 62.800000000000004\n"
          ]
        }
      ]
    },
    {
      "cell_type": "code",
      "source": [
        "# Begin 14\n",
        "L = int(input(\"Enter the circumference: L = \"))\n",
        "Pi = 3.14\n",
        "R = L / 2 / Pi\n",
        "S = Pi * R ** 2\n",
        "print(f\"The radius of the circle: R = {R}\"\n",
        "      f\"\\nThe surface of the circle: S = {S}\")"
      ],
      "metadata": {
        "colab": {
          "base_uri": "https://localhost:8080/"
        },
        "id": "ZnK5gpUn_hhH",
        "outputId": "7d4b0868-7be7-4bf4-c4d3-4b50174cd859"
      },
      "execution_count": null,
      "outputs": [
        {
          "output_type": "stream",
          "name": "stdout",
          "text": [
            "Enter the circumference: L = 4\n",
            "The radius of the circle: R = 0.6369426751592356\n",
            "The surface of the circle: S = 1.2738853503184713\n"
          ]
        }
      ]
    },
    {
      "cell_type": "code",
      "source": [
        "# Begin 15\n",
        "S = int(input(\"Enter the surface: S = \"))\n",
        "Pi = 3.14\n",
        "R = (S / Pi) ** 0.5\n",
        "D = R * 2\n",
        "print(f\"The diameter of the circle: D = {D}\"\n",
        "      f\"\\nThe radius of the circle: R = {R}\")"
      ],
      "metadata": {
        "colab": {
          "base_uri": "https://localhost:8080/"
        },
        "id": "sueSaG_FGkUS",
        "outputId": "ef66602f-03bb-4f3d-b9de-4bf21db113c0"
      },
      "execution_count": null,
      "outputs": [
        {
          "output_type": "stream",
          "name": "stdout",
          "text": [
            "Enter the surface: S = 5\n",
            "The diameter of the circle: D = 2.5237723256253437\n",
            "The radius of the circle: R = 1.2618861628126719\n"
          ]
        }
      ]
    },
    {
      "cell_type": "code",
      "source": [
        "# Begin 16\n",
        "a = int(input(\"Enter the number: a = \"))\n",
        "b = int(input(\"Enter the number: b = \"))\n",
        "distance = a - b\n",
        "print(f\"The distance between two points on the number line: distance = {distance}\")"
      ],
      "metadata": {
        "colab": {
          "base_uri": "https://localhost:8080/"
        },
        "id": "jUug7uzrInbh",
        "outputId": "76b99584-1957-460f-d276-3a4608a52a3b"
      },
      "execution_count": null,
      "outputs": [
        {
          "output_type": "stream",
          "name": "stdout",
          "text": [
            "Enter the number: a = 8\n",
            "Enter the number: b = 3\n",
            "The distance between two points on the number line: distance = 5\n"
          ]
        }
      ]
    },
    {
      "cell_type": "code",
      "source": [
        "# Begin 17 \n",
        "A = int(input(\"Enter the number: A = \"))\n",
        "B = int(input(\"Enter the number: B = \"))\n",
        "C = int(input(\"Enter the number: C = \"))\n",
        "AC = C - A\n",
        "BC = C - B\n",
        "print(f\"Cut length: AC = {AC}\"\n",
        "      f\"\\nCut lenght: BC = {BC}\"\n",
        "      f\"\\nSum the two cut: AC - BC = {AC - BC}\")"
      ],
      "metadata": {
        "colab": {
          "base_uri": "https://localhost:8080/"
        },
        "id": "-uJyBkERKI_V",
        "outputId": "a2fae233-d2d0-4880-eae7-5fc29db3b08f"
      },
      "execution_count": null,
      "outputs": [
        {
          "output_type": "stream",
          "name": "stdout",
          "text": [
            "Enter the number: A = 2\n",
            "Enter the number: B = 5\n",
            "Enter the number: C = 8\n",
            "Cut length: AC = 6\n",
            "Cut lenght: BC = 3\n",
            "Sum the two cut: AC - BC = 3\n"
          ]
        }
      ]
    },
    {
      "cell_type": "code",
      "source": [
        "# Begin 18\n",
        "A = int(input(\"Enter the number: A = \"))\n",
        "B = int(input(\"Enter the number: B = \"))\n",
        "C = int(input(\"Enter the number: C = \"))\n",
        "AC = C - A\n",
        "BC = B - C\n",
        "print(f\"Cut length: AC = {AC}\"\n",
        "      f\"\\nCut lenght: BC = {BC}\"\n",
        "      f\"\\nMultiplication the two cut: AC * BC = {AC * BC}\")"
      ],
      "metadata": {
        "colab": {
          "base_uri": "https://localhost:8080/"
        },
        "id": "wdJlJHjdMZhL",
        "outputId": "f5e906aa-baf5-4866-8a76-17a4ac793fe9"
      },
      "execution_count": null,
      "outputs": [
        {
          "output_type": "stream",
          "name": "stdout",
          "text": [
            "Enter the number: A = 2\n",
            "Enter the number: B = 8\n",
            "Enter the number: C = 5\n",
            "Cut length: AC = 3\n",
            "Cut lenght: BC = 3\n",
            "Multiplication the two cut: AC - BC = 9\n"
          ]
        }
      ]
    },
    {
      "cell_type": "code",
      "source": [
        "# Begin 19 \n",
        "x = int(input(\"Enter the coordinates of the rectangle: x = \"))\n",
        "y = int(input(\"Enter the coordinates of the rectangle: y = \"))\n",
        "x1 = int(input(\"Enter the coordinates of the rectangle: x1 = \"))\n",
        "y1 = int(input(\"Enter the coordinates of the rectangle: y1 = \"))\n",
        "AB = x1 - x\n",
        "AD = y1 - y\n",
        "S = AB * AD\n",
        "P = 2 * (AB + AD)\n",
        "print(f\"Face of a right rectangle: S = {S}\"\n",
        "      f\"\\nPerimeter of a right rectangle: P = {P}\")"
      ],
      "metadata": {
        "colab": {
          "base_uri": "https://localhost:8080/"
        },
        "id": "t9tTX0iSNdr6",
        "outputId": "7cb1cff5-81de-49fe-beb5-972b544c02ac"
      },
      "execution_count": null,
      "outputs": [
        {
          "output_type": "stream",
          "name": "stdout",
          "text": [
            "Enter the coordinates of the rectangle: x = 1\n",
            "Enter the coordinates of the rectangle: y = 1\n",
            "Enter the coordinates of the rectangle: x1 = 4\n",
            "Enter the coordinates of the rectangle: y1 = 3\n",
            "Face of a right rectangle: S = 6\n",
            "Perimeter of a right rectangle: P = 10\n"
          ]
        }
      ]
    },
    {
      "cell_type": "code",
      "source": [
        "# Begin 20 \n",
        "x = int(input(\"Enter the coordinates of the plain: x = \"))\n",
        "y = int(input(\"Enter the coordinates of the plain: y = \"))\n",
        "x1 = int(input(\"Enter the coordinates of the plain: x1 = \"))\n",
        "y1 = int(input(\"Enter the coordinates of the plain: y1 = \"))\n",
        "distance = ((x1 - x) ** 2 + (y1 - y) ** 2) ** 0.5\n",
        "print(f\"The distance between two opoints on a plane: distance = {distance}\")"
      ],
      "metadata": {
        "colab": {
          "base_uri": "https://localhost:8080/"
        },
        "id": "RvaEa_FAQ8dK",
        "outputId": "c3586e0f-1a50-4ded-9fc4-5e7523fedfac"
      },
      "execution_count": null,
      "outputs": [
        {
          "output_type": "stream",
          "name": "stdout",
          "text": [
            "Enter the coordinates of the plain: x = 1\n",
            "Enter the coordinates of the plain: y = 1\n",
            "Enter the coordinates of the plain: x1 = 5\n",
            "Enter the coordinates of the plain: y1 = 4\n",
            "The distance between tw opoints on a plane: distance = 5.0\n"
          ]
        }
      ]
    },
    {
      "cell_type": "code",
      "source": [
        "# Begin 21\n",
        "x1 = int(input(\"Enter the coordinates of the triangle: x1 = \"))\n",
        "y1 = int(input(\"Enter the coordinates of the triangle: y1 = \"))\n",
        "x2 = int(input(\"Enter the coordinates of the triangle: x2 = \"))\n",
        "y2 = int(input(\"Enter the coordinates of the triangle: y2 = \"))\n",
        "x3 = int(input(\"Enter the coordinates of the triangle: x3 = \"))\n",
        "y3 = int(input(\"Enter the coordinates of the triangle: y3 = \"))\n",
        "A = ((x2 - x1) ** 2 + (y2 - y1) ** 2) ** 0.5\n",
        "B = ((x3 - x2) ** 2 + (y3 - y2) ** 2) ** 0.5\n",
        "C = ((x1 - x3) ** 2 + (y1 - y3) ** 2) ** 0.5\n",
        "P = (A + B + C) / 2\n",
        "S = (P * (P - A)* (P - B) * (P - C)) ** 0.5\n",
        "print(f\"The surface of the triangle: S = {S}\"\n",
        "      f\"\\nThe perimetry of the triangle: P = {P}\")"
      ],
      "metadata": {
        "colab": {
          "base_uri": "https://localhost:8080/"
        },
        "id": "qCkwYh8TTo3I",
        "outputId": "2a4f340f-e370-4a03-e0d3-d209facc0321"
      },
      "execution_count": null,
      "outputs": [
        {
          "output_type": "stream",
          "name": "stdout",
          "text": [
            "Enter the coordinates of the triangle: x1 = 1\n",
            "Enter the coordinates of the triangle: y1 = 1\n",
            "Enter the coordinates of the triangle: x2 = 4\n",
            "Enter the coordinates of the triangle: y2 = 1\n",
            "Enter the coordinates of the triangle: x3 = 1\n",
            "Enter the coordinates of the triangle: y3 = 5\n",
            "The surface of the triangle: S = 6.0\n",
            "The perimetry of the triangle: P = 6.0\n"
          ]
        }
      ]
    },
    {
      "cell_type": "code",
      "source": [
        "# Begin 22\n",
        "A = int(input(\"Enter the number: A = \"))\n",
        "B = int(input(\"Enter the number: B = \"))\n",
        "A = A + B\n",
        "B = A - B\n",
        "A = A - B\n",
        "print(f\"The number: A = {A}\"\n",
        "      f\"\\nThe number: B = {B}\")"
      ],
      "metadata": {
        "colab": {
          "base_uri": "https://localhost:8080/"
        },
        "id": "kPWsZt7ULXiy",
        "outputId": "3c03fcd7-514c-4896-a44c-3da3574a7d2e"
      },
      "execution_count": null,
      "outputs": [
        {
          "output_type": "stream",
          "name": "stdout",
          "text": [
            "Enter the number: A = 13\n",
            "Enter the number: B = 23\n",
            "The number: A = 23\n",
            "The number: B = 13\n"
          ]
        }
      ]
    },
    {
      "cell_type": "code",
      "source": [
        "# Begin 23\n",
        "A = int(input(\"Enter the number: A = \"))\n",
        "B = int(input(\"Enter the number: B = \"))\n",
        "C = int(input(\"Enter the number: C = \"))\n",
        "A = A + B + C\n",
        "B = A - B - C \n",
        "C = A - B - C\n",
        "A = A - B - C\n",
        "print(f\"The number: A = {A}\"\n",
        "      f\"\\nThe number: B = {B}\"\n",
        "      f\"\\nThe number: C = {C}\")"
      ],
      "metadata": {
        "colab": {
          "base_uri": "https://localhost:8080/"
        },
        "id": "1tubNpm6Ngaw",
        "outputId": "4260a24c-21cf-462e-ae7e-058c5eb732c5"
      },
      "execution_count": null,
      "outputs": [
        {
          "output_type": "stream",
          "name": "stdout",
          "text": [
            "Enter the number: A = 11\n",
            "Enter the number: B = 12\n",
            "Enter the number: C = 13\n",
            "The number: A = 13\n",
            "The number: B = 11\n",
            "The number: C = 12\n"
          ]
        }
      ]
    },
    {
      "cell_type": "code",
      "source": [
        "# Begin 24\n",
        "A = int(input(\"Enter the number: A = \"))\n",
        "B = int(input(\"Enter the number: B = \"))\n",
        "C = int(input(\"Enter the number: C = \"))\n",
        "A = A + B + C\n",
        "C = A - B - C \n",
        "B = A - B - C\n",
        "A = A - B - C\n",
        "print(f\"The number: A = {A}\"\n",
        "      f\"\\nThe number: B = {B}\"\n",
        "      f\"\\nThe number: C = {C}\")"
      ],
      "metadata": {
        "colab": {
          "base_uri": "https://localhost:8080/"
        },
        "id": "jlNsjMfePniC",
        "outputId": "c56676be-8cb2-4d48-bc29-c52eb449cd6e"
      },
      "execution_count": null,
      "outputs": [
        {
          "output_type": "stream",
          "name": "stdout",
          "text": [
            "Enter the number: A = 11\n",
            "Enter the number: B = 12\n",
            "Enter the number: C = 13\n",
            "The number: A = 12\n",
            "The number: B = 13\n",
            "The number: C = 11\n"
          ]
        }
      ]
    },
    {
      "cell_type": "code",
      "source": [
        "# Begin 25\n",
        "X = int(input(\"Enter the number: X = \"))\n",
        "Y = 3 * X ** 6 - 6 * X ** 2 - 7\n",
        "print(f\"The number: Y = {Y}\")"
      ],
      "metadata": {
        "colab": {
          "base_uri": "https://localhost:8080/"
        },
        "id": "mpGRtC8fQUt5",
        "outputId": "29335abe-118b-4dec-c653-26ae179fba2f"
      },
      "execution_count": null,
      "outputs": [
        {
          "output_type": "stream",
          "name": "stdout",
          "text": [
            "Enter the number: X = 1\n",
            "The number: Y = -10\n"
          ]
        }
      ]
    },
    {
      "cell_type": "code",
      "source": [
        "# Begin 26\n",
        "X = int(input(\"Enter the number: X = \"))\n",
        "Y = 4 * (X - 3) ** 6 - 7 * (X - 3) ** 3 + 2\n",
        "print(f\"The number: Y = {Y}\")"
      ],
      "metadata": {
        "colab": {
          "base_uri": "https://localhost:8080/"
        },
        "id": "qtyDlQlvTpka",
        "outputId": "a8c296f9-6b16-48a8-bbde-99fd2b1ada41"
      },
      "execution_count": null,
      "outputs": [
        {
          "output_type": "stream",
          "name": "stdout",
          "text": [
            "Enter the number: X = 1\n",
            "The number: Y = 314\n"
          ]
        }
      ]
    },
    {
      "cell_type": "code",
      "source": [
        "# Begin 27\n",
        "A = int(input(\"Enter the number: A = \"))\n",
        "A2 = A ** 2\n",
        "A4 = A ** 4\n",
        "A8 = A ** 8\n",
        "print(f\"The number: Y = {A2}\"\n",
        "      f\"\\nThe number: Y = {A4}\"\n",
        "      f\"\\nThe number: Y = {A8}\")"
      ],
      "metadata": {
        "id": "9X-Iwh9QUAw3",
        "colab": {
          "base_uri": "https://localhost:8080/"
        },
        "outputId": "d6c855c1-e5fd-4685-b98d-0a7fe994c961"
      },
      "execution_count": null,
      "outputs": [
        {
          "output_type": "stream",
          "name": "stdout",
          "text": [
            "Enter the number: A = 2\n",
            "The number: Y = 4\n",
            "The number: Y = 16\n",
            "The number: Y = 256\n"
          ]
        }
      ]
    },
    {
      "cell_type": "code",
      "source": [
        "# Begin 28\n",
        "A = int(input(\"Enter the number: A = \"))\n",
        "A2 = A ** 2\n",
        "A3 = A ** 3\n",
        "A5 = A ** 5\n",
        "A10 = A ** 10\n",
        "A15 = A ** 15\n",
        "print(f\"The number: Y = {A2}\"\n",
        "      f\"\\nThe number: Y = {A3}\"\n",
        "      f\"\\nThe number: Y = {A5}\"\n",
        "      f\"\\nThe number: Y = {A10}\"\n",
        "      f\"\\nThe number: Y = {A15}\")"
      ],
      "metadata": {
        "colab": {
          "base_uri": "https://localhost:8080/"
        },
        "id": "zaCi3U-EM0jQ",
        "outputId": "45c163b8-3272-4658-e99f-82698d84eab9"
      },
      "execution_count": null,
      "outputs": [
        {
          "output_type": "stream",
          "name": "stdout",
          "text": [
            "Enter the number: A = 2\n",
            "The number: Y = 4\n",
            "The number: Y = 8\n",
            "The number: Y = 32\n",
            "The number: Y = 1024\n",
            "The number: Y = 32768\n"
          ]
        }
      ]
    },
    {
      "cell_type": "code",
      "source": [
        "# Begin 29\n",
        "a = int(input(\"Enter the corner degree: a = \"))\n",
        "Pi = 3.14\n",
        "r = a * Pi / 180\n",
        "print(f\"The value of the given degree in radians: r = {r}\")"
      ],
      "metadata": {
        "colab": {
          "base_uri": "https://localhost:8080/"
        },
        "id": "LNMooiCaRDDi",
        "outputId": "5d395a8d-2d77-47b5-81e4-be38cc91c132"
      },
      "execution_count": null,
      "outputs": [
        {
          "output_type": "stream",
          "name": "stdout",
          "text": [
            "Enter the corner degree: a = 360\n",
            "The value of the given degree in radians: r = 6.28\n"
          ]
        }
      ]
    },
    {
      "cell_type": "code",
      "source": [
        "# Begin 30\n",
        "r = float(input(\"Enter the corner radian: r = \"))\n",
        "Pi = 3.14\n",
        "a = r * 180 / Pi \n",
        "print(f\"The value of the given radians in degree: a = {a}\")"
      ],
      "metadata": {
        "colab": {
          "base_uri": "https://localhost:8080/"
        },
        "id": "12pSklXYSziM",
        "outputId": "712a1d73-1b5d-4151-c2cc-2a9f94d92f86"
      },
      "execution_count": null,
      "outputs": [
        {
          "output_type": "stream",
          "name": "stdout",
          "text": [
            "Enter the corner radian: r = 6.28\n",
            "The value of the given radians in degree: a = 360.0\n"
          ]
        }
      ]
    },
    {
      "cell_type": "code",
      "source": [
        "# Begin 31\n",
        "Tf = float(input(\"Enter the Farengeyt: Tf = \"))\n",
        "Tc = (Tf - 32) * 5 / 9\n",
        "print(f\"The value of the Selsiy: Tc = {Tc}\")"
      ],
      "metadata": {
        "colab": {
          "base_uri": "https://localhost:8080/"
        },
        "id": "gs9PBtxrTqHX",
        "outputId": "f6cd5893-8ada-4d13-8458-a77708bc182e"
      },
      "execution_count": null,
      "outputs": [
        {
          "output_type": "stream",
          "name": "stdout",
          "text": [
            "Enter the Farengeyt: Tf = 68\n",
            "The value of the Selsiy: Tc = 20.0\n"
          ]
        }
      ]
    },
    {
      "cell_type": "code",
      "source": [
        "# Begin 32\n",
        "Tc = float(input(\"Enter the Selsiy: Tc = \"))\n",
        "Tf = Tc * 9 / 5 + 32\n",
        "print(f\"The value of the Farengeyt: Tc = {Tf}\")"
      ],
      "metadata": {
        "colab": {
          "base_uri": "https://localhost:8080/"
        },
        "id": "8iX6lk-nVGUN",
        "outputId": "a07623d2-bebf-48f8-f73a-1ca1f8c7a469"
      },
      "execution_count": null,
      "outputs": [
        {
          "output_type": "stream",
          "name": "stdout",
          "text": [
            "Enter the Selsiy: Tc = 20\n",
            "The value of the Farengeyt: Tc = 68.0\n"
          ]
        }
      ]
    },
    {
      "cell_type": "code",
      "source": [
        "# Begin 33\n",
        "X = float(input(\"Enter the kilograms: X = \"))\n",
        "A = float(input(f\"Enter the price of {X} kilograms of candy: A = \"))\n",
        "Y = float(input(f\"Enter how much the candy will cost: Y = \"))\n",
        "price = A / X\n",
        "sum = price * Y\n",
        "print(f\"Price of 1 kilogram of candy: price = {price}\"\n",
        "      f\"\\nPrice of {Y} kilogram of candy: sum = {sum}\")"
      ],
      "metadata": {
        "colab": {
          "base_uri": "https://localhost:8080/"
        },
        "id": "JzSXQRUxVbAM",
        "outputId": "058e236e-7093-4fa7-9188-fa8a7b1620dc"
      },
      "execution_count": null,
      "outputs": [
        {
          "output_type": "stream",
          "name": "stdout",
          "text": [
            "Enter the kilograms: X = 2\n",
            "Enter the price of 2.0 kilograms of candy: A = 10000\n",
            "Enter how much the candy will cost: Y = 6\n",
            "Price of 1 kilogram of candy: price = 5000.0\n",
            "Price of 6.0 kilogram of candy: sum = 30000.0\n"
          ]
        }
      ]
    },
    {
      "cell_type": "code",
      "source": [
        "# Begin 34\n",
        "X = float(input(\"Enter the kilograms: X = \"))\n",
        "A = float(input(f\"Enter the price of {X} kilograms of chocolate: A = \"))\n",
        "Y = float(input(\"Enter the kilograms: X = \"))\n",
        "B = float(input(f\"Enter the price of {X} kilograms of candy: A = \"))\n",
        "price_chocolate = A / X\n",
        "price_candy = B / Y\n",
        "sum = price_chocolate - price_candy\n",
        "print(f\"1 kilogram of chocolate costs {sum} sums more than 1 kilogram of confetti\")"
      ],
      "metadata": {
        "colab": {
          "base_uri": "https://localhost:8080/"
        },
        "id": "HlZ0Kc4aVaxF",
        "outputId": "a78d362a-e65b-4758-8ec6-50fb124e7125"
      },
      "execution_count": null,
      "outputs": [
        {
          "output_type": "stream",
          "name": "stdout",
          "text": [
            "Enter the kilograms: X = 2\n",
            "Enter the price of 2.0 kilograms of chocolate: A = 10\n",
            "Enter the kilograms: X = 3\n",
            "Enter the price of 2.0 kilograms of candy: A = 9\n",
            "1 kilogram of chocolate costs 2.0 sums more than 1 kilogram of confetti\n"
          ]
        }
      ]
    },
    {
      "cell_type": "code",
      "source": [
        "# Begin 35\n",
        "V = float(input(f\"Enter the speed of the boat: V = \"))\n",
        "U = float(input(f\"Enter the speed of the river: (V > U) U = \"))\n",
        "T1 = float(input(f\"Enter the flow time: T1 = \"))\n",
        "T2 = float(input(f\"Enter the time to move upstream: T2 = \"))\n",
        "S = (V + U) * T1 + (V - U) * T2\n",
        "print(f\"The path taken by the boat: S = {S}\")"
      ],
      "metadata": {
        "colab": {
          "base_uri": "https://localhost:8080/"
        },
        "id": "Hv_f7_3dVagt",
        "outputId": "d259bade-b4ce-4992-c022-637b39c2ade0"
      },
      "execution_count": null,
      "outputs": [
        {
          "output_type": "stream",
          "name": "stdout",
          "text": [
            "Enter the speed of the boat: V = 20\n",
            "Enter the speed of the river: (V > U) U = 10\n",
            "Enter the flow time: T1 = 2\n",
            "Enter the time to move upstream: T2 = 3\n",
            "The path taken by the boat: S = 90.0\n"
          ]
        }
      ]
    },
    {
      "cell_type": "code",
      "source": [
        "# Begin 36\n",
        "V1 = float(input(f\"Enter the speed of the first car: V1 = \"))\n",
        "V2 = float(input(f\"Enter the speed of the first car: V2 = \"))\n",
        "S = float(input(f\"The distance between: S = \"))\n",
        "T = float(input(f\"Enter the time: T = \"))\n",
        "M = (V1 + V2) * T + S\n",
        "print(f\"The distance between: M = {M}\")"
      ],
      "metadata": {
        "colab": {
          "base_uri": "https://localhost:8080/"
        },
        "id": "vz1hW4EedYkx",
        "outputId": "79670a4e-c248-4138-e844-28ae77d8a054"
      },
      "execution_count": null,
      "outputs": [
        {
          "output_type": "stream",
          "name": "stdout",
          "text": [
            "Enter the speed of the first car: V1 = 15\n",
            "Enter the speed of the first car: V2 = 10\n",
            "The distance between: S = 30\n",
            "Enter the time: T = 4\n",
            "The distance between: M = 130.0\n"
          ]
        }
      ]
    },
    {
      "cell_type": "code",
      "source": [
        "# Begin 37\n",
        "V1 = float(input(f\"Enter the speed of the first car: V1 = \"))\n",
        "V2 = float(input(f\"Enter the speed of the first car: V2 = \"))\n",
        "S = float(input(f\"The distance between: S = \"))\n",
        "T = float(input(f\"Enter the time: T = \"))\n",
        "M = S - (V1 + V2) * T \n",
        "print(f\"The distance between: M = {M}\")"
      ],
      "metadata": {
        "colab": {
          "base_uri": "https://localhost:8080/"
        },
        "id": "ot7MlfiufHQ1",
        "outputId": "3e12b50d-b72f-47e9-bb33-dbc10c1927fd"
      },
      "execution_count": null,
      "outputs": [
        {
          "output_type": "stream",
          "name": "stdout",
          "text": [
            "Enter the speed of the first car: V1 = 15\n",
            "Enter the speed of the first car: V2 = 10\n",
            "The distance between: S = 100\n",
            "Enter the time: T = 3\n",
            "The distance between: M = 25.0\n"
          ]
        }
      ]
    },
    {
      "cell_type": "code",
      "source": [
        "# Begin 38\n",
        "A = float(input(\"Enter the coefficient: (A != 0) A = \"))\n",
        "B = float(input(\"Enter the coefficient: B = \"))\n",
        "X = (B / A) * (-1) \n",
        "print(X)\n",
        "print(f\"A * X + B = {A * X + B}\")"
      ],
      "metadata": {
        "colab": {
          "base_uri": "https://localhost:8080/"
        },
        "id": "kBVg_k2NfHNJ",
        "outputId": "35649129-c0e3-4da3-f4d0-cd57c6a57aef"
      },
      "execution_count": null,
      "outputs": [
        {
          "output_type": "stream",
          "name": "stdout",
          "text": [
            "Enter the coefficient: (A != 0) A = 2\n",
            "Enter the coefficient: B = 6\n",
            "-0.3333333333333333\n",
            "A * X + B = 5.333333333333333\n"
          ]
        }
      ]
    },
    {
      "cell_type": "code",
      "source": [
        "# Begin 39\n",
        "A = float(input(\"Enter the coefficient: (A != 0) A = \"))\n",
        "B = float(input(\"Enter the coefficient: B = \"))\n",
        "C = float(input(\"Enter the coefficient: C = \"))\n",
        "D = B ** 2 - 4 * A * C\n",
        "print(f\"D = {D}\")\n",
        "x1 = ((-B) + D ** 0.5) / (2 * A)\n",
        "x2 = ((-B) - D ** 0.5) / (2 * A)\n",
        "print(f\"A * x1 ** 2 + B * x + C = {A * x1 ** 2 + B * x1 + C}, x1 = {x1}\")\n",
        "print(f\"A * x2 ** 2 + B * x + C = {A * x2 ** 2 + B * x2 + C}, x2 = {x2}\")"
      ],
      "metadata": {
        "colab": {
          "base_uri": "https://localhost:8080/"
        },
        "id": "RMsFV0E2fG8b",
        "outputId": "7dc3e2e9-bc98-40a5-c5a1-9f17976c3100"
      },
      "execution_count": null,
      "outputs": [
        {
          "output_type": "stream",
          "name": "stdout",
          "text": [
            "Enter the coefficient: (A != 0) A = 2\n",
            "Enter the coefficient: B = -10\n",
            "Enter the coefficient: C = 12\n",
            "D = 4.0\n",
            "A * x1 ** 2 + B * x + C = 0.0, x1 = 3.0\n",
            "A * x2 ** 2 + B * x + C = 0.0, x2 = 2.0\n"
          ]
        }
      ]
    },
    {
      "cell_type": "code",
      "source": [
        "# Begin 40\n",
        "A1 = float(input(\"Enter the coefficient: A1 = \"))\n",
        "B1 = float(input(\"Enter the coefficient: B1 = \"))\n",
        "C1 = float(input(\"Enter the coefficient: C1 = \"))\n",
        "A2 = float(input(\"Enter the coefficient: A2 = \"))\n",
        "B2 = float(input(\"Enter the coefficient: B2 = \"))\n",
        "C2 = float(input(\"Enter the coefficient: C2 = \"))\n",
        "D = A1 * B2 - A2 * B1\n",
        "y = (A1 * C2 - A2 * C1) / D\n",
        "x = (C1 * B2 - C2 * B1) / D \n",
        "c1 = A1 * x + B1 * y\n",
        "c2 = A2 * x + B2 * y\n",
        "print(f\"D = {(A1 * B2 - A2 * B1)}, D = {D}\")\n",
        "print(f\"y = {(A1 * C2 - A2 * C1) / D}, y = {y}\")\n",
        "print(f\"x = {(C1 * B2 - C2 * B1) / D}, x = {x}\")\n",
        "print(f\"C1 = {A1 * x + B1 * y}, C1 = {c1}\")\n",
        "print(f\"C2 = {A1 * x + B1 * y}, C1 = {c2}\")"
      ],
      "metadata": {
        "colab": {
          "base_uri": "https://localhost:8080/"
        },
        "id": "iIPpLPp3fGdg",
        "outputId": "dbf2835d-7dad-4607-f0fa-66b6613f7a10"
      },
      "execution_count": null,
      "outputs": [
        {
          "output_type": "stream",
          "name": "stdout",
          "text": [
            "Enter the coefficient: A1 = 1\n",
            "Enter the coefficient: B1 = -9\n",
            "Enter the coefficient: C1 = 11\n",
            "Enter the coefficient: A2 = 2\n",
            "Enter the coefficient: B2 = -10\n",
            "Enter the coefficient: C2 = 12\n",
            "D = 8.0, D = 8.0\n",
            "y = -1.25, y = -1.25\n",
            "x = -0.25, x = -0.25\n",
            "C1 = 11.0, C1 = 11.0\n",
            "C2 = 11.0, C1 = 12.0\n"
          ]
        }
      ]
    }
  ]
}